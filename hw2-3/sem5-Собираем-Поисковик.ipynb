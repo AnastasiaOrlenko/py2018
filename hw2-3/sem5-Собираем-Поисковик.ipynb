{
 "cells": [
  {
   "cell_type": "markdown",
   "metadata": {},
   "source": [
    "# Семинар 5    \n",
    "## Собираем поисковик \n",
    "\n",
    "![](https://bilimfili.com/wp-content/uploads/2017/06/bir-urune-emek-vermek-o-urune-olan-deger-algimizi-degistirir-mi-bilimfilicom.jpg) \n",
    "\n",
    "\n",
    "Мы уже все знаем, для того чтобы сделать поисковик. Осталось соединить все части вместе.    \n",
    "Итак, для поисковика нам понадобятся:         \n",
    "**1. База документов **\n",
    "> в первом дз - корпус Друзей    \n",
    "в сегодняшнем дз - корпус юридических вопросов-ответов    \n",
    "в итоговом проекте - корпус Авито   \n",
    "\n",
    "**2. Функция индексации**                 \n",
    "Что делает: собирает информацию о корпусе, по которуму будет происходить поиск      \n",
    "Своя для каждого поискового метода:       \n",
    "> A. для обратного индекса она создает обратный индекс (чудо) и сохраняет статистики корпуса, необходимые для Okapi BM25 (средняя длина документа в коллекции, количество доков ... )             \n",
    "> B. для поиска через word2vec эта функция создает вектор для каждого документа в коллекции путем, например, усреднения всех векторов коллекции       \n",
    "> C. для поиска через doc2vec эта функция создает вектор для каждого документа               \n",
    "\n",
    "   Не забывайте сохранить все, что насчитает эта функция. Если это будет происходить налету во время поиска, понятно, что он будет работать сто лет     \n",
    "   \n",
    "**3. Функция поиска**     \n",
    "Можно разделить на две части:\n",
    "1. функция вычисления близости между запросом и документом    \n",
    "> 1. для индекса это Okapi BM25\n",
    "> 2. для w2v и d2v это обычная косинусная близость между векторами          \n",
    "2. ранжирование (или просто сортировка)\n",
    "\n",
    "\n",
    "Время все это реализовать."
   ]
  },
  {
   "cell_type": "markdown",
   "metadata": {},
   "source": [
    "# Индексация\n",
    "## Word2Vec\n",
    "### Задание 1\n",
    "Загрузите любую понравившуюся вам word2vec модель"
   ]
  },
  {
   "cell_type": "code",
   "execution_count": 1,
   "metadata": {},
   "outputs": [],
   "source": [
    "from gensim.models import Word2Vec, KeyedVectors\n",
    "w2v_path = 'models/ru.bin'\n",
    "d2v_path = 'models/d2v.bin'\n",
    "bm25_path = 'models/bm25.bin'\n",
    "\n",
    "models = {}\n",
    "vectors = {}"
   ]
  },
  {
   "cell_type": "code",
   "execution_count": 4,
   "metadata": {},
   "outputs": [],
   "source": [
    "# если модель без тэгов\n",
    "models['w2v'] = Word2Vec.load(w2v_path)"
   ]
  },
  {
   "cell_type": "code",
   "execution_count": 2,
   "metadata": {},
   "outputs": [
    {
     "ename": "NameError",
     "evalue": "name 'model_path' is not defined",
     "output_type": "error",
     "traceback": [
      "\u001b[0;31m---------------------------------------------------------------------------\u001b[0m",
      "\u001b[0;31mNameError\u001b[0m                                 Traceback (most recent call last)",
      "\u001b[0;32m<ipython-input-2-964027421995>\u001b[0m in \u001b[0;36m<module>\u001b[0;34m()\u001b[0m\n\u001b[1;32m      1\u001b[0m \u001b[0;31m# если модель с POS-тэггингом\u001b[0m\u001b[0;34m\u001b[0m\u001b[0;34m\u001b[0m\u001b[0m\n\u001b[0;32m----> 2\u001b[0;31m \u001b[0mmodels\u001b[0m\u001b[0;34m[\u001b[0m\u001b[0;34m'w2v'\u001b[0m\u001b[0;34m]\u001b[0m \u001b[0;34m=\u001b[0m \u001b[0mKeyedVectors\u001b[0m\u001b[0;34m.\u001b[0m\u001b[0mload_word2vec_format\u001b[0m\u001b[0;34m(\u001b[0m\u001b[0mmodel_path\u001b[0m\u001b[0;34m,\u001b[0m \u001b[0mbinary\u001b[0m\u001b[0;34m=\u001b[0m\u001b[0;32mFalse\u001b[0m\u001b[0;34m)\u001b[0m\u001b[0;34m\u001b[0m\u001b[0m\n\u001b[0m",
      "\u001b[0;31mNameError\u001b[0m: name 'model_path' is not defined"
     ]
    }
   ],
   "source": [
    "# если модель с POS-тэггингом\n",
    "#models['w2v'] = KeyedVectors.load_word2vec_format(w2v_path, binary=False)"
   ]
  },
  {
   "cell_type": "markdown",
   "metadata": {},
   "source": [
    "### Задание 2 \n",
    "Напишите функцию индексации для поиска через word2vec. Она должна для каждого документа из корпуса строить вектор.   \n",
    "Все вектора надо сохранить, по формату советую json. При сохранении не забывайте, что вам надо сохранить не только  вектор, но и опознователь текста, которому он принадлежит. \n",
    "Для поисковика это может быть url страницы, для поиска по текстовому корпусу сам текст.\n",
    "\n",
    "> В качестве документа для word2vec берите **параграфы** исходного текста, а не весь текст целиком. Так вектора будут более осмысленными. В противном случае можно получить один очень общий вектор, релевантый совершенно разным запросам."
   ]
  },
  {
   "cell_type": "code",
   "execution_count": 2,
   "metadata": {},
   "outputs": [
    {
     "name": "stdout",
     "output_type": "stream",
     "text": [
      "5261\n"
     ]
    }
   ],
   "source": [
    "from os import listdir, remove\n",
    "from os.path import isfile, join\n",
    "import codecs\n",
    "import json\n",
    "from load_functions import *\n",
    "   \n",
    "def load_docs(files):\n",
    "    docs = []\n",
    "    for file in files:\n",
    "        file = codecs.open(join('./database/', file), 'r', 'utf-8')\n",
    "        docs.append(json.load(file))\n",
    "    return docs\n",
    "\n",
    "def paragraphs(docs):\n",
    "    for index, doc in enumerate(docs):\n",
    "        for par in doc['paragraphs']:\n",
    "            yield index, par\n",
    "\n",
    "files = load_indexing()\n",
    "docs = load_docs(files)\n",
    "print(len(files))"
   ]
  },
  {
   "cell_type": "code",
   "execution_count": 3,
   "metadata": {},
   "outputs": [
    {
     "name": "stdout",
     "output_type": "stream",
     "text": [
      "done preprocessing\n"
     ]
    }
   ],
   "source": [
    "import re\n",
    "import pymorphy2\n",
    "\n",
    "w = re.compile('[A-zА-я]+')\n",
    "morph = pymorphy2.MorphAnalyzer()\n",
    "\n",
    "def get_words(text):\n",
    "    words = w.findall(text)\n",
    "    words = [morph.parse(w.lower())[0].normal_form for w in words]\n",
    "    return words\n",
    "\n",
    "def count_words(text):\n",
    "    words = {}\n",
    "    indoc = get_words(text)\n",
    "    for word in indoc:\n",
    "        word = word.lower()\n",
    "        if word not in words:\n",
    "            words[word] = 0\n",
    "        words[word] = words[word] + 1\n",
    "    return words\n",
    "\n",
    "def preprocessing(docs):\n",
    "    for doc in docs:\n",
    "        if 'paragraphs' in doc:\n",
    "            continue\n",
    "        text = doc['text']\n",
    "        new_doc = []\n",
    "        for line in text.split('\\n'):\n",
    "            words = count_words(line)\n",
    "            if len(words) > 0:\n",
    "                new_doc.append(words)\n",
    "        i = 0\n",
    "        while i < len(new_doc) - 1:\n",
    "            it, next = new_doc[i], new_doc[i+1]\n",
    "            if len(it) + len(next) < 20:\n",
    "                it.update(next)\n",
    "                del new_doc[i+1]\n",
    "            else:\n",
    "                i += 1\n",
    "        new_doc.insert(0, count_words(doc['title']))\n",
    "        doc['paragraphs'] = new_doc\n",
    "\n",
    "def get_w2v_vector(words):\n",
    "    vec = [0 for i in range(models['w2v'].vector_size)]\n",
    "    size = 0\n",
    "    for word, count in words.items():\n",
    "        if word not in models['w2v'].wv:\n",
    "            continue\n",
    "        size += count\n",
    "        wv = models['w2v'].wv[word]\n",
    "        vec = [vec[i] + wv[i] * count for i in range(len(vec))]\n",
    "    if size == 0:\n",
    "        return None\n",
    "    return [i / size for i in vec]\n",
    "        \n",
    "def get_w2v_vectors(docs):\n",
    "    vectors = []\n",
    "    for index, par in paragraphs(docs):        \n",
    "        vec = get_w2v_vector(par)\n",
    "        if vec:\n",
    "            vectors.append((index, vec))\n",
    "    \n",
    "    return vectors\n",
    "\n",
    "def save_w2v_base(vectors):\n",
    "    cpy = []\n",
    "    for vec in vectors:\n",
    "        cpy.append((vec[0], [round(i, 6) for i in vec[1]]))\n",
    "    file = codecs.open('w2v_base.bin', 'w', 'utf-8')\n",
    "    file.write(json.dumps(cpy, indent=1))\n",
    "    file.flush()\n",
    "    file.close()\n",
    "\n",
    "preprocessing(docs)\n",
    "print('done preprocessing')"
   ]
  },
  {
   "cell_type": "code",
   "execution_count": 17,
   "metadata": {},
   "outputs": [
    {
     "name": "stdout",
     "output_type": "stream",
     "text": [
      "21192\n"
     ]
    }
   ],
   "source": [
    "vectors['w2v'] = get_w2v_vectors(docs)\n",
    "print(len(vectors['w2v']))\n",
    "save_w2v_base(vectors['w2v'])"
   ]
  },
  {
   "cell_type": "markdown",
   "metadata": {},
   "source": [
    "## Doc2Vec\n",
    "### Задание 3\n",
    "Напишите функцию обучения doc2vec на юридических текстах, и получите свою кастомную d2v модель. \n",
    "> Совет: есть мнение, что для обучения doc2vec модели не нужно удалять стоп-слова из корпуса. Они являются важными семантическими элементами.      \n",
    "\n",
    "Важно! В качестве документа для doc2vec берите **параграфы** исходного текста, а не весь текст целиком. И не забывайте про предобработку."
   ]
  },
  {
   "cell_type": "code",
   "execution_count": 19,
   "metadata": {},
   "outputs": [],
   "source": [
    "from gensim.models.doc2vec import TaggedDocument, Doc2Vec\n",
    "import logging\n",
    "#logging.basicConfig(format='%(asctime)s : %(levelname)s : %(message)s', level=logging.INFO)\n",
    "\n",
    "def train_doc2vec(docs):\n",
    "    tagged = []\n",
    "    for index, par in paragraphs(docs):        \n",
    "        td = TaggedDocument(words=list(par.keys()), tags=[index])\n",
    "        tagged.append(td)\n",
    "\n",
    "    d2v_model = Doc2Vec(vector_size=100, alpha=0.025, min_count=2, dm=1)\n",
    "    d2v_model.build_vocab(tagged)\n",
    "    for epoch in range(50):\n",
    "        d2v_model.train(tagged,\n",
    "                    total_examples=d2v_model.corpus_count,\n",
    "                    epochs=d2v_model.epochs)\n",
    "        # decrease the learning rate\n",
    "        d2v_model.alpha -= 0.0002\n",
    "        # fix the learning rate, no decay\n",
    "        d2v_model.min_alpha = d2v_model.alpha\n",
    "    \n",
    "    d2v_model.save(d2v_path)\n",
    "    return d2v_model"
   ]
  },
  {
   "cell_type": "code",
   "execution_count": 20,
   "metadata": {},
   "outputs": [],
   "source": [
    "models['d2v'] = train_doc2vec(docs)\n",
    "#models['d2v'] = Doc2Vec.load(d2v_path)"
   ]
  },
  {
   "cell_type": "markdown",
   "metadata": {},
   "source": [
    "### Задание 4\n",
    "Напишите функцию индексации для поиска через doc2vec. Она должна для каждого документа из корпуса получать вектор.    \n",
    "Все вектора надо сохранить, по формату советую json. При сохранении не забывайте, что вам надо сохранить не только вектор, но и опознователь текста, которому он принадлежит. "
   ]
  },
  {
   "cell_type": "code",
   "execution_count": 25,
   "metadata": {},
   "outputs": [],
   "source": [
    "def get_d2v_vectors(docs):\n",
    "    vectors = []\n",
    "    for index, par in paragraphs(docs):        \n",
    "        vec = models['d2v'].infer_vector(list(par.keys()), epochs=10)\n",
    "        vec = [float(f) for f in vec]\n",
    "        vectors.append((index, vec))\n",
    "    return vectors\n",
    "\n",
    "def save_d2v_base(vectors):\n",
    "    cpy = []\n",
    "    for vec in vectors:\n",
    "        cpy.append((vec[0], [round(i, 6) for i in vec[1]]))\n",
    "    file = codecs.open('d2v_base.bin', 'w', 'utf-8')\n",
    "    file.write(json.dumps(cpy, indent=1))\n",
    "    file.flush()\n",
    "    file.close()"
   ]
  },
  {
   "cell_type": "code",
   "execution_count": 26,
   "metadata": {},
   "outputs": [
    {
     "name": "stdout",
     "output_type": "stream",
     "text": [
      "23055\n"
     ]
    }
   ],
   "source": [
    "vectors['d2v'] = get_d2v_vectors(docs)\n",
    "print(len(vectors['d2v']))\n",
    "save_d2v_base(vectors['d2v'])"
   ]
  },
  {
   "cell_type": "markdown",
   "metadata": {},
   "source": [
    "# Функция поиска"
   ]
  },
  {
   "cell_type": "markdown",
   "metadata": {},
   "source": [
    "Для обратного индекса функцией поиска является Okapi BM25. Она у вас уже должна быть реализована."
   ]
  },
  {
   "cell_type": "code",
   "execution_count": 21,
   "metadata": {},
   "outputs": [
    {
     "name": "stdout",
     "output_type": "stream",
     "text": [
      "loaded\n"
     ]
    }
   ],
   "source": [
    "\n",
    "\n",
    "import importlib\n",
    "import bm25.parse\n",
    "import bm25.query\n",
    "importlib.reload(bm25.parse)\n",
    "importlib.reload(bm25.query)\n",
    "\n",
    "from bm25.query import QueryProcessor\n",
    "from bm25.parse import Corpus\n",
    "\n",
    "def build_inv_index(docs):\n",
    "    corp = Corpus()\n",
    "    for index, par in paragraphs(docs):\n",
    "        corp.add(index, list(par.keys()))\n",
    "    \n",
    "    proc = QueryProcessor(corp)\n",
    "    proc.save(bm25_path)\n",
    "    return proc\n",
    "\n",
    "models['bm25'] = build_inv_index(docs)\n",
    "#models['bm25'] = QueryProcessor.load(bm25_path)\n",
    "print('loaded')"
   ]
  },
  {
   "cell_type": "markdown",
   "metadata": {},
   "source": [
    "Функция измерения близости между векторами нам пригодится:"
   ]
  },
  {
   "cell_type": "code",
   "execution_count": 43,
   "metadata": {},
   "outputs": [],
   "source": [
    "from gensim import matutils\n",
    "import numpy as np \n",
    "\n",
    "def similarity(v1, v2):\n",
    "    v1_norm = matutils.unitvec(np.array(v1))\n",
    "    v2_norm = matutils.unitvec(np.array(v2))\n",
    "    return np.dot(v1_norm, v2_norm)"
   ]
  },
  {
   "cell_type": "markdown",
   "metadata": {},
   "source": [
    "### Задание 5\n",
    "Напишите функцию для поиска через word2vec и для поиска через doc2vec, которая по входящему запросу выдает отсортированную выдачу документов."
   ]
  },
  {
   "cell_type": "code",
   "execution_count": 1,
   "metadata": {},
   "outputs": [],
   "source": [
    "def search_w2v(document):    \n",
    "    vec = get_w2v_vector(count_words(document))\n",
    "    results = [(i, similarity(w2v_vec, vec)) for i, w2v_vec in enumerate(vectors['w2v'])]\n",
    "    results.sort(key = lambda x: x[1], reversed=True)\n",
    "    return results\n",
    "\n",
    "def search_d2v(document):\n",
    "    vec = models['d2v'].infer_vector(get_words(document), epochs=10)\n",
    "    vec = [float(f) for f in vec]\n",
    "    results = [(i, similarity(d2v_vec, vec)) for i, d2v_vec in enumerate(vectors['d2v'])]\n",
    "    results.sort(key = lambda x: x[1], reversed=True)\n",
    "    return results\n",
    "\n",
    "def search_inv_index(document):\n",
    "    results = models['bm25'].run_query(get_words(document))\n",
    "    return results"
   ]
  },
  {
   "cell_type": "markdown",
   "metadata": {},
   "source": [
    "После выполнения всех этих заданий ваш поисковик готов, поздравляю!                  \n",
    "Осталось завернуть все написанное в питон скрипт, и сделать общую функцию поиска гибким, чтобы мы могли искать как по обратному индексу, так и по word2vec, так и по doc2vec.          \n",
    "Сделать это можно очень просто через старый добрый ``` if ```, который будет дергать ту или иную функцию поиска:"
   ]
  },
  {
   "cell_type": "code",
   "execution_count": null,
   "metadata": {},
   "outputs": [],
   "source": [
    "def search(text, search_method):\n",
    "    if search_method == 'inverted_index':\n",
    "        search_result = search_inv_index(text)\n",
    "    elif search_method == 'word2vec':\n",
    "        search_result = search_w2v(text)\n",
    "    elif search_method == 'doc2vec':\n",
    "        search_result = search_d2v(text)\n",
    "    else:\n",
    "        raise TypeError('unsupported search method')\n",
    "    print(search_result)"
   ]
  },
  {
   "cell_type": "code",
   "execution_count": null,
   "metadata": {},
   "outputs": [],
   "source": []
  }
 ],
 "metadata": {
  "kernelspec": {
   "display_name": "Python 3",
   "language": "python",
   "name": "python3"
  },
  "language_info": {
   "codemirror_mode": {
    "name": "ipython",
    "version": 3
   },
   "file_extension": ".py",
   "mimetype": "text/x-python",
   "name": "python",
   "nbconvert_exporter": "python",
   "pygments_lexer": "ipython3",
   "version": "3.5.2"
  }
 },
 "nbformat": 4,
 "nbformat_minor": 2
}

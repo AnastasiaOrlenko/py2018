{
 "cells": [
  {
   "cell_type": "markdown",
   "metadata": {},
   "source": [
    "# Отчет о проделанной работе\n",
    "\n",
    "Выводы.\n",
    "\n",
    "1. Достигнута точность 68.66%, что меньше требуемой 70%.\n",
    "2. Для формирования значимых признаков используется в основном subreddit и сверточная сеть для comment.\n",
    "3. Не используются незначимые признаки вроде author, а также текст основного  сообщения.\n",
    "4. Учет поверхностных признаков повысил точность на 0.66%, хотя сами по себе они дают точность примерно 58%.\n",
    "5. Переобучение сверточной сети небольшое, в пределах 2%, результат достигается на первых 5 итерациях. Сверточная сеть позволила получить удивительно хорошие результаты, выделенные признаки сарказма не кажутся очевидными.\n",
    "6. Время эпохи составляет примерно 15 минут, использование GPU не позволит ускорить решение задачи из-за затрат на кодирование и поиск ошибок.\n",
    "\n",
    "Для улучшения результатов можно попробовать увеличить размерность эмбеддингов, использовать текст сообщения для выделения возможных признаков с новыми фильтрами. \n",
    "\n",
    "Описание.\n",
    "\n",
    "Ячейки 163, 7 - Разведочный поиск показал, что признаки author, downs не коррелированы с целью, а признаки score, ups - почему-то только для отрицательных значений. Однако временные признаки - год, месяц, день недели, время суток немного влияют на уровень сарказма, вероятно определяя состав или настроение аудитории.\n",
    "\n",
    "90 - psub - заполняет словарь DICT для преобразования категориальных признаков в вещественные. Для этого на учебной выборке проводится группировка по данному признаку и в крупных группах  новый признак заменяется на среднее значение цели по группе, иначе - на ноль.\n",
    "Печатается 100 самых крупных групп: номер группы, число элементов в нец, имя группы, среднее значение цели. Строится график рассеяния по всем группам.  Видно, что признак subreddit является значимым, т.к. в некоторых группах сарказма занчительно больше чем в других. Есть и такие где его мало.\n",
    "Замена по этому же словарю DICT делается для тестовой выборки.\n",
    "Новый признак - subreddit\n",
    "\n",
    "26 - psr - повторяет функцию psub для score, ups но только для отрицательных значений категориального признака.  Значимость этого признака почему-то велика, но таких объектов нет так много.\n",
    "\n",
    "96 - формирует новые временные признаки\n",
    "\n",
    "97 - вычисляет новые временные признаки группировкой и усреднением цели через psr.\n",
    "\n",
    "93 - REPLACE - функция которая заменяет столбец по словарю DICT если значение меньше 0.\n",
    "\n",
    "90 - REP2 - функция которая заменяет столбец по словарю DICT если значение есть в словаре, иначе - 0.\n",
    "\n",
    "110,111 - читает признак, полученный из DL, заменяет его по словарю из index и помещает в столбец 'pt1'.\n",
    "\n",
    "118, 120 - выделение матриц сформированных признаков b целей для моделей, сохранение.\n",
    "\n",
    "121 - масштабирование матриц X_train, X_test.\n",
    "\n",
    "130 - использование логистической регрессии для построения модели на учебной выборке и получения точности прогноза на тестовой. Модель корректна, поскольку никак не использует информацию о тестовой выборке.\n",
    "\n",
    "2 - Загрузка PyTorch библиотек и токенизатора\n",
    "\n",
    "46 - Загрузка датасетов, разбитых на учебную и тестовую выборку.\n",
    "\n",
    "48 - Модель сверточной сети. Используется два полносвязных слоя на 100 и 20 нейронов, без них выделения значимых признаков не происходит.\n",
    "Используются эмбеддинги glove.6B.100d, проводится их дообучение.\n",
    "\n",
    "84 - функции обучения и тестирования сети train, evaluate.\n",
    "\n",
    "86 - запуск сети с выбором лучшего значения и сохранением результата.\n",
    "Запись результата работы сети в виде прогноза с индексами в файлы train_pt.csv, test_pt.csv.\n"
   ]
  },
  {
   "cell_type": "code",
   "execution_count": 1,
   "metadata": {},
   "outputs": [],
   "source": [
    "import pandas as pd\n",
    "import numpy as np\n",
    "import time\n",
    "\n",
    "import matplotlib.pyplot as plt\n",
    "%matplotlib inline\n",
    "\n",
    "import seaborn as sns\n",
    "\n",
    "from pylab import rcParams\n",
    "rcParams['figure.figsize'] = 10, 8\n",
    "\n",
    "import warnings\n",
    "warnings.filterwarnings(\"ignore\")\n",
    "\n",
    "from sklearn.utils import shuffle\n",
    "\n",
    "from IPython.core.debugger import set_trace\n",
    "#set_trace()\n",
    "\n",
    "import logging\n",
    "logging.basicConfig(filename=\"pt.log\", level=logging.INFO)"
   ]
  },
  {
   "cell_type": "code",
   "execution_count": 2,
   "metadata": {},
   "outputs": [],
   "source": [
    "\n",
    "from sklearn.externals import joblib\n",
    "import nltk\n",
    "import gensim\n",
    "import spacy\n",
    "\n",
    "from sklearn import metrics\n",
    "\n",
    "import torch\n",
    "import torch.nn as nn\n",
    "import torch.nn.functional as F\n",
    "import torch.optim as optim\n",
    "#from torchsummary import summary\n",
    "\n",
    "from torchtext.data import Field, LabelField, BucketIterator, TabularDataset, Iterator\n",
    "\n",
    "import en_core_web_sm\n",
    "from sklearn import metrics\n",
    "\n",
    "\n",
    "SEED = 42\n",
    "np.random.seed(SEED)"
   ]
  },
  {
   "cell_type": "code",
   "execution_count": 87,
   "metadata": {},
   "outputs": [],
   "source": [
    "df = pd.read_csv('sarcasm.csv')\n",
    "      \n",
    "#    \"print(df.tail())\\n\",\n",
    "#    \"df.drop('id', 1, inplace=True)\\n\",\n",
    "#    \"df.drop('jaccard', 1, inplace=True)\\n\",\n",
    "#    \"#print(df.head())\"\n"
   ]
  },
  {
   "cell_type": "code",
   "execution_count": 4,
   "metadata": {},
   "outputs": [],
   "source": [
    "df = shuffle(df)\n",
    "df[1:1000].to_csv('3.csv', index=False)\n",
    "df[1:10000].to_csv('4.csv', index=False)\n",
    "df[1:100000].to_csv('5.csv', index=False)"
   ]
  },
  {
   "cell_type": "code",
   "execution_count": 5,
   "metadata": {},
   "outputs": [
    {
     "name": "stdout",
     "output_type": "stream",
     "text": [
      "label\n",
      "0    513\n",
      "1    486\n",
      "Name: label, dtype: int64\n",
      "label\n",
      "0    5015\n",
      "1    4984\n",
      "Name: label, dtype: int64\n",
      "label\n",
      "0    49880\n",
      "1    50119\n",
      "Name: label, dtype: int64\n"
     ]
    }
   ],
   "source": [
    "df3 = pd.read_csv('3.csv')\n",
    "df4 = pd.read_csv('4.csv')\n",
    "df5 = pd.read_csv('5.csv')\n",
    "print(df3.groupby('label')['label'].count())\n",
    "print(df4.groupby('label')['label'].count())\n",
    "print(df5.groupby('label')['label'].count())\n",
    "y3 = df3['label'].values\n",
    "y4 = df4['label'].values\n",
    "y5 = df5['label'].values\n",
    "y = df['label'].values\n",
    "y6 = df['label'].values"
   ]
  },
  {
   "cell_type": "code",
   "execution_count": 6,
   "metadata": {},
   "outputs": [],
   "source": [
    "s5 = df5.groupby('subreddit')['subreddit'].count()\n",
    "s6 = df.groupby('subreddit')['subreddit'].count()"
   ]
  },
  {
   "cell_type": "code",
   "execution_count": 13,
   "metadata": {},
   "outputs": [
    {
     "data": {
      "text/plain": [
       "(14878,)"
      ]
     },
     "execution_count": 13,
     "metadata": {},
     "output_type": "execute_result"
    }
   ],
   "source": [
    "s6.values.shape"
   ]
  },
  {
   "cell_type": "code",
   "execution_count": 7,
   "metadata": {},
   "outputs": [
    {
     "name": "stdout",
     "output_type": "stream",
     "text": [
      "[65677 39496 26377 21037 18988 17939 16891 16154 14161 14150] [  587 12604 14726 11282 12404 10255 12041 12492 14090 12056]\n"
     ]
    }
   ],
   "source": [
    "s61 = np.sort(s6.values)[::-1]\n",
    "i61 = np.argsort(s6.values)[::-1]\n",
    "print(s61[0:10], i61[0:10])"
   ]
  },
  {
   "cell_type": "code",
   "execution_count": 8,
   "metadata": {},
   "outputs": [],
   "source": [
    "xx = []\n",
    "yy = []\n",
    "for i in range(10000):\n",
    "    n1 = s61[i]\n",
    "    i1 = i61[i]\n",
    "    n2 = s6[i1]\n",
    "    sub = s6.index[i1]\n",
    "    s1 = df[df.subreddit == sub]['label'].values.mean()\n",
    "    #print(i, n1, i1, n2, sub, s1)\n",
    "    xx.append(np.log(n1))\n",
    "    yy.append(s1)"
   ]
  },
  {
   "cell_type": "code",
   "execution_count": 149,
   "metadata": {},
   "outputs": [
    {
     "data": {
      "image/png": "[encoded data removed]",
      "text/plain": [
       "<Figure size 720x576 with 1 Axes>"
      ]
     },
     "metadata": {
      "needs_background": "light"
     },
     "output_type": "display_data"
    }
   ],
   "source": [
    "sns.regplot(xx, yy, scatter_kws={'alpha':0.5}, line_kws={'color': 'red'});"
   ]
  },
  {
   "cell_type": "code",
   "execution_count": 9,
   "metadata": {},
   "outputs": [
    {
     "name": "stdout",
     "output_type": "stream",
     "text": [
      "[845 432 422 404 342 318 302 300 252 251] [ 14907 218697  85051 109459 188433 201605 205649  20835  22673 232025]\n"
     ]
    }
   ],
   "source": [
    "a6 = df.groupby('author')['author'].count()\n",
    "a61 = np.sort(a6.values)[::-1]\n",
    "i61 = np.argsort(a6.values)[::-1]\n",
    "print(a61[0:10], i61[0:10])"
   ]
  },
  {
   "cell_type": "code",
   "execution_count": 162,
   "metadata": {},
   "outputs": [],
   "source": [
    "xx = []\n",
    "yy = []\n",
    "for i in range(1000):\n",
    "    n1 = a61[i]\n",
    "    i1 = i61[i]\n",
    "    n2 = a6[i1]\n",
    "    sub = a6.index[i1]\n",
    "    s1 = df[df.author == sub]['label'].values.mean()\n",
    "    #print(i, n1, i1, n2, sub, s1)\n",
    "    xx.append(np.log(n1))\n",
    "    yy.append(s1)"
   ]
  },
  {
   "cell_type": "code",
   "execution_count": 10,
   "metadata": {},
   "outputs": [
    {
     "data": {
      "text/plain": [
       "(256561,)"
      ]
     },
     "execution_count": 10,
     "metadata": {},
     "output_type": "execute_result"
    }
   ],
   "source": [
    "a61.shape"
   ]
  },
  {
   "cell_type": "code",
   "execution_count": 163,
   "metadata": {},
   "outputs": [
    {
     "data": {
      "image/png": "[encoded data removed]",
      "text/plain": [
       "<Figure size 720x576 with 1 Axes>"
      ]
     },
     "metadata": {
      "needs_background": "light"
     },
     "output_type": "display_data"
    }
   ],
   "source": [
    "sns.regplot(xx, yy, scatter_kws={'alpha':0.5}, line_kws={'color': 'red'});"
   ]
  },
  {
   "cell_type": "code",
   "execution_count": null,
   "metadata": {},
   "outputs": [],
   "source": []
  },
  {
   "cell_type": "code",
   "execution_count": 94,
   "metadata": {},
   "outputs": [
    {
     "data": {
      "image/png": "[encoded data removed]",
      "text/plain": [
       "<Figure size 720x576 with 1 Axes>"
      ]
     },
     "metadata": {
      "needs_background": "light"
     },
     "output_type": "display_data"
    }
   ],
   "source": [
    "sns.distplot(s63);"
   ]
  },
  {
   "cell_type": "code",
   "execution_count": null,
   "metadata": {},
   "outputs": [],
   "source": []
  },
  {
   "cell_type": "code",
   "execution_count": 43,
   "metadata": {},
   "outputs": [
    {
     "data": {
      "text/html": [
       "<div>\n",
       "<style scoped>\n",
       "    .dataframe tbody tr th:only-of-type {\n",
       "        vertical-align: middle;\n",
       "    }\n",
       "\n",
       "    .dataframe tbody tr th {\n",
       "        vertical-align: top;\n",
       "    }\n",
       "\n",
       "    .dataframe thead th {\n",
       "        text-align: right;\n",
       "    }\n",
       "</style>\n",
       "<table border=\"1\" class=\"dataframe\">\n",
       "  <thead>\n",
       "    <tr style=\"text-align: right;\">\n",
       "      <th></th>\n",
       "      <th>label</th>\n",
       "      <th>comment</th>\n",
       "      <th>author</th>\n",
       "      <th>subreddit</th>\n",
       "      <th>score</th>\n",
       "      <th>ups</th>\n",
       "      <th>downs</th>\n",
       "      <th>date</th>\n",
       "      <th>created_utc</th>\n",
       "      <th>parent_comment</th>\n",
       "    </tr>\n",
       "  </thead>\n",
       "  <tbody>\n",
       "    <tr>\n",
       "      <th>0</th>\n",
       "      <td>0</td>\n",
       "      <td>Lol</td>\n",
       "      <td>dayman-mokaffe</td>\n",
       "      <td>nyjets</td>\n",
       "      <td>5</td>\n",
       "      <td>-1</td>\n",
       "      <td>-1</td>\n",
       "      <td>2016-11</td>\n",
       "      <td>2016-11-06 20:56:18</td>\n",
       "      <td>I'll be shocked if he doesnt throw a pick</td>\n",
       "    </tr>\n",
       "    <tr>\n",
       "      <th>1</th>\n",
       "      <td>1</td>\n",
       "      <td>Because Blizzard is a charity organization ded...</td>\n",
       "      <td>thatrotteneggsmell</td>\n",
       "      <td>hearthstone</td>\n",
       "      <td>8</td>\n",
       "      <td>8</td>\n",
       "      <td>0</td>\n",
       "      <td>2015-08</td>\n",
       "      <td>2015-08-22 12:32:08</td>\n",
       "      <td>Can anyone explain to me why Blizzard has to g...</td>\n",
       "    </tr>\n",
       "    <tr>\n",
       "      <th>2</th>\n",
       "      <td>0</td>\n",
       "      <td>If you can have no influence in the EU how wil...</td>\n",
       "      <td>lebron181</td>\n",
       "      <td>ukpolitics</td>\n",
       "      <td>3</td>\n",
       "      <td>3</td>\n",
       "      <td>0</td>\n",
       "      <td>2016-06</td>\n",
       "      <td>2016-06-22 19:33:50</td>\n",
       "      <td>And look at the difference it made, all that h...</td>\n",
       "    </tr>\n",
       "    <tr>\n",
       "      <th>3</th>\n",
       "      <td>1</td>\n",
       "      <td>Obviously that means she's a casual</td>\n",
       "      <td>Lolola2</td>\n",
       "      <td>survivor</td>\n",
       "      <td>12</td>\n",
       "      <td>12</td>\n",
       "      <td>0</td>\n",
       "      <td>2016-05</td>\n",
       "      <td>2016-05-06 10:45:36</td>\n",
       "      <td>Didn't even cross her mind about Michele winning.</td>\n",
       "    </tr>\n",
       "    <tr>\n",
       "      <th>4</th>\n",
       "      <td>1</td>\n",
       "      <td>Spoiler alert.</td>\n",
       "      <td>V2Blast</td>\n",
       "      <td>anime</td>\n",
       "      <td>1</td>\n",
       "      <td>1</td>\n",
       "      <td>0</td>\n",
       "      <td>2013-09</td>\n",
       "      <td>2013-09-09 08:27:19</td>\n",
       "      <td>Well, considering that I don't see Eren and Mi...</td>\n",
       "    </tr>\n",
       "  </tbody>\n",
       "</table>\n",
       "</div>"
      ],
      "text/plain": [
       "   label                                            comment  \\\n",
       "0      0                                                Lol   \n",
       "1      1  Because Blizzard is a charity organization ded...   \n",
       "2      0  If you can have no influence in the EU how wil...   \n",
       "3      1                Obviously that means she's a casual   \n",
       "4      1                                     Spoiler alert.   \n",
       "\n",
       "               author    subreddit  score  ups  downs     date  \\\n",
       "0      dayman-mokaffe       nyjets      5   -1     -1  2016-11   \n",
       "1  thatrotteneggsmell  hearthstone      8    8      0  2015-08   \n",
       "2           lebron181   ukpolitics      3    3      0  2016-06   \n",
       "3             Lolola2     survivor     12   12      0  2016-05   \n",
       "4             V2Blast        anime      1    1      0  2013-09   \n",
       "\n",
       "           created_utc                                     parent_comment  \n",
       "0  2016-11-06 20:56:18          I'll be shocked if he doesnt throw a pick  \n",
       "1  2015-08-22 12:32:08  Can anyone explain to me why Blizzard has to g...  \n",
       "2  2016-06-22 19:33:50  And look at the difference it made, all that h...  \n",
       "3  2016-05-06 10:45:36  Didn't even cross her mind about Michele winning.  \n",
       "4  2013-09-09 08:27:19  Well, considering that I don't see Eren and Mi...  "
      ]
     },
     "execution_count": 43,
     "metadata": {},
     "output_type": "execute_result"
    }
   ],
   "source": [
    "df5.head()"
   ]
  },
  {
   "cell_type": "code",
   "execution_count": 23,
   "metadata": {},
   "outputs": [],
   "source": [
    "df1 = pd.read_csv('1000.csv')\n"
   ]
  },
  {
   "cell_type": "code",
   "execution_count": 12,
   "metadata": {},
   "outputs": [],
   "source": [
    "y5 = df5['label'].values"
   ]
  },
  {
   "cell_type": "code",
   "execution_count": null,
   "metadata": {},
   "outputs": [],
   "source": []
  },
  {
   "cell_type": "code",
   "execution_count": 13,
   "metadata": {},
   "outputs": [
    {
     "data": {
      "text/plain": [
       "(1.0724852071005921, 0.300384770390566, 1, array([[45.24,  6.76],\n",
       "        [41.76,  6.24]]))"
      ]
     },
     "execution_count": 13,
     "metadata": {},
     "output_type": "execute_result"
    }
   ],
   "source": [
    "from scipy.stats import chi2_contingency\n",
    "obs = np.array([[43, 9], [44, 4]])\n",
    "chi2_contingency(obs)"
   ]
  },
  {
   "cell_type": "code",
   "execution_count": null,
   "metadata": {},
   "outputs": [],
   "source": []
  },
  {
   "cell_type": "code",
   "execution_count": 36,
   "metadata": {},
   "outputs": [
    {
     "data": {
      "text/plain": [
       "{-1: 0.6526458616010855,\n",
       " -2: 0.6471571906354515,\n",
       " -3: 0.670605612998523,\n",
       " -4: 0.6785714285714286,\n",
       " -5: 0.6939759036144578,\n",
       " -6: 0.693069306930693,\n",
       " -7: 0.6791666666666667,\n",
       " -8: 0.735632183908046,\n",
       " -10: 0.7,\n",
       " -9: 0.656,\n",
       " -11: 0.69,\n",
       " -13: 0.68,\n",
       " -12: 0.6376811594202898,\n",
       " -15: 0.6981132075471698,\n",
       " -14: 0.7391304347826086,\n",
       " -17: 0.7027027027027027,\n",
       " -16: 0.6857142857142857,\n",
       " -18: 0.6296296296296297,\n",
       " -22: 0.7391304347826086,\n",
       " -20: 0.8181818181818182,\n",
       " -19: 0.5789473684210527,\n",
       " -21: 0.4375,\n",
       " -23: 0.7333333333333333,\n",
       " -24: 0.7857142857142857,\n",
       " -30: 0.6923076923076923,\n",
       " -32: 0.3,\n",
       " -27: 0.7777777777777778,\n",
       " -26: 0.3333333333333333,\n",
       " -33: 0.7777777777777778,\n",
       " -28: 0.5555555555555556,\n",
       " -25: 0.75,\n",
       " -37: 0.3333333333333333,\n",
       " -48: 0.5,\n",
       " -50: 0.4,\n",
       " -34: 0.6,\n",
       " -29: 0.8,\n",
       " -31: 1.0,\n",
       " -35: 0.6}"
      ]
     },
     "execution_count": 36,
     "metadata": {},
     "output_type": "execute_result"
    }
   ],
   "source": [
    "DICT"
   ]
  },
  {
   "cell_type": "code",
   "execution_count": null,
   "metadata": {},
   "outputs": [],
   "source": [
    "#################################################### Последняя модель 6"
   ]
  },
  {
   "cell_type": "code",
   "execution_count": 88,
   "metadata": {},
   "outputs": [],
   "source": [
    "# df6 - train6.csv\n",
    "# df7 - test6.csv\n",
    "\n",
    "df6 = pd.read_csv('train6.csv')\n",
    "df7 = pd.read_csv('test6.csv')"
   ]
  },
  {
   "cell_type": "code",
   "execution_count": 89,
   "metadata": {},
   "outputs": [
    {
     "name": "stdout",
     "output_type": "stream",
     "text": [
      "(800000,) (210826,)\n"
     ]
    }
   ],
   "source": [
    "y6_train = df6['label'].values\n",
    "y6_test = df7['label'].values\n",
    "print(y6_train.shape, y6_test.shape)"
   ]
  },
  {
   "cell_type": "code",
   "execution_count": null,
   "metadata": {},
   "outputs": [],
   "source": []
  },
  {
   "cell_type": "code",
   "execution_count": null,
   "metadata": {},
   "outputs": [],
   "source": []
  },
  {
   "cell_type": "code",
   "execution_count": null,
   "metadata": {},
   "outputs": [],
   "source": []
  },
  {
   "cell_type": "code",
   "execution_count": null,
   "metadata": {},
   "outputs": [],
   "source": []
  },
  {
   "cell_type": "code",
   "execution_count": 90,
   "metadata": {},
   "outputs": [
    {
     "name": "stdout",
     "output_type": "stream",
     "text": [
      "0 52043 535 52043 AskReddit 0.4000730165440117\n",
      "1 31323 11429 31323 politics 0.6044440187721483\n",
      "2 20815 13358 20815 worldnews 0.6407398510689407\n",
      "3 16714 10226 16714 leagueoflegends 0.5451118822543976\n",
      "4 15054 11256 15054 pcmasterrace 0.5682210708117443\n",
      "5 14121 9288 14121 funny 0.4523050775440833\n",
      "6 13399 10919 13399 news 0.6002686767669229\n",
      "7 12813 11332 12813 pics 0.4816982751892609\n",
      "8 11302 12774 11302 todayilearned 0.5505220314988497\n",
      "9 11283 10933 11283 nfl 0.5102366391917044\n",
      "10 11147 10864 11147 nba 0.5286624203821656\n",
      "11 10775 2707 10775 GlobalOffensive 0.5488631090487239\n",
      "12 10697 234 10697 AdviceAnimals 0.5620267364681687\n",
      "13 9836 13115 9836 videos 0.4953233021553477\n",
      "14 9493 9355 9493 gaming 0.49510165385020544\n",
      "15 7631 6381 7631 The_Donald 0.4611453282662823\n",
      "16 7561 6893 7561 WTF 0.460388837455363\n",
      "17 6968 9712 6968 hockey 0.5287026406429391\n",
      "18 6692 12245 6692 soccer 0.5473699940227137\n",
      "19 5935 6604 5935 TumblrInAction 0.6101095197978096\n",
      "20 5865 7527 5865 atheism 0.6414322250639386\n",
      "21 5522 1042 5522 CFB 0.5099601593625498\n",
      "22 5155 10760 5155 movies 0.4845780795344326\n",
      "23 4751 1901 4751 DotA2 0.492527888865502\n",
      "24 4510 12576 4510 technology 0.6031042128603105\n",
      "25 4305 8427 4305 creepyPMs 0.7846689895470383\n",
      "26 4207 9894 4207 india 0.546945566912289\n",
      "27 4138 9432 4138 gifs 0.41324311261478974\n",
      "28 3925 1792 3925 DestinyTheGame 0.5307006369426751\n",
      "29 3854 5883 3854 SquaredCircle 0.5038920601971977\n",
      "30 3565 7567 3565 australia 0.5907433380084152\n",
      "31 3510 8941 3510 europe 0.5951566951566951\n",
      "32 3470 9660 3470 hearthstone 0.5259365994236311\n",
      "33 3264 4645 3264 Overwatch 0.46109068627450983\n",
      "34 3171 8073 3171 canada 0.5909807631661936\n",
      "35 3035 5695 3035 Showerthoughts 0.4632619439868204\n",
      "36 2898 13373 2898 wow 0.46307798481711526\n",
      "37 2882 7686 2882 baseball 0.49444829979181126\n",
      "38 2849 3788 2849 MMA 0.5243945243945244\n",
      "39 2827 354 2827 Android 0.5157410682702511\n",
      "40 2733 9134 2733 fivenightsatfreddys 0.526527625320161\n",
      "41 2701 5767 2701 Smite 0.5438726397630507\n",
      "42 2666 3977 2666 MensRights 0.6732933233308327\n",
      "43 2525 8363 2525 conspiracy 0.5897029702970297\n",
      "44 2513 24 2513 2007scape 0.5181058495821727\n",
      "45 2501 3511 2501 KotakuInAction 0.563374650139944\n",
      "46 2377 12210 2377 smashbros 0.5574253260412284\n",
      "47 2251 12863 2251 trees 0.43225233229675697\n",
      "48 2195 5517 2195 SandersForPresident 0.5503416856492027\n",
      "49 2131 9195 2131 formula1 0.5574847489441577\n",
      "50 2094 9698 2094 hiphopheads 0.44412607449856734\n",
      "51 2046 13410 2046 xboxone 0.49608993157380255\n",
      "52 2045 3627 2045 Libertarian 0.6533007334963326\n",
      "53 2005 12998 2005 unitedkingdom 0.569077306733167\n",
      "54 2002 11017 2002 nottheonion 0.6023976023976024\n",
      "55 1998 8977 1998 exmormon 0.5525525525525525\n",
      "56 1997 11391 1997 pokemon 0.44216324486730096\n",
      "57 1965 7594 1965 aww 0.3048346055979644\n",
      "58 1956 12624 1956 tf2 0.5224948875255624\n",
      "59 1927 8434 1927 cringepics 0.5277633627400103\n",
      "60 1899 10628 1899 mildlyinteresting 0.426013691416535\n",
      "61 1874 847 1874 Bitcoin 0.5469583778014941\n",
      "62 1862 12589 1862 teenagers 0.4806659505907626\n",
      "63 1857 9061 1857 fatlogic 0.6268174474959612\n",
      "64 1856 10438 1856 magicTCG 0.5080818965517241\n",
      "65 1849 11396 1849 pokemongo 0.5024337479718767\n",
      "66 1843 6007 1843 SubredditDrama 0.6174715138361367\n",
      "67 1793 9041 1793 fantasyfootball 0.38873396542108196\n",
      "68 1634 9584 1634 guns 0.5208078335373317\n",
      "69 1613 4696 1613 PS4 0.49845009299442034\n",
      "70 1600 8178 1600 childfree 0.5975\n",
      "71 1590 1066 1590 CODZombies 0.5276729559748428\n",
      "72 1586 6547 1586 TrollXChromosomes 0.562421185372005\n",
      "73 1579 11758 1579 relationships 0.5370487650411653\n",
      "74 1511 11892 1511 runescape 0.5294506949040371\n",
      "75 1511 1299 1511 Christianity 0.5632031767041694\n",
      "76 1470 525 1470 AskMen 0.4387755102040816\n",
      "77 1463 864 1463 BlackPeopleTwitter 0.37867395762132605\n",
      "78 1451 1477 1451 Conservative 0.6333563059958649\n",
      "79 1446 1389 1446 CoDCompetitive 0.5677731673582296\n",
      "80 1441 8098 1441 cars 0.5079805690492714\n",
      "81 1416 7422 1416 apple 0.5204802259887006\n",
      "82 1408 9692 1408 hillaryclinton 0.5525568181818182\n",
      "83 1402 9677 1402 heroesofthestorm 0.5356633380884451\n",
      "84 1400 1548 1400 CringeAnarchy 0.48714285714285716\n",
      "85 1385 12359 1385 starcraft 0.5523465703971119\n",
      "86 1370 8990 1370 explainlikeimfive 0.47664233576642334\n",
      "87 1351 7382 1351 anime 0.40414507772020725\n",
      "88 1331 7974 1331 bravefrontier 0.5206611570247934\n",
      "89 1303 12600 1303 television 0.4965464313123561\n",
      "90 1268 815 1268 BigBrother 0.5055205047318612\n",
      "91 1263 11234 1263 pathofexile 0.4908946951702296\n",
      "92 1253 4131 1253 Monstercat 0.5371109337589784\n",
      "93 1228 6622 1228 TwoXChromosomes 0.6343648208469055\n",
      "94 1213 5162 1213 Rainbow6 0.5399835119538334\n",
      "95 1186 2363 1186 Fitness 0.45446880269814505\n",
      "96 1185 9613 1185 halo 0.529113924050633\n",
      "97 1180 9201 1180 forwardsfromgrandma 0.5661016949152542\n",
      "98 1178 4207 1178 Music 0.48047538200339557\n",
      "99 1174 4839 1174 Planetside 0.565587734241908\n"
     ]
    },
    {
     "data": {
      "image/png": "[encoded data removed]",
      "text/plain": [
       "<Figure size 432x288 with 1 Axes>"
      ]
     },
     "metadata": {
      "needs_background": "light"
     },
     "output_type": "display_data"
    }
   ],
   "source": [
    "def REP2(x):\n",
    "    ret = 0\n",
    "    if x in DICT:\n",
    "        ret = DICT[x]\n",
    "    return ret\n",
    "\n",
    "def psub(D, D2, name, N):\n",
    "    global DICT\n",
    "    DICT = dict()\n",
    "    \n",
    "    v6 = D.groupby(name)[name].count()\n",
    "    v61 = np.sort(v6.values)[::-1]\n",
    "    i61 = np.argsort(v6.values)[::-1]\n",
    "\n",
    "    xx = []\n",
    "    yy = []\n",
    "    for i in range(N):\n",
    "        n1 = v61[i] # размер группы элемента\n",
    "        i1 = i61[i] # индекс элемента\n",
    "        sub = v6.index[i1] # имя элемента\n",
    "        n2 = v6[sub] # = n1 - серия как словарь\n",
    "        s1 = D[D[name] == sub]['label'].values.mean()\n",
    "        if i < 100:\n",
    "            print(i, n1, i1, n2, sub, s1)\n",
    "        xx.append(np.log(np.abs(n1)))\n",
    "        yy.append(s1)\n",
    "        DICT[sub] = s1\n",
    "\n",
    "    name1 = name + '1'\n",
    "    D[name1] = D[name].apply(REP2)\n",
    "    D2[name1] = D2[name].apply(REP2)\n",
    "            \n",
    "    sns.regplot(xx, yy, scatter_kws={'alpha':0.5}, line_kws={'color': 'red'});    \n",
    "   \n",
    "psub(df6, df7, 'subreddit', 10000)"
   ]
  },
  {
   "cell_type": "code",
   "execution_count": 94,
   "metadata": {},
   "outputs": [
    {
     "name": "stdout",
     "output_type": "stream",
     "text": [
      "    index  label                                            comment  \\\n",
      "0  318764      1  Don't you make me come over there and liberate...   \n",
      "\n",
      "           author  subreddit  score  ups  downs     date          created_utc  \\\n",
      "0  hotelcharlie22  AskReddit      1    1      0  2016-08  2016-08-24 01:13:14   \n",
      "\n",
      "                                 parent_comment  subreddit1  score1  ups1  \n",
      "0  Well for me it is \"not at all\" so Im fine :)    0.400073     0.0   0.0  \n"
     ]
    },
    {
     "data": {
      "text/html": [
       "<div>\n",
       "<style scoped>\n",
       "    .dataframe tbody tr th:only-of-type {\n",
       "        vertical-align: middle;\n",
       "    }\n",
       "\n",
       "    .dataframe tbody tr th {\n",
       "        vertical-align: top;\n",
       "    }\n",
       "\n",
       "    .dataframe thead th {\n",
       "        text-align: right;\n",
       "    }\n",
       "</style>\n",
       "<table border=\"1\" class=\"dataframe\">\n",
       "  <thead>\n",
       "    <tr style=\"text-align: right;\">\n",
       "      <th></th>\n",
       "      <th>index</th>\n",
       "      <th>label</th>\n",
       "      <th>comment</th>\n",
       "      <th>author</th>\n",
       "      <th>subreddit</th>\n",
       "      <th>score</th>\n",
       "      <th>ups</th>\n",
       "      <th>downs</th>\n",
       "      <th>date</th>\n",
       "      <th>created_utc</th>\n",
       "      <th>parent_comment</th>\n",
       "      <th>subreddit1</th>\n",
       "      <th>score1</th>\n",
       "      <th>ups1</th>\n",
       "    </tr>\n",
       "  </thead>\n",
       "  <tbody>\n",
       "    <tr>\n",
       "      <th>0</th>\n",
       "      <td>614326</td>\n",
       "      <td>1</td>\n",
       "      <td>original content</td>\n",
       "      <td>PatrickMcC</td>\n",
       "      <td>gif</td>\n",
       "      <td>0</td>\n",
       "      <td>0</td>\n",
       "      <td>0</td>\n",
       "      <td>2015-07</td>\n",
       "      <td>2015-07-17 13:28:45</td>\n",
       "      <td>When your bro helps you get a job. [x-post r/J...</td>\n",
       "      <td>0.407407</td>\n",
       "      <td>0.0</td>\n",
       "      <td>0.0</td>\n",
       "    </tr>\n",
       "  </tbody>\n",
       "</table>\n",
       "</div>"
      ],
      "text/plain": [
       "    index  label           comment      author subreddit  score  ups  downs  \\\n",
       "0  614326      1  original content  PatrickMcC       gif      0    0      0   \n",
       "\n",
       "      date          created_utc  \\\n",
       "0  2015-07  2015-07-17 13:28:45   \n",
       "\n",
       "                                      parent_comment  subreddit1  score1  ups1  \n",
       "0  When your bro helps you get a job. [x-post r/J...    0.407407     0.0   0.0  "
      ]
     },
     "execution_count": 94,
     "metadata": {},
     "output_type": "execute_result"
    }
   ],
   "source": [
    "print(df6.head(1))\n",
    "df7.head(1)"
   ]
  },
  {
   "cell_type": "code",
   "execution_count": null,
   "metadata": {},
   "outputs": [],
   "source": []
  },
  {
   "cell_type": "code",
   "execution_count": 106,
   "metadata": {},
   "outputs": [
    {
     "name": "stdout",
     "output_type": "stream",
     "text": [
      "7 18080 125 18080 -1 0.6571349557522124\n",
      "11 9455 124 9455 -2 0.6750925436277102\n",
      "16 5322 123 5322 -3 0.6739947388199925\n",
      "19 4322 122 4322 -4 0.6730680240629339\n",
      "22 3289 121 3289 -5 0.6719367588932806\n",
      "26 2457 120 2457 -6 0.6927146927146928\n",
      "29 1924 119 1924 -7 0.6683991683991684\n",
      "34 1487 118 1487 -8 0.7027572293207801\n",
      "37 1187 117 1187 -9 0.6815501263689975\n",
      "41 933 116 933 -10 0.6645230439442658\n",
      "46 799 115 799 -11 0.6533166458072591\n",
      "51 624 114 624 -12 0.6778846153846154\n",
      "52 578 113 578 -13 0.643598615916955\n",
      "62 414 112 414 -14 0.7028985507246377\n",
      "65 388 111 388 -15 0.6623711340206185\n",
      "69 324 110 324 -16 0.6481481481481481\n",
      "74 287 109 287 -17 0.6550522648083623\n",
      "79 244 108 244 -18 0.6024590163934426\n",
      "84 221 107 221 -19 0.6470588235294118\n",
      "92 174 106 174 -20 0.7183908045977011\n",
      "94 165 105 165 -21 0.6363636363636364\n",
      "96 151 104 151 -22 0.6887417218543046\n",
      "104 132 103 132 -23 0.7424242424242424\n",
      "115 107 100 107 -26 0.6728971962616822\n",
      "118 103 102 103 -24 0.6407766990291263\n",
      "122 94 101 94 -25 0.6276595744680851\n",
      "126 85 99 85 -27 0.6235294117647059\n",
      "137 71 94 71 -32 0.6338028169014085\n",
      "142 66 96 66 -30 0.7121212121212122\n",
      "143 64 97 64 -29 0.671875\n",
      "147 62 98 62 -28 0.6129032258064516\n",
      "157 55 95 55 -31 0.7454545454545455\n",
      "164 49 91 49 -35 0.673469387755102\n",
      "166 48 93 48 -33 0.625\n",
      "170 44 92 44 -34 0.6818181818181818\n",
      "178 38 90 38 -36 0.7105263157894737\n",
      "195 31 89 31 -37 0.5483870967741935\n",
      "196 30 88 30 -38 0.6\n",
      "1 133187 116 133187 -1 0.4592490258058219\n",
      "11 8513 115 8513 -2 0.6842476212850934\n",
      "16 4769 114 4769 -3 0.6831620884881526\n",
      "18 3863 113 3863 -4 0.6831478125808956\n",
      "21 2962 112 2962 -5 0.6812964213369345\n",
      "25 2224 111 2224 -6 0.7005395683453237\n",
      "29 1735 110 1735 -7 0.6749279538904899\n",
      "32 1354 109 1354 -8 0.707533234859675\n",
      "36 1086 108 1086 -9 0.6906077348066298\n",
      "41 816 107 816 -10 0.6850490196078431\n",
      "44 714 106 714 -11 0.665266106442577\n",
      "49 557 105 557 -12 0.6876122082585279\n",
      "52 519 104 519 -13 0.6589595375722543\n",
      "58 381 103 381 -14 0.7112860892388452\n",
      "62 346 102 346 -15 0.6734104046242775\n",
      "68 293 101 293 -16 0.6518771331058021\n",
      "72 250 100 250 -17 0.656\n",
      "76 215 99 215 -18 0.6139534883720931\n",
      "83 197 98 197 -19 0.6598984771573604\n",
      "89 164 97 164 -20 0.7195121951219512\n",
      "91 147 96 147 -21 0.6598639455782312\n",
      "96 132 95 132 -22 0.696969696969697\n",
      "99 118 94 118 -23 0.7711864406779662\n",
      "113 93 91 93 -26 0.6451612903225806\n",
      "114 92 93 92 -24 0.6521739130434783\n",
      "119 82 92 82 -25 0.6341463414634146\n",
      "124 76 90 76 -27 0.631578947368421\n",
      "136 60 85 60 -32 0.6666666666666666\n",
      "141 54 87 54 -30 0.7037037037037037\n",
      "145 52 89 52 -28 0.6153846153846154\n",
      "146 50 88 50 -29 0.66\n",
      "155 46 86 46 -31 0.7608695652173914\n",
      "159 44 82 44 -35 0.6818181818181818\n",
      "166 40 84 40 -33 0.65\n",
      "167 35 81 35 -36 0.7142857142857143\n",
      "172 34 83 34 -34 0.7647058823529411\n",
      "188 28 80 28 -37 0.5714285714285714\n",
      "197 26 79 26 -38 0.6538461538461539\n",
      "199 25 78 25 -39 0.64\n"
     ]
    }
   ],
   "source": [
    "def REPLACE(x):\n",
    "    ret = 0\n",
    "    if x < 0  and x in DICT:\n",
    "        ret = DICT[x]\n",
    "    return ret\n",
    "\n",
    "def psr(D, D2, name, N, LESS):\n",
    "    global DICT\n",
    "    DICT = dict()\n",
    "    \n",
    "    if LESS < 0:\n",
    "        LESS = -1\n",
    "    else:\n",
    "        LESS = 1\n",
    "    \n",
    "    v6 = D.groupby(name)[name].count()\n",
    "    v61 = np.sort(v6.values)[::-1]\n",
    "    i61 = np.argsort(v6.values)[::-1]\n",
    "\n",
    "    xx = []\n",
    "    yy = []\n",
    "    for i in range(N):\n",
    "        n1 = v61[i] # размер группы элемента\n",
    "        i1 = i61[i] # индекс элемента\n",
    "        sub = v6.index[i1] # имя элемента\n",
    "        n2 = v6[sub] # = n1 - серия как словарь\n",
    "        s1 = D[D[name] == sub]['label'].values.mean()\n",
    "        #if sub >= 0:\n",
    "        if (LESS < 0 and sub < 0) or LESS > 0:\n",
    "            print(i, n1, i1, n2, sub, s1)\n",
    "            xx.append(np.log(np.abs(n1)))\n",
    "            yy.append(s1)\n",
    "            DICT[sub] = s1\n",
    "\n",
    "    name1 = name + '1'\n",
    "    if LESS < 0:\n",
    "        D[name1] = D[name].apply(REPLACE)\n",
    "        D2[name1] = D2[name].apply(REPLACE)\n",
    "    else:\n",
    "        D[name1] = D[name].apply(REP2)\n",
    "        D2[name1] = D2[name].apply(REP2)\n",
    "            \n",
    "    #sns.regplot(xx, yy, scatter_kws={'alpha':0.5}, line_kws={'color': 'red'});    \n",
    "   \n",
    "psr(df6, df7, 'score', 200, -1)\n",
    "psr(df6, df7, 'ups', 200, -1)"
   ]
  },
  {
   "cell_type": "code",
   "execution_count": null,
   "metadata": {},
   "outputs": [],
   "source": []
  },
  {
   "cell_type": "code",
   "execution_count": 7,
   "metadata": {},
   "outputs": [
    {
     "name": "stdout",
     "output_type": "stream",
     "text": [
      "bin_acc: 0.4803848038480385\n"
     ]
    }
   ],
   "source": [
    "# Бинарная точность - для 'downs'\n",
    "def bin_acc(x1, y1):\n",
    "    return np.sum(x1 == y1) / y1.shape[0]\n",
    "\n",
    "x1 = abs(df5['downs']).values\n",
    "y1 = df5['label'].values\n",
    "print('bin_acc:', bin_acc(x1, y1))"
   ]
  },
  {
   "cell_type": "code",
   "execution_count": null,
   "metadata": {},
   "outputs": [],
   "source": []
  },
  {
   "cell_type": "code",
   "execution_count": 277,
   "metadata": {},
   "outputs": [],
   "source": [
    "# date"
   ]
  },
  {
   "cell_type": "code",
   "execution_count": 8,
   "metadata": {},
   "outputs": [
    {
     "data": {
      "text/plain": [
       "count       99999\n",
       "unique         96\n",
       "top       2016-12\n",
       "freq         5314\n",
       "Name: date, dtype: object"
      ]
     },
     "execution_count": 8,
     "metadata": {},
     "output_type": "execute_result"
    }
   ],
   "source": [
    "df5.date.describe()"
   ]
  },
  {
   "cell_type": "code",
   "execution_count": 30,
   "metadata": {},
   "outputs": [
    {
     "name": "stdout",
     "output_type": "stream",
     "text": [
      "0    02\n",
      "1    12\n",
      "2    03\n",
      "3    09\n",
      "4    10\n",
      "Name: month, dtype: object\n",
      "0    2016\n",
      "1    2014\n",
      "2    2012\n",
      "3    2016\n",
      "4    2013\n",
      "Name: year, dtype: object\n"
     ]
    }
   ],
   "source": [
    "df5['month'] = df5['date'].str[5:7]\n",
    "print(df5['month'].head())\n",
    "df5['year'] = df5['date'].str[0:4]\n",
    "print(df5['year'].head())\n",
    "#df5['created_utc']"
   ]
  },
  {
   "cell_type": "code",
   "execution_count": 33,
   "metadata": {},
   "outputs": [
    {
     "name": "stdout",
     "output_type": "stream",
     "text": [
      "6 20\n"
     ]
    }
   ],
   "source": [
    "import datetime\n",
    "import time \n",
    "\n",
    "t = time.strptime('2016-11-06 20:56:18', '%Y-%m-%d %H:%M:%S')\n",
    "print(t.tm_wday, t.tm_hour)"
   ]
  },
  {
   "cell_type": "code",
   "execution_count": 34,
   "metadata": {},
   "outputs": [],
   "source": []
  },
  {
   "cell_type": "code",
   "execution_count": 9,
   "metadata": {},
   "outputs": [],
   "source": [
    "df5['t1'] = pd.to_datetime(df5['created_utc'])\n",
    "df5['dw'] = df5['t1'].dt.dayofweek\n",
    "df5['dh'] = df5['t1'].dt.hour\n",
    "df5['dy'] = df5['t1'].dt.year\n",
    "df5['dm'] = df5['t1'].dt.month"
   ]
  },
  {
   "cell_type": "code",
   "execution_count": 38,
   "metadata": {},
   "outputs": [],
   "source": [
    "psr(df5, 'dm', 12)\n",
    "psr(df5, 'dy', 8)\n",
    "psr(df5, 'dw', 7)\n",
    "psr(df5, 'dh', 24)"
   ]
  },
  {
   "cell_type": "code",
   "execution_count": null,
   "metadata": {},
   "outputs": [],
   "source": []
  },
  {
   "cell_type": "code",
   "execution_count": 96,
   "metadata": {},
   "outputs": [],
   "source": [
    "df6['t1'] = pd.to_datetime(df6['created_utc'])\n",
    "df6['dw'] = df6['t1'].dt.dayofweek\n",
    "df6['dh'] = df6['t1'].dt.hour\n",
    "df6['dy'] = df6['t1'].dt.year\n",
    "df6['dm'] = df6['t1'].dt.month\n",
    "\n",
    "df7['t1'] = pd.to_datetime(df7['created_utc'])\n",
    "df7['dw'] = df7['t1'].dt.dayofweek\n",
    "df7['dh'] = df7['t1'].dt.hour\n",
    "df7['dy'] = df7['t1'].dt.year\n",
    "df7['dm'] = df7['t1'].dt.month"
   ]
  },
  {
   "cell_type": "code",
   "execution_count": 107,
   "metadata": {},
   "outputs": [
    {
     "name": "stdout",
     "output_type": "stream",
     "text": [
      "0 88295 11 88295 12 0.46556430148932554\n",
      "1 80672 10 80672 11 0.48276973423244746\n",
      "2 78813 9 78813 10 0.4886376612995318\n",
      "3 73260 7 73260 8 0.5068796068796069\n",
      "4 71332 8 71332 9 0.49855604777659396\n",
      "5 70646 6 70646 7 0.5085638252696544\n",
      "6 63498 5 63498 6 0.5129295410879082\n",
      "7 61344 4 61344 5 0.5112480438184663\n",
      "8 57092 3 57092 4 0.5103867442023401\n",
      "9 55251 2 55251 3 0.5102894065265787\n",
      "10 50967 0 50967 1 0.5184334961838052\n",
      "11 48830 1 48830 2 0.5176326029080484\n",
      "0 376638 7 376638 2016 0.46839139969944615\n",
      "1 227010 6 227010 2015 0.5212677855601074\n",
      "2 108780 5 108780 2014 0.5340871483728626\n",
      "3 50216 4 50216 2013 0.5383343954118209\n",
      "4 21639 3 21639 2012 0.5341744073201165\n",
      "5 10090 2 10090 2011 0.5462834489593658\n",
      "6 4169 1 4169 2010 0.5665627248740706\n",
      "7 1458 0 1458 2009 0.5775034293552812\n",
      "0 123593 2 123593 2 0.5041628571197397\n",
      "1 123032 3 123032 3 0.50332433838351\n",
      "2 121549 1 121549 1 0.5055985651877021\n",
      "3 118548 4 118548 4 0.4989455747882714\n",
      "4 115833 0 115833 0 0.5020244662574569\n",
      "5 100503 6 100503 6 0.4950399490562471\n",
      "6 96942 5 96942 5 0.4890449959769759\n",
      "0 46821 18 46821 18 0.507763610345785\n",
      "1 46491 19 46491 19 0.5052805919425265\n",
      "2 46369 17 46369 17 0.5105781880135435\n",
      "3 45646 20 45646 20 0.5039872058887964\n",
      "4 45187 16 45187 16 0.5118064930179034\n",
      "5 44269 21 44269 21 0.5019087849285053\n",
      "6 41928 15 41928 15 0.5133323793169242\n",
      "7 41307 22 41307 22 0.500351030091752\n",
      "8 39609 23 39609 23 0.4958973970562246\n",
      "9 38107 0 38107 0 0.49185189072873753\n",
      "10 37202 1 37202 1 0.4849739261330036\n",
      "11 36804 2 36804 2 0.4843495272253016\n",
      "12 36463 14 36463 14 0.5127937909661849\n",
      "13 34627 3 34627 3 0.480665376729142\n",
      "14 31507 4 31507 4 0.4798933570317707\n",
      "15 29968 13 29968 13 0.5130806193272824\n",
      "16 26806 5 26806 5 0.48533910318585394\n",
      "17 23500 12 23500 12 0.5165531914893617\n",
      "18 22762 6 22762 6 0.4857218170635269\n",
      "19 19356 7 19356 7 0.48951229592891093\n",
      "20 18203 11 18203 11 0.510080755919354\n",
      "21 16414 8 16414 8 0.5003046180090167\n",
      "22 15589 10 15589 10 0.4985566745782282\n",
      "23 15065 9 15065 9 0.5065383338864918\n"
     ]
    }
   ],
   "source": [
    "psr(df6, df7, 'dm', 12, 1)\n",
    "psr(df6, df7, 'dy', 8, 1)\n",
    "psr(df6, df7, 'dw', 7, 1)\n",
    "psr(df6, df7, 'dh', 24, 1)"
   ]
  },
  {
   "cell_type": "code",
   "execution_count": null,
   "metadata": {},
   "outputs": [],
   "source": []
  },
  {
   "cell_type": "code",
   "execution_count": 111,
   "metadata": {},
   "outputs": [
    {
     "data": {
      "text/html": [
       "<div>\n",
       "<style scoped>\n",
       "    .dataframe tbody tr th:only-of-type {\n",
       "        vertical-align: middle;\n",
       "    }\n",
       "\n",
       "    .dataframe tbody tr th {\n",
       "        vertical-align: top;\n",
       "    }\n",
       "\n",
       "    .dataframe thead th {\n",
       "        text-align: right;\n",
       "    }\n",
       "</style>\n",
       "<table border=\"1\" class=\"dataframe\">\n",
       "  <thead>\n",
       "    <tr style=\"text-align: right;\">\n",
       "      <th></th>\n",
       "      <th>index</th>\n",
       "      <th>label</th>\n",
       "      <th>comment</th>\n",
       "      <th>author</th>\n",
       "      <th>subreddit</th>\n",
       "      <th>score</th>\n",
       "      <th>ups</th>\n",
       "      <th>downs</th>\n",
       "      <th>date</th>\n",
       "      <th>created_utc</th>\n",
       "      <th>...</th>\n",
       "      <th>t1</th>\n",
       "      <th>dw</th>\n",
       "      <th>dh</th>\n",
       "      <th>dy</th>\n",
       "      <th>dm</th>\n",
       "      <th>dm1</th>\n",
       "      <th>dy1</th>\n",
       "      <th>dw1</th>\n",
       "      <th>dh1</th>\n",
       "      <th>pt1</th>\n",
       "    </tr>\n",
       "  </thead>\n",
       "  <tbody>\n",
       "    <tr>\n",
       "      <th>0</th>\n",
       "      <td>318764</td>\n",
       "      <td>1</td>\n",
       "      <td>Don't you make me come over there and liberate...</td>\n",
       "      <td>hotelcharlie22</td>\n",
       "      <td>AskReddit</td>\n",
       "      <td>1</td>\n",
       "      <td>1</td>\n",
       "      <td>0</td>\n",
       "      <td>2016-08</td>\n",
       "      <td>2016-08-24 01:13:14</td>\n",
       "      <td>...</td>\n",
       "      <td>2016-08-24 01:13:14</td>\n",
       "      <td>2</td>\n",
       "      <td>1</td>\n",
       "      <td>2016</td>\n",
       "      <td>8</td>\n",
       "      <td>0.50688</td>\n",
       "      <td>0.468391</td>\n",
       "      <td>0.504163</td>\n",
       "      <td>0.484974</td>\n",
       "      <td>0.695633</td>\n",
       "    </tr>\n",
       "  </tbody>\n",
       "</table>\n",
       "<p>1 rows × 24 columns</p>\n",
       "</div>"
      ],
      "text/plain": [
       "    index  label                                            comment  \\\n",
       "0  318764      1  Don't you make me come over there and liberate...   \n",
       "\n",
       "           author  subreddit  score  ups  downs     date          created_utc  \\\n",
       "0  hotelcharlie22  AskReddit      1    1      0  2016-08  2016-08-24 01:13:14   \n",
       "\n",
       "     ...                     t1  dw  dh    dy dm      dm1       dy1       dw1  \\\n",
       "0    ...    2016-08-24 01:13:14   2   1  2016  8  0.50688  0.468391  0.504163   \n",
       "\n",
       "        dh1       pt1  \n",
       "0  0.484974  0.695633  \n",
       "\n",
       "[1 rows x 24 columns]"
      ]
     },
     "execution_count": 111,
     "metadata": {},
     "output_type": "execute_result"
    }
   ],
   "source": [
    "df6.head(1)"
   ]
  },
  {
   "cell_type": "code",
   "execution_count": 113,
   "metadata": {},
   "outputs": [
    {
     "data": {
      "text/html": [
       "<div>\n",
       "<style scoped>\n",
       "    .dataframe tbody tr th:only-of-type {\n",
       "        vertical-align: middle;\n",
       "    }\n",
       "\n",
       "    .dataframe tbody tr th {\n",
       "        vertical-align: top;\n",
       "    }\n",
       "\n",
       "    .dataframe thead th {\n",
       "        text-align: right;\n",
       "    }\n",
       "</style>\n",
       "<table border=\"1\" class=\"dataframe\">\n",
       "  <thead>\n",
       "    <tr style=\"text-align: right;\">\n",
       "      <th></th>\n",
       "      <th>index</th>\n",
       "      <th>label</th>\n",
       "      <th>comment</th>\n",
       "      <th>author</th>\n",
       "      <th>subreddit</th>\n",
       "      <th>score</th>\n",
       "      <th>ups</th>\n",
       "      <th>downs</th>\n",
       "      <th>date</th>\n",
       "      <th>created_utc</th>\n",
       "      <th>...</th>\n",
       "      <th>t1</th>\n",
       "      <th>dw</th>\n",
       "      <th>dh</th>\n",
       "      <th>dy</th>\n",
       "      <th>dm</th>\n",
       "      <th>dm1</th>\n",
       "      <th>dy1</th>\n",
       "      <th>dw1</th>\n",
       "      <th>dh1</th>\n",
       "      <th>pt1</th>\n",
       "    </tr>\n",
       "  </thead>\n",
       "  <tbody>\n",
       "    <tr>\n",
       "      <th>0</th>\n",
       "      <td>614326</td>\n",
       "      <td>1</td>\n",
       "      <td>original content</td>\n",
       "      <td>PatrickMcC</td>\n",
       "      <td>gif</td>\n",
       "      <td>0</td>\n",
       "      <td>0</td>\n",
       "      <td>0</td>\n",
       "      <td>2015-07</td>\n",
       "      <td>2015-07-17 13:28:45</td>\n",
       "      <td>...</td>\n",
       "      <td>2015-07-17 13:28:45</td>\n",
       "      <td>4</td>\n",
       "      <td>13</td>\n",
       "      <td>2015</td>\n",
       "      <td>7</td>\n",
       "      <td>0.508564</td>\n",
       "      <td>0.521268</td>\n",
       "      <td>0.498946</td>\n",
       "      <td>0.513081</td>\n",
       "      <td>0.357585</td>\n",
       "    </tr>\n",
       "  </tbody>\n",
       "</table>\n",
       "<p>1 rows × 24 columns</p>\n",
       "</div>"
      ],
      "text/plain": [
       "    index  label           comment      author subreddit  score  ups  downs  \\\n",
       "0  614326      1  original content  PatrickMcC       gif      0    0      0   \n",
       "\n",
       "      date          created_utc    ...                     t1  dw  dh    dy  \\\n",
       "0  2015-07  2015-07-17 13:28:45    ...    2015-07-17 13:28:45   4  13  2015   \n",
       "\n",
       "  dm       dm1       dy1       dw1       dh1       pt1  \n",
       "0  7  0.508564  0.521268  0.498946  0.513081  0.357585  \n",
       "\n",
       "[1 rows x 24 columns]"
      ]
     },
     "execution_count": 113,
     "metadata": {},
     "output_type": "execute_result"
    }
   ],
   "source": [
    "df7.head(1)"
   ]
  },
  {
   "cell_type": "code",
   "execution_count": null,
   "metadata": {},
   "outputs": [],
   "source": []
  },
  {
   "cell_type": "code",
   "execution_count": 100,
   "metadata": {},
   "outputs": [
    {
     "data": {
      "text/html": [
       "<div>\n",
       "<style scoped>\n",
       "    .dataframe tbody tr th:only-of-type {\n",
       "        vertical-align: middle;\n",
       "    }\n",
       "\n",
       "    .dataframe tbody tr th {\n",
       "        vertical-align: top;\n",
       "    }\n",
       "\n",
       "    .dataframe thead th {\n",
       "        text-align: right;\n",
       "    }\n",
       "</style>\n",
       "<table border=\"1\" class=\"dataframe\">\n",
       "  <thead>\n",
       "    <tr style=\"text-align: right;\">\n",
       "      <th></th>\n",
       "      <th>index</th>\n",
       "      <th>y_pred</th>\n",
       "      <th>y_test</th>\n",
       "    </tr>\n",
       "  </thead>\n",
       "  <tbody>\n",
       "    <tr>\n",
       "      <th>0</th>\n",
       "      <td>172456</td>\n",
       "      <td>0.646753</td>\n",
       "      <td>1.0</td>\n",
       "    </tr>\n",
       "    <tr>\n",
       "      <th>1</th>\n",
       "      <td>678167</td>\n",
       "      <td>0.365489</td>\n",
       "      <td>0.0</td>\n",
       "    </tr>\n",
       "    <tr>\n",
       "      <th>2</th>\n",
       "      <td>932829</td>\n",
       "      <td>0.222082</td>\n",
       "      <td>0.0</td>\n",
       "    </tr>\n",
       "    <tr>\n",
       "      <th>3</th>\n",
       "      <td>601383</td>\n",
       "      <td>0.547160</td>\n",
       "      <td>0.0</td>\n",
       "    </tr>\n",
       "    <tr>\n",
       "      <th>4</th>\n",
       "      <td>631650</td>\n",
       "      <td>0.569939</td>\n",
       "      <td>0.0</td>\n",
       "    </tr>\n",
       "  </tbody>\n",
       "</table>\n",
       "</div>"
      ],
      "text/plain": [
       "    index    y_pred  y_test\n",
       "0  172456  0.646753     1.0\n",
       "1  678167  0.365489     0.0\n",
       "2  932829  0.222082     0.0\n",
       "3  601383  0.547160     0.0\n",
       "4  631650  0.569939     0.0"
      ]
     },
     "execution_count": 100,
     "metadata": {},
     "output_type": "execute_result"
    }
   ],
   "source": [
    "train_pt = pd.read_csv('train_pt.csv')\n",
    "test_pt = pd.read_csv('test_pt.csv')\n",
    "train_pt.head()"
   ]
  },
  {
   "cell_type": "code",
   "execution_count": 110,
   "metadata": {},
   "outputs": [],
   "source": [
    "DICT = train_pt.set_index('index')['y_pred'].to_dict()\n",
    "df6['pt1'] = df6['index'].apply(REP2)"
   ]
  },
  {
   "cell_type": "code",
   "execution_count": 112,
   "metadata": {},
   "outputs": [],
   "source": [
    "DICT = test_pt.set_index('index')['y_pred'].to_dict()\n",
    "df7['pt1'] = df7['index'].apply(REP2)"
   ]
  },
  {
   "cell_type": "code",
   "execution_count": 114,
   "metadata": {},
   "outputs": [],
   "source": [
    "# 6,7\n"
   ]
  },
  {
   "cell_type": "code",
   "execution_count": 118,
   "metadata": {},
   "outputs": [],
   "source": [
    "dX_train = df6[['subreddit1', 'pt1', 'dy1', 'dm1', 'dw1', 'dh1', 'score1', 'ups1']]\n",
    "dX_test = df7[['subreddit1', 'pt1', 'dy1', 'dm1', 'dw1', 'dh1', 'score1', 'ups1']]\n",
    "dX_train.to_csv('X_train.csv', index=False)\n",
    "dX_test.to_csv('X_test.csv', index=False)\n",
    "dy_train = df6['label']\n",
    "dy_test = df7['label']\n",
    "dy_train.to_csv('y_train.csv', index=False)\n",
    "dy_test.to_csv('y_test.csv', index=False)"
   ]
  },
  {
   "cell_type": "code",
   "execution_count": 129,
   "metadata": {},
   "outputs": [
    {
     "name": "stdout",
     "output_type": "stream",
     "text": [
      "(800000, 8) (210826, 8) (800000,) (210826,)\n"
     ]
    }
   ],
   "source": [
    "X_train = dX_train.values\n",
    "X_test = dX_test.values\n",
    "y_train = dy_train.values\n",
    "y_test = dy_test.values\n",
    "print(X_train.shape, X_test.shape, y_train.shape, y_test.shape)"
   ]
  },
  {
   "cell_type": "code",
   "execution_count": null,
   "metadata": {},
   "outputs": [],
   "source": []
  },
  {
   "cell_type": "code",
   "execution_count": 121,
   "metadata": {},
   "outputs": [],
   "source": [
    "scaler = StandardScaler()\n",
    "X_train = scaler.fit_transform(X_train)\n",
    "X_test = scaler.transform(X_test)"
   ]
  },
  {
   "cell_type": "code",
   "execution_count": 130,
   "metadata": {},
   "outputs": [
    {
     "name": "stdout",
     "output_type": "stream",
     "text": [
      "acc= 0.6864997675808486\n",
      "acc_train= 0.71363875\n"
     ]
    }
   ],
   "source": [
    "clf = LogisticRegression(C=1)\n",
    "clf.fit(X_train, y_train)\n",
    "y_pred = clf.predict(X_test)\n",
    "acc = accuracy_score(y_test, y_pred)\n",
    "print('acc=', acc)\n",
    "\n",
    "y_pred_train = clf.predict(X_train)\n",
    "acc_train = accuracy_score(y_train, y_pred_train)\n",
    "print('acc_train=', acc_train)"
   ]
  },
  {
   "cell_type": "code",
   "execution_count": null,
   "metadata": {},
   "outputs": [],
   "source": []
  },
  {
   "cell_type": "code",
   "execution_count": 126,
   "metadata": {},
   "outputs": [
    {
     "name": "stdout",
     "output_type": "stream",
     "text": [
      "acc= 0.686580402796619\n",
      "acc_train= 0.7133125\n"
     ]
    }
   ],
   "source": [
    "clf = LinearSVC(C=10)\n",
    "clf.fit(X_train, y_train)\n",
    "y_pred = clf.predict(X_test)\n",
    "acc = accuracy_score(y_test, y_pred)\n",
    "print('acc=', acc)\n",
    "\n",
    "y_pred_train = clf.predict(X_train)\n",
    "acc_train = accuracy_score(y_train, y_pred_train)\n",
    "print('acc_train=', acc_train)"
   ]
  },
  {
   "cell_type": "code",
   "execution_count": null,
   "metadata": {},
   "outputs": [],
   "source": []
  },
  {
   "cell_type": "code",
   "execution_count": 131,
   "metadata": {},
   "outputs": [
    {
     "data": {
      "image/png": "[encoded data removed]",
      "text/plain": [
       "<Figure size 432x288 with 1 Axes>"
      ]
     },
     "metadata": {
      "needs_background": "light"
     },
     "output_type": "display_data"
    }
   ],
   "source": [
    "N = 1000\n",
    "y1 = y_train[:N]\n",
    "col = pd.Series(y1).astype(str)\n",
    "col[y1 == 1] = 'red'\n",
    "col[y1 == 0] = 'blue'\n",
    "plt.scatter(X_train[:, 0], X_train[:, 1], color=col.values, alpha=0.6);"
   ]
  },
  {
   "cell_type": "code",
   "execution_count": null,
   "metadata": {},
   "outputs": [],
   "source": []
  },
  {
   "cell_type": "code",
   "execution_count": null,
   "metadata": {},
   "outputs": [],
   "source": []
  },
  {
   "cell_type": "code",
   "execution_count": null,
   "metadata": {},
   "outputs": [],
   "source": []
  },
  {
   "cell_type": "code",
   "execution_count": null,
   "metadata": {},
   "outputs": [],
   "source": []
  },
  {
   "cell_type": "code",
   "execution_count": null,
   "metadata": {},
   "outputs": [],
   "source": []
  },
  {
   "cell_type": "code",
   "execution_count": 39,
   "metadata": {},
   "outputs": [
    {
     "name": "stdout",
     "output_type": "stream",
     "text": [
      "(99999, 7) (99999,)\n"
     ]
    }
   ],
   "source": [
    "# 5\n",
    "X = df5[['dy1', 'dm1', 'dw1', 'dh1', 'score1', 'ups1', 'subreddit1']].values\n",
    "y = df5['label'].values\n",
    "print(X.shape, y.shape)"
   ]
  },
  {
   "cell_type": "code",
   "execution_count": 95,
   "metadata": {},
   "outputs": [
    {
     "name": "stdout",
     "output_type": "stream",
     "text": [
      "(99999, 4) (99999,)\n"
     ]
    }
   ],
   "source": [
    "#2\n",
    "\n",
    "X = df5[['dm1', 'dw1', 'dh1', 'subreddit1']].values\n",
    "y = df5['label'].values\n",
    "print(X.shape, y.shape)\n"
   ]
  },
  {
   "cell_type": "code",
   "execution_count": 99,
   "metadata": {},
   "outputs": [],
   "source": [
    "from sklearn.linear_model import LogisticRegression\n",
    "from sklearn.preprocessing import StandardScaler\n",
    "from sklearn.model_selection import train_test_split\n",
    "from sklearn.ensemble import RandomForestClassifier\n",
    "from sklearn.svm import SVC\n",
    "from sklearn.svm import LinearSVC\n",
    "from sklearn.metrics import accuracy_score\n",
    "from sklearn.manifold import TSNE\n"
   ]
  },
  {
   "cell_type": "code",
   "execution_count": 42,
   "metadata": {},
   "outputs": [
    {
     "name": "stdout",
     "output_type": "stream",
     "text": [
      "(74999, 7) (25000, 7) (74999,) (25000,)\n"
     ]
    }
   ],
   "source": [
    "scaler = StandardScaler()\n",
    "X = scaler.fit_transform(X)\n",
    "\n",
    "X_train, X_test, y_train, y_test = train_test_split(X, y)\n",
    "print(X_train.shape, X_test.shape, y_train.shape, y_test.shape)"
   ]
  },
  {
   "cell_type": "code",
   "execution_count": 97,
   "metadata": {},
   "outputs": [
    {
     "name": "stdout",
     "output_type": "stream",
     "text": [
      "acc= 0.53368\n",
      "acc0= 0.8992653235376472\n",
      "[0.1628399  0.13826952 0.24502401 0.45386656]\n"
     ]
    }
   ],
   "source": [
    "clf = RandomForestClassifier(n_estimators=50)\n",
    "clf.fit(X_train, y_train)\n",
    "y_pred = clf.predict(X_test)\n",
    "acc = accuracy_score(y_test, y_pred)\n",
    "print('acc=', acc)\n",
    "\n",
    "y0 = clf.predict(X_train)\n",
    "acc0 = accuracy_score(y_train, y0)\n",
    "print('acc0=', acc0)\n",
    "print(clf.feature_importances_)"
   ]
  },
  {
   "cell_type": "code",
   "execution_count": 43,
   "metadata": {},
   "outputs": [
    {
     "name": "stdout",
     "output_type": "stream",
     "text": [
      "acc= 0.57976\n",
      "acc0= 0.5825144335257804\n"
     ]
    }
   ],
   "source": [
    "clf = LogisticRegression(C=1)\n",
    "clf.fit(X_train, y_train)\n",
    "y_pred = clf.predict(X_test)\n",
    "acc = accuracy_score(y_test, y_pred)\n",
    "print('acc=', acc)\n",
    "\n",
    "y0 = clf.predict(X_train)\n",
    "acc0 = accuracy_score(y_train, y0)\n",
    "print('acc0=', acc0)"
   ]
  },
  {
   "cell_type": "code",
   "execution_count": 66,
   "metadata": {},
   "outputs": [
    {
     "name": "stdout",
     "output_type": "stream",
     "text": [
      "acc= 0.5778\n",
      "acc0= 0.5817277563700849\n"
     ]
    }
   ],
   "source": [
    "clf = LinearSVC(C=10)\n",
    "clf.fit(X_train, y_train)\n",
    "y_pred = clf.predict(X_test)\n",
    "acc = accuracy_score(y_test, y_pred)\n",
    "print('acc=', acc)\n",
    "\n",
    "y0 = clf.predict(X_train)\n",
    "acc0 = accuracy_score(y_train, y0)\n",
    "print('acc0=', acc0)"
   ]
  },
  {
   "cell_type": "code",
   "execution_count": 140,
   "metadata": {},
   "outputs": [],
   "source": []
  },
  {
   "cell_type": "code",
   "execution_count": 173,
   "metadata": {},
   "outputs": [
    {
     "name": "stdout",
     "output_type": "stream",
     "text": [
      "(99999, 7)\n",
      "(30000, 7)\n"
     ]
    },
    {
     "data": {
      "image/png": "[encoded data removed]",
      "text/plain": [
       "<Figure size 720x576 with 1 Axes>"
      ]
     },
     "metadata": {
      "needs_background": "light"
     },
     "output_type": "display_data"
    }
   ],
   "source": [
    "N = 30000\n",
    "X1 = X[:N, :]\n",
    "print(X.shape)\n",
    "print(X1.shape)\n",
    "\n",
    "y1 = y[:N]\n",
    "col = pd.Series(y1).astype(str)\n",
    "col[y1 == 1] = 'red'\n",
    "col[y1 == 0] = 'blue'\n",
    "\n",
    "X_embedded = TSNE(perplexity=30).fit_transform(X1)\n",
    "plt.scatter(X_embedded[:, 0], X_embedded[:, 1], color=col.values, alpha=0.6);"
   ]
  },
  {
   "cell_type": "code",
   "execution_count": null,
   "metadata": {},
   "outputs": [],
   "source": []
  },
  {
   "cell_type": "code",
   "execution_count": null,
   "metadata": {},
   "outputs": [],
   "source": []
  },
  {
   "cell_type": "code",
   "execution_count": null,
   "metadata": {},
   "outputs": [],
   "source": []
  },
  {
   "cell_type": "code",
   "execution_count": null,
   "metadata": {},
   "outputs": [],
   "source": []
  },
  {
   "cell_type": "code",
   "execution_count": null,
   "metadata": {},
   "outputs": [],
   "source": []
  },
  {
   "cell_type": "code",
   "execution_count": null,
   "metadata": {},
   "outputs": [],
   "source": []
  },
  {
   "cell_type": "code",
   "execution_count": null,
   "metadata": {},
   "outputs": [],
   "source": []
  },
  {
   "cell_type": "code",
   "execution_count": null,
   "metadata": {},
   "outputs": [],
   "source": [
    "#####################################################"
   ]
  },
  {
   "cell_type": "code",
   "execution_count": 14,
   "metadata": {},
   "outputs": [
    {
     "data": {
      "text/html": [
       "<div>\n",
       "<style scoped>\n",
       "    .dataframe tbody tr th:only-of-type {\n",
       "        vertical-align: middle;\n",
       "    }\n",
       "\n",
       "    .dataframe tbody tr th {\n",
       "        vertical-align: top;\n",
       "    }\n",
       "\n",
       "    .dataframe thead th {\n",
       "        text-align: right;\n",
       "    }\n",
       "</style>\n",
       "<table border=\"1\" class=\"dataframe\">\n",
       "  <thead>\n",
       "    <tr style=\"text-align: right;\">\n",
       "      <th></th>\n",
       "      <th>label</th>\n",
       "      <th>comment</th>\n",
       "    </tr>\n",
       "  </thead>\n",
       "  <tbody>\n",
       "    <tr>\n",
       "      <th>0</th>\n",
       "      <td>1</td>\n",
       "      <td>wait, you have to win the candidates to challe...</td>\n",
       "    </tr>\n",
       "    <tr>\n",
       "      <th>1</th>\n",
       "      <td>1</td>\n",
       "      <td>I mean how could anyone not see that it is ant...</td>\n",
       "    </tr>\n",
       "    <tr>\n",
       "      <th>2</th>\n",
       "      <td>0</td>\n",
       "      <td>Funny thing, most of the girl pants I've bough...</td>\n",
       "    </tr>\n",
       "    <tr>\n",
       "      <th>3</th>\n",
       "      <td>0</td>\n",
       "      <td>Also Ranch dressing, because LBJ was Texan, an...</td>\n",
       "    </tr>\n",
       "    <tr>\n",
       "      <th>4</th>\n",
       "      <td>0</td>\n",
       "      <td>Being adorable.</td>\n",
       "    </tr>\n",
       "  </tbody>\n",
       "</table>\n",
       "</div>"
      ],
      "text/plain": [
       "   label                                            comment\n",
       "0      1  wait, you have to win the candidates to challe...\n",
       "1      1  I mean how could anyone not see that it is ant...\n",
       "2      0  Funny thing, most of the girl pants I've bough...\n",
       "3      0  Also Ranch dressing, because LBJ was Texan, an...\n",
       "4      0                                    Being adorable."
      ]
     },
     "execution_count": 14,
     "metadata": {},
     "output_type": "execute_result"
    }
   ],
   "source": [
    "#dft = df5[['label', 'comment', 'parent_comment']]\n",
    "dft = df5[['label', 'comment']]\n",
    "dft.head()"
   ]
  },
  {
   "cell_type": "code",
   "execution_count": 15,
   "metadata": {},
   "outputs": [],
   "source": [
    "dft.to_csv('t5.csv', index=False)"
   ]
  },
  {
   "cell_type": "code",
   "execution_count": 16,
   "metadata": {},
   "outputs": [
    {
     "data": {
      "text/html": [
       "<div>\n",
       "<style scoped>\n",
       "    .dataframe tbody tr th:only-of-type {\n",
       "        vertical-align: middle;\n",
       "    }\n",
       "\n",
       "    .dataframe tbody tr th {\n",
       "        vertical-align: top;\n",
       "    }\n",
       "\n",
       "    .dataframe thead th {\n",
       "        text-align: right;\n",
       "    }\n",
       "</style>\n",
       "<table border=\"1\" class=\"dataframe\">\n",
       "  <thead>\n",
       "    <tr style=\"text-align: right;\">\n",
       "      <th></th>\n",
       "      <th>label</th>\n",
       "      <th>comment</th>\n",
       "    </tr>\n",
       "  </thead>\n",
       "  <tbody>\n",
       "    <tr>\n",
       "      <th>608627</th>\n",
       "      <td>1</td>\n",
       "      <td>And he sure as hell is successful!</td>\n",
       "    </tr>\n",
       "    <tr>\n",
       "      <th>456977</th>\n",
       "      <td>1</td>\n",
       "      <td>wait, you have to win the candidates to challe...</td>\n",
       "    </tr>\n",
       "    <tr>\n",
       "      <th>803801</th>\n",
       "      <td>1</td>\n",
       "      <td>I mean how could anyone not see that it is ant...</td>\n",
       "    </tr>\n",
       "    <tr>\n",
       "      <th>926708</th>\n",
       "      <td>0</td>\n",
       "      <td>Funny thing, most of the girl pants I've bough...</td>\n",
       "    </tr>\n",
       "    <tr>\n",
       "      <th>129279</th>\n",
       "      <td>0</td>\n",
       "      <td>Also Ranch dressing, because LBJ was Texan, an...</td>\n",
       "    </tr>\n",
       "  </tbody>\n",
       "</table>\n",
       "</div>"
      ],
      "text/plain": [
       "        label                                            comment\n",
       "608627      1                 And he sure as hell is successful!\n",
       "456977      1  wait, you have to win the candidates to challe...\n",
       "803801      1  I mean how could anyone not see that it is ant...\n",
       "926708      0  Funny thing, most of the girl pants I've bough...\n",
       "129279      0  Also Ranch dressing, because LBJ was Texan, an..."
      ]
     },
     "execution_count": 16,
     "metadata": {},
     "output_type": "execute_result"
    }
   ],
   "source": [
    "df.shape\n",
    "#df6 = df[['label', 'comment', 'parent_comment']]\n",
    "df6 = df[['label', 'comment']]\n",
    "df6.head()"
   ]
  },
  {
   "cell_type": "code",
   "execution_count": 17,
   "metadata": {},
   "outputs": [],
   "source": [
    "df6.to_csv('t6.csv', index=False)"
   ]
  },
  {
   "cell_type": "code",
   "execution_count": 2,
   "metadata": {},
   "outputs": [],
   "source": [
    "import torch\n",
    "import torch.nn as nn\n",
    "import torch.nn.functional as F\n",
    "import torch.optim as optim\n",
    "\n",
    "from torchtext.data import Field, LabelField, BucketIterator, TabularDataset, Iterator\n",
    "\n",
    "import spacy\n",
    "import nltk\n",
    "import gensim\n",
    "\n",
    "import en_core_web_sm\n",
    "\n",
    "spacy_en = en_core_web_sm.load()\n",
    "\n",
    "def tokenizer(text): # create a tokenizer function\n",
    "    return [tok.text for tok in spacy_en.tokenizer(text) if tok.text.isalpha()]            \n"
   ]
  },
  {
   "cell_type": "code",
   "execution_count": null,
   "metadata": {},
   "outputs": [],
   "source": []
  },
  {
   "cell_type": "code",
   "execution_count": 23,
   "metadata": {},
   "outputs": [
    {
     "name": "stdout",
     "output_type": "stream",
     "text": [
      "t6.csv\n",
      "40158\n",
      "['<unk>', '<pad>', '<eos>', 'like', 'would', 'yeah', 'people', 'get', 'one', 'well', 'know', 'think', 'good', 'right', 'really', 'sure', 'time', 'ca', 'could', 'yes']\n"
     ]
    }
   ],
   "source": [
    "# tt\n",
    "\n",
    "TEXT = Field(include_lengths=True, batch_first=True, \n",
    "             tokenize=tokenizer,\n",
    "             eos_token='<eos>',\n",
    "             lower=True,\n",
    "             stop_words=nltk.corpus.stopwords.words('english'))\n",
    "\n",
    "LABEL = LabelField(dtype=torch.int64)\n",
    "\n",
    "\n",
    "FILE = 't6.csv'\n",
    "print(FILE)\n",
    "\n",
    "dataset = TabularDataset(FILE, format='csv', \n",
    "    fields=[('label', LABEL), ('text', TEXT)], skip_header=True)\n",
    "\n",
    "TEXT.build_vocab(dataset, min_freq=5, vectors=\"glove.6B.100d\")\n",
    "\n",
    "LABEL.build_vocab(dataset)\n",
    "\n",
    "train_data, test_data = dataset.split(stratified=True, split_ratio=0.8)\n",
    "                            \n",
    "#train, valid = train.split(stratified=True)\n",
    "\n",
    "batch_size = 32\n",
    "\n",
    "train_iterator, test_iterator = BucketIterator.splits(\n",
    "    (train_data, test_data),\n",
    "    batch_sizes=(batch_size, batch_size),\n",
    "    shuffle=True,\n",
    "    sort_key=lambda x: len(x.text),\n",
    "#     sort_within_batch=True,\n",
    ")\n",
    "\n",
    "#train_iterator, valid_iterator, test_iterator = BucketIterator.splits(\n",
    "#    (train, valid, test),\n",
    "#    batch_sizes=(batch_size, batch_size, batch_size),\n",
    "#    shuffle=True,\n",
    "#    sort_key=lambda x: len(x.text),\n",
    "#     sort_within_batch=True,\n",
    "#)\n",
    "\n",
    "\n",
    "pretrained_embeddings = TEXT.vocab.vectors\n",
    "#model.embedding.weight.data.copy_(pretrained_embeddings)\n",
    "\n",
    "print(len(TEXT.vocab.itos))\n",
    "print(TEXT.vocab.itos[:20])"
   ]
  },
  {
   "cell_type": "code",
   "execution_count": 74,
   "metadata": {},
   "outputs": [
    {
     "name": "stdout",
     "output_type": "stream",
     "text": [
      "10123\n",
      "['<unk>', '<pad>', '<eos>', 'like', 'would', 'yeah', 'people', 'get', 'one', 'well', 'know', 'think', 'good', 'right', 'really', 'sure', 'time', 'ca', 'could', 'yes']\n"
     ]
    }
   ],
   "source": [
    "TEXT.build_vocab(dataset, min_freq=50, vectors=\"glove.6B.100d\")\n",
    "print(len(TEXT.vocab.itos))\n",
    "print(TEXT.vocab.itos[:20])\n",
    "\n",
    "batch_size = 64\n",
    "\n",
    "train_iterator, test_iterator = BucketIterator.splits(\n",
    "    (train_data, test_data),\n",
    "    batch_sizes=(batch_size, batch_size),\n",
    "    shuffle=True,\n",
    "    sort_key=lambda x: len(x.text),\n",
    "#     sort_within_batch=True,\n",
    ")\n",
    "\n",
    "pretrained_embeddings = TEXT.vocab.vectors\n",
    "#model.embedding.weight.data.copy_(pretrained_embeddings)\n"
   ]
  },
  {
   "cell_type": "code",
   "execution_count": null,
   "metadata": {},
   "outputs": [],
   "source": [
    "# t5\n",
    "#11053\n",
    "#['<unk>', '<pad>', '<eos>', 'like', 'would', 'yeah', 'people', 'get', 'one', 'well', 'know', 'think', 'money', 'good', 'right', 'really', 'sure', 'ca', 'time', 'make']"
   ]
  },
  {
   "cell_type": "code",
   "execution_count": 87,
   "metadata": {},
   "outputs": [
    {
     "data": {
      "text/plain": [
       "808660"
      ]
     },
     "execution_count": 87,
     "metadata": {},
     "output_type": "execute_result"
    }
   ],
   "source": [
    "len(train_data)"
   ]
  },
  {
   "cell_type": "code",
   "execution_count": 88,
   "metadata": {},
   "outputs": [
    {
     "name": "stdout",
     "output_type": "stream",
     "text": [
      "test.csv\n"
     ]
    }
   ],
   "source": [
    "FILE = 'test.csv'\n",
    "print(FILE)\n",
    "\n",
    "test6 = TabularDataset(FILE, format='csv', \n",
    "    fields=[(None, None), ('label', LABEL), ('text', TEXT)], skip_header=True)"
   ]
  },
  {
   "cell_type": "code",
   "execution_count": 93,
   "metadata": {},
   "outputs": [
    {
     "name": "stdout",
     "output_type": "stream",
     "text": [
      "210826 64\n"
     ]
    }
   ],
   "source": [
    "print(len(test6), batch_size)"
   ]
  },
  {
   "cell_type": "code",
   "execution_count": 94,
   "metadata": {},
   "outputs": [],
   "source": [
    "batch_size = 64\n",
    "\n",
    "test6_iterator = BucketIterator(test6, batch_size, shuffle=True,\n",
    "    sort_key=lambda x: len(x.text))"
   ]
  },
  {
   "cell_type": "code",
   "execution_count": 46,
   "metadata": {},
   "outputs": [
    {
     "name": "stdout",
     "output_type": "stream",
     "text": [
      "8738\n",
      "['<unk>', '<pad>', '<eos>', 'like', 'would', 'yeah', 'people', 'get', 'one', 'well', 'know', 'think', 'good', 'right', 'sure', 'really', 'time', 'ca', 'yes', 'could']\n",
      "800000 210826 32\n"
     ]
    }
   ],
   "source": [
    "# 5\n",
    "\n",
    "\n",
    "TRAIN = 'train5.csv'\n",
    "TEST = 'test5.csv'\n",
    "FREQ = 5\n",
    "\n",
    "TRAIN = 'train6.csv'\n",
    "TEST = 'test6.csv'\n",
    "FREQ = 50\n",
    "\n",
    "TEXT = Field(include_lengths=True, batch_first=True, \n",
    "             tokenize=tokenizer,\n",
    "             eos_token='<eos>',\n",
    "             lower=True,\n",
    "             stop_words=nltk.corpus.stopwords.words('english'))\n",
    "\n",
    "LABEL = LabelField(dtype=torch.int64)\n",
    "\n",
    "INDEX = Field(sequential=False, use_vocab=False, dtype=torch.int64)\n",
    "\n",
    "d_train = TabularDataset(TRAIN, format='csv', \n",
    "    fields=[('index', INDEX), ('label', LABEL), ('text', TEXT)], skip_header=True)\n",
    "\n",
    "d_test = TabularDataset(TEST, format='csv', \n",
    "    fields=[('index', INDEX), ('label', LABEL), ('text', TEXT)], skip_header=True)\n",
    "\n",
    "batch_size = 32\n",
    "\n",
    "TEXT.build_vocab(d_train, min_freq=FREQ, vectors=\"glove.6B.100d\")\n",
    "LABEL.build_vocab(d_train)\n",
    "\n",
    "train_iterator = BucketIterator(d_train, batch_size, shuffle=True,\n",
    "    sort_key=lambda x: len(x.text))\n",
    "\n",
    "test_iterator = BucketIterator(d_test, batch_size, shuffle=True,\n",
    "    sort_key=lambda x: len(x.text))\n",
    "\n",
    "pretrained_embeddings = TEXT.vocab.vectors\n",
    "\n",
    "print(len(TEXT.vocab.itos))\n",
    "print(TEXT.vocab.itos[:20])\n",
    "print(len(d_train), len(d_test), batch_size)\n"
   ]
  },
  {
   "cell_type": "code",
   "execution_count": null,
   "metadata": {},
   "outputs": [],
   "source": []
  },
  {
   "cell_type": "code",
   "execution_count": null,
   "metadata": {},
   "outputs": [],
   "source": []
  },
  {
   "cell_type": "code",
   "execution_count": 101,
   "metadata": {},
   "outputs": [
    {
     "data": {
      "text/plain": [
       "56"
      ]
     },
     "execution_count": 101,
     "metadata": {},
     "output_type": "execute_result"
    }
   ],
   "source": [
    "import sys\n",
    "sys.getsizeof(train5)"
   ]
  },
  {
   "cell_type": "code",
   "execution_count": null,
   "metadata": {},
   "outputs": [],
   "source": []
  },
  {
   "cell_type": "code",
   "execution_count": 52,
   "metadata": {},
   "outputs": [],
   "source": []
  },
  {
   "cell_type": "code",
   "execution_count": null,
   "metadata": {},
   "outputs": [],
   "source": []
  },
  {
   "cell_type": "code",
   "execution_count": 48,
   "metadata": {},
   "outputs": [
    {
     "name": "stdout",
     "output_type": "stream",
     "text": [
      "8738 1\n",
      "Parameter containing:\n",
      "tensor([[ 0.0000,  0.0000,  0.0000,  ...,  0.0000,  0.0000,  0.0000],\n",
      "        [ 0.0000,  0.0000,  0.0000,  ...,  0.0000,  0.0000,  0.0000],\n",
      "        [ 0.0000,  0.0000,  0.0000,  ...,  0.0000,  0.0000,  0.0000],\n",
      "        ...,\n",
      "        [-0.9554, -0.2911, -0.0746,  ..., -1.1536,  0.7494, -0.4389],\n",
      "        [-0.1964, -0.6269, -0.6126,  ..., -1.0134, -0.6657, -0.6404],\n",
      "        [-0.0060,  0.4116,  0.2611,  ..., -0.4815,  0.4309,  0.4570]]) torch.Size([8738, 100])\n",
      "CNN(\n",
      "  (embedding): Embedding(8738, 100)\n",
      "  (conv_0): Conv1d(1, 100, kernel_size=(2, 100), stride=(1,))\n",
      "  (conv_1): Conv1d(1, 100, kernel_size=(3, 100), stride=(1,))\n",
      "  (conv_2): Conv1d(1, 100, kernel_size=(4, 100), stride=(1,))\n",
      "  (conv_3): Conv1d(1, 100, kernel_size=(5, 100), stride=(1,))\n",
      "  (fc1): Linear(in_features=400, out_features=100, bias=True)\n",
      "  (dropout): Dropout(p=0.5)\n",
      "  (fc2): Linear(in_features=100, out_features=20, bias=True)\n",
      "  (fc3): Linear(in_features=20, out_features=1, bias=True)\n",
      ")\n"
     ]
    }
   ],
   "source": [
    "class CNN(nn.Module):\n",
    "    def __init__(self, vocab_size, embedding_dim, n_filters, filter_sizes, output_dim, dropout):\n",
    "        super().__init__()\n",
    "        \n",
    "        self.embedding = nn.Embedding(vocab_size, embedding_dim)\n",
    "\n",
    "        #self.convs = nn.ModuleList([nn.Conv2d(in_channels=1, out_channels=n_filters, \n",
    "        #        kernel_size=(fs,embedding_dim)) for fs in filter_sizes])\n",
    "        \n",
    "        # nn.Conv1d(embed_size, hidden_size, k, padding=5)\n",
    "        \n",
    "        self.conv_0 = nn.Conv1d(in_channels=1, out_channels=n_filters, \n",
    "                                kernel_size=(filter_sizes[0], embedding_dim))\n",
    "\n",
    "        self.conv_1 = nn.Conv1d(in_channels=1, out_channels=n_filters,\n",
    "                        kernel_size=(filter_sizes[1], embedding_dim))        \n",
    "\n",
    "        self.conv_2 = nn.Conv1d(in_channels=1, out_channels=n_filters,\n",
    "                        kernel_size=(filter_sizes[2], embedding_dim))        \n",
    "        \n",
    "        self.conv_3 = nn.Conv1d(in_channels=1, out_channels=n_filters,\n",
    "                                kernel_size=(filter_sizes[3], embedding_dim))        \n",
    "\n",
    "        self.fc1 = nn.Linear(len(filter_sizes)*n_filters, 100)\n",
    "        \n",
    "        self.dropout = nn.Dropout(dropout)\n",
    "        \n",
    "        self.fc2 = nn.Linear(100, 20)\n",
    "        \n",
    "        self.fc3 = nn.Linear(20, 1)\n",
    "        \n",
    "    def forward(self, x):\n",
    "        \n",
    "        #x = [batch size, sent len]\n",
    "        #print('1 - x size=', x.size())\n",
    "\n",
    "        embedded = self.embedding(x)\n",
    "                \n",
    "        #embedded = [batch size, sent len, emb dim]\n",
    "        #print('2 - embedded size=', embedded.size())\n",
    "        \n",
    "        embedded = embedded.unsqueeze(1)\n",
    "        \n",
    "        #print('2 - embedded size=', embedded.size())\n",
    "        \n",
    "        #embedded = [batch size, 1, sent len, emb dim]\n",
    "        #print('= embedded size=', embedded.size())\n",
    "        \n",
    "        #conved = [F.relu(conv(embedded)).squeeze(3) for conv in self.convs]\n",
    "        \n",
    "        conved_0 = F.relu(self.conv_0(embedded).squeeze(3))\n",
    "        conved_1 = F.relu(self.conv_1(embedded).squeeze(3))\n",
    "        conved_2 = F.relu(self.conv_2(embedded).squeeze(3))\n",
    "        conved_3 = F.relu(self.conv_3(embedded).squeeze(3))        \n",
    "            \n",
    "        #conv_n = [batch size, n_filters, sent len - filter_sizes[n]]\n",
    "        \n",
    "        #pooled = [F.max_pool1d(conv, conv.shape[2]).squeeze(2) for conv in conved]\n",
    "        \n",
    "        #print('40 - conved size0=', conved_0.size())\n",
    "        #print('41 - conved size1=', conved_1.size())\n",
    "        #print('42 - conved size2=', conved_2.size())\n",
    "        #print('43 - conved size3=', conved_3.size())\n",
    "\n",
    "        pooled_0 = F.max_pool1d(conved_0, conved_0.shape[2]).squeeze(2)\n",
    "        pooled_1 = F.max_pool1d(conved_1, conved_1.shape[2]).squeeze(2)\n",
    "        pooled_2 = F.max_pool1d(conved_2, conved_2.shape[2]).squeeze(2)        \n",
    "        pooled_3 = F.max_pool1d(conved_3, conved_3.shape[2]).squeeze(2)                \n",
    "\n",
    "        #pooled_n = [batch size, n_filters]        \n",
    "        \n",
    "        cat = self.dropout(torch.cat((pooled_0, pooled_1, pooled_2, pooled_3), dim=1))\n",
    "\n",
    "        #cat = [batch size, n_filters * len(filter_sizes)]\n",
    "        \n",
    "        x = self.fc1(cat)\n",
    "        x = self.fc2(x)\n",
    "        x = self.fc3(x)\n",
    "            \n",
    "        return x\n",
    "    \n",
    "INPUT_DIM = len(TEXT.vocab)\n",
    "EMBEDDING_DIM = 100\n",
    "N_FILTERS = 100\n",
    "FILTER_SIZES = [2,3,4,5]\n",
    "\n",
    "#OUTPUT_DIM = len(LABEL.vocab)\n",
    "OUTPUT_DIM = 1\n",
    "\n",
    "DROPOUT = 0.5\n",
    "print(INPUT_DIM, OUTPUT_DIM)\n",
    "\n",
    "model = CNN(INPUT_DIM, EMBEDDING_DIM, N_FILTERS, \n",
    "                                FILTER_SIZES, OUTPUT_DIM, DROPOUT)\n",
    "\n",
    "# +GLOVE\n",
    "model.embedding.weight.data.copy_(pretrained_embeddings)\n",
    "\n",
    "# +FROZEN\n",
    "model.embedding.weight.requires_grad=False\n",
    "\n",
    "print(model.embedding.weight, model.embedding.weight.size())\n",
    "\n",
    "print(model)    \n",
    "\n"
   ]
  },
  {
   "cell_type": "code",
   "execution_count": 39,
   "metadata": {},
   "outputs": [
    {
     "name": "stdout",
     "output_type": "stream",
     "text": [
      "3125\n",
      "0.6548130699062348 0.504025\n"
     ]
    }
   ],
   "source": [
    "optimizer = optim.Adam(model.parameters())\n",
    "\n",
    "len1 = len(train_iterator)    \n",
    "print(len1)\n",
    "\n",
    "epoch_loss = 0\n",
    "epoch_acc = 0\n",
    "    \n",
    "model.train()\n",
    "    \n",
    "for batch in train_iterator:\n",
    "    \n",
    "    optimizer.zero_grad()\n",
    "    \n",
    "    #text = bb5(batch.text[0])\n",
    "    #print(text.size())\n",
    "    text = batch.text[0]\n",
    "    target = batch.label        \n",
    "    \n",
    "    #print(target.size(), target)\n",
    "    #print(text.size(), text)\n",
    "    \n",
    "    #print(target.size(), text.size())\n",
    "    \n",
    "    predictions = model(text)\n",
    "    \n",
    "    #break\n",
    "    \n",
    "    prob = F.sigmoid(predictions)\n",
    "    loss = F.binary_cross_entropy(prob, target.float())\n",
    "    acc = accuracy(prob, target)\n",
    "        \n",
    "    loss.backward()\n",
    "    optimizer.step()\n",
    "        \n",
    "    epoch_loss += loss.item()\n",
    "    epoch_acc += acc.item()\n",
    "\n",
    "print(epoch_loss / len1, epoch_acc / len1)"
   ]
  },
  {
   "cell_type": "code",
   "execution_count": null,
   "metadata": {},
   "outputs": [],
   "source": []
  },
  {
   "cell_type": "code",
   "execution_count": 166,
   "metadata": {},
   "outputs": [
    {
     "name": "stdout",
     "output_type": "stream",
     "text": [
      "tensor([[0],\n",
      "        [1],\n",
      "        [2],\n",
      "        [3],\n",
      "        [4]])\n"
     ]
    }
   ],
   "source": [
    "aa = torch.tensor(range(5))\n",
    "aa = aa.unsqueeze(1)\n",
    "print(aa)"
   ]
  },
  {
   "cell_type": "code",
   "execution_count": null,
   "metadata": {},
   "outputs": [],
   "source": []
  },
  {
   "cell_type": "code",
   "execution_count": null,
   "metadata": {},
   "outputs": [],
   "source": []
  },
  {
   "cell_type": "code",
   "execution_count": 160,
   "metadata": {},
   "outputs": [],
   "source": [
    "#print(model.parameters)\n",
    "#for param in model.parameters():\n",
    "#      print(type(param.data), param.size())"
   ]
  },
  {
   "cell_type": "code",
   "execution_count": null,
   "metadata": {},
   "outputs": [],
   "source": []
  },
  {
   "cell_type": "code",
   "execution_count": 186,
   "metadata": {},
   "outputs": [
    {
     "name": "stdout",
     "output_type": "stream",
     "text": [
      "torch.Size([32, 100, 14, 1])\n",
      "Conv1d(1, 100, kernel_size=(2, 100), stride=(1,))\n",
      "torch.Size([100, 1, 2, 100])\n",
      "torch.Size([100])\n"
     ]
    }
   ],
   "source": [
    "a = torch.randn(32, 1, 15, 100)  \n",
    "#m = nn.Conv1d(1, 100, (2,100), padding=1) \n",
    "m = nn.Conv1d(1, 100, (2,100)) \n",
    "out = m(a)\n",
    "print(out.size())\n",
    "print(m)\n",
    "print(m.weight.size())\n",
    "print(m.bias.size())\n",
    "\n",
    "pool = F.max_pool1d(out, out.shape[2])."
   ]
  },
  {
   "cell_type": "code",
   "execution_count": 187,
   "metadata": {},
   "outputs": [
    {
     "data": {
      "text/plain": [
       "14"
      ]
     },
     "execution_count": 187,
     "metadata": {},
     "output_type": "execute_result"
    }
   ],
   "source": [
    "out.shape[2]"
   ]
  },
  {
   "cell_type": "code",
   "execution_count": null,
   "metadata": {},
   "outputs": [],
   "source": []
  },
  {
   "cell_type": "code",
   "execution_count": 116,
   "metadata": {},
   "outputs": [
    {
     "name": "stdout",
     "output_type": "stream",
     "text": [
      "torch.Size([100, 1, 2, 100])\n"
     ]
    },
    {
     "data": {
      "text/plain": [
       "tensor(0.0405, grad_fn=<SelectBackward>)"
      ]
     },
     "execution_count": 116,
     "metadata": {},
     "output_type": "execute_result"
    }
   ],
   "source": [
    "aa = list(model.conv_0.parameters())\n",
    "print(aa[0].size())\n",
    "aa[0][1,0,1,1]"
   ]
  },
  {
   "cell_type": "code",
   "execution_count": 12,
   "metadata": {},
   "outputs": [
    {
     "name": "stdout",
     "output_type": "stream",
     "text": [
      "          weight 1104200\n",
      "   + weight= torch.Size([11042, 100])\n",
      "- embedding - Embedding(11042, 100) - 1104200 \n",
      "\n",
      "          bias 100\n",
      "          weight 20000\n",
      "   + weight= torch.Size([100, 1, 2, 100])\n",
      "   + bias= torch.Size([100])\n",
      "- conv_0 - Conv1d(1, 100, kernel_size=(2, 100), stride=(1,)) - 20100 \n",
      "\n",
      "          bias 100\n",
      "          weight 30000\n",
      "   + weight= torch.Size([100, 1, 3, 100])\n",
      "   + bias= torch.Size([100])\n",
      "- conv_1 - Conv1d(1, 100, kernel_size=(3, 100), stride=(1,)) - 30100 \n",
      "\n",
      "          bias 100\n",
      "          weight 40000\n",
      "   + weight= torch.Size([100, 1, 4, 100])\n",
      "   + bias= torch.Size([100])\n",
      "- conv_2 - Conv1d(1, 100, kernel_size=(4, 100), stride=(1,)) - 40100 \n",
      "\n",
      "          bias 100\n",
      "          weight 50000\n",
      "   + weight= torch.Size([100, 1, 5, 100])\n",
      "   + bias= torch.Size([100])\n",
      "- conv_3 - Conv1d(1, 100, kernel_size=(5, 100), stride=(1,)) - 50100 \n",
      "\n",
      "          bias 100\n",
      "          weight 40000\n",
      "   + weight= torch.Size([100, 400])\n",
      "   + bias= torch.Size([100])\n",
      "- fc1 - Linear(in_features=400, out_features=100, bias=True) - 40100 \n",
      "\n",
      "- dropout - Dropout(p=0.5) - 0 \n",
      "\n",
      "          bias 20\n",
      "          weight 2000\n",
      "   + weight= torch.Size([20, 100])\n",
      "   + bias= torch.Size([20])\n",
      "- fc2 - Linear(in_features=100, out_features=20, bias=True) - 2020 \n",
      "\n",
      "          bias 1\n",
      "          weight 20\n",
      "   + weight= torch.Size([1, 20])\n",
      "   + bias= torch.Size([1])\n",
      "- fc3 - Linear(in_features=20, out_features=1, bias=True) - 21 \n",
      "\n",
      "nall= 1286741\n"
     ]
    }
   ],
   "source": [
    "nall = 0\n",
    "for name, t in model.named_children():\n",
    "    numel = nattr(t)\n",
    "    #print('-', t)\n",
    "    if hasattr(t, 'weight'):\n",
    "        d = getattr(t, 'weight')\n",
    "        print('   + weight=', d.size())\n",
    "        \n",
    "    if hasattr(t, 'bias'):\n",
    "        d = getattr(t, 'bias')\n",
    "        print('   + bias=', d.size())\n",
    "        \n",
    "    print('-', name, '-', t, '-', numel, '\\n')\n",
    "    \n",
    "    #print('    ', dir(t))\n",
    "    nall += numel\n",
    "print('nall=', nall)"
   ]
  },
  {
   "cell_type": "code",
   "execution_count": 13,
   "metadata": {},
   "outputs": [
    {
     "name": "stdout",
     "output_type": "stream",
     "text": [
      "Parameter containing:\n",
      "tensor([[ 0.0000,  0.0000,  0.0000,  ...,  0.0000,  0.0000,  0.0000],\n",
      "        [ 0.0000,  0.0000,  0.0000,  ...,  0.0000,  0.0000,  0.0000],\n",
      "        [ 0.0000,  0.0000,  0.0000,  ...,  0.0000,  0.0000,  0.0000],\n",
      "        ...,\n",
      "        [-0.4198, -0.1956, -0.2468,  ..., -0.4826, -0.6925, -0.5460],\n",
      "        [-0.0452, -0.1997, -0.0924,  ..., -0.1684, -0.1677,  0.9691],\n",
      "        [ 0.0000,  0.0000,  0.0000,  ...,  0.0000,  0.0000,  0.0000]]) torch.Size([11042, 100])\n"
     ]
    }
   ],
   "source": [
    "# FROZEN\n",
    "model.embedding.weight.requires_grad=False\n",
    "print(model.embedding.weight, model.embedding.weight.size())"
   ]
  },
  {
   "cell_type": "code",
   "execution_count": 52,
   "metadata": {},
   "outputs": [
    {
     "data": {
      "text/plain": [
       "True"
      ]
     },
     "execution_count": 52,
     "metadata": {},
     "output_type": "execute_result"
    }
   ],
   "source": [
    "model.embedding.weight.requires_grad=True\n",
    "model.embedding.weight.requires_grad"
   ]
  },
  {
   "cell_type": "code",
   "execution_count": null,
   "metadata": {},
   "outputs": [],
   "source": []
  },
  {
   "cell_type": "code",
   "execution_count": null,
   "metadata": {},
   "outputs": [],
   "source": []
  },
  {
   "cell_type": "code",
   "execution_count": null,
   "metadata": {},
   "outputs": [],
   "source": [
    "def pattr(obj, lev):\n",
    "    #print(dir(obj))\n",
    "    for s in dir(obj):\n",
    "        if not hasattr(obj, s):\n",
    "            continue\n",
    "        if s.startswith('_'):\n",
    "            continue\n",
    "        #set_trace()\n",
    "        at = getattr(obj, s)\n",
    "        \n",
    "        ts = type(at)\n",
    "        tab = '        ' * lev\n",
    "        print(tab, s, ts)\n",
    "        if str(ts) == \"<class 'method'>\":\n",
    "            continue\n",
    "        print(tab, '=====================')\n",
    "        if str(ts).count('parameter'):\n",
    "            print(tab, '==', at.size(), str(at))\n",
    "        else :\n",
    "            print(tab, '==', str(at))\n",
    "            \n",
    "        if lev < 1:\n",
    "            pattr(at, lev + 1)\n",
    "        \n",
    "pattr(model, 0)   \n"
   ]
  },
  {
   "cell_type": "code",
   "execution_count": 9,
   "metadata": {},
   "outputs": [
    {
     "name": "stdout",
     "output_type": "stream",
     "text": [
      "          bias 100\n",
      "          weight 50000\n"
     ]
    },
    {
     "data": {
      "text/plain": [
       "50100"
      ]
     },
     "execution_count": 9,
     "metadata": {},
     "output_type": "execute_result"
    }
   ],
   "source": [
    "# Число нейронов, без рекурсии\n",
    "def nattr(obj):\n",
    "    numel = 0\n",
    "    #print(dir(obj))\n",
    "    for s in dir(obj):\n",
    "        if s.startswith('_'):\n",
    "            continue\n",
    "        at = getattr(obj, s)\n",
    "        ts = type(at)\n",
    "        if str(ts).count('parameter'):\n",
    "            #print(str(s), at.size(), at.numel(), str(at))\n",
    "            tab = '         '\n",
    "            print(tab, str(s), at.numel())\n",
    "            numel += at.numel()\n",
    "    return numel\n",
    "        \n",
    "nattr(model.conv_3)   \n"
   ]
  },
  {
   "cell_type": "code",
   "execution_count": null,
   "metadata": {},
   "outputs": [],
   "source": []
  },
  {
   "cell_type": "code",
   "execution_count": null,
   "metadata": {},
   "outputs": [],
   "source": []
  },
  {
   "cell_type": "code",
   "execution_count": null,
   "metadata": {},
   "outputs": [],
   "source": []
  },
  {
   "cell_type": "code",
   "execution_count": null,
   "metadata": {},
   "outputs": [],
   "source": []
  },
  {
   "cell_type": "code",
   "execution_count": 84,
   "metadata": {},
   "outputs": [
    {
     "name": "stdout",
     "output_type": "stream",
     "text": [
      "tensor([0.2045, 0.1463, 0.9748, 0.6753, 0.9348]) tensor(0.6000)\n"
     ]
    }
   ],
   "source": [
    "# model\n",
    "\n",
    "def accuracy(y_pred, y_true):\n",
    "    y_true = y_true.byte()\n",
    "    y_pred = torch.ge(y_pred, 0.5)\n",
    "    return torch.mean(torch.eq(y_pred, y_true).float())\n",
    "\n",
    "\n",
    "a = torch.rand(5) \n",
    "d = torch.ones(5)\n",
    "print(a, accuracy(a, d))\n",
    "\n",
    "def bb5(t0):\n",
    "    s = t0.size()[1]\n",
    "    if s == 4:\n",
    "        t0 = F.pad(t0, (0, 1), 'constant', 1)\n",
    "    elif s == 3:\n",
    "        t0 = F.pad(t0, (0, 1), 'constant', 1)\n",
    "        t0 = F.pad(t0, (0, 1), 'constant', 1)\n",
    "    elif s == 2:        \n",
    "        t0 = F.pad(t0, (0, 1), 'constant', 1)\n",
    "        t0 = F.pad(t0, (0, 1), 'constant', 1)\n",
    "        t0 = F.pad(t0, (0, 1), 'constant', 1)        \n",
    "    elif s == 1:        \n",
    "        t0 = F.pad(t0, (0, 1), 'constant', 1)\n",
    "        t0 = F.pad(t0, (0, 1), 'constant', 1)\n",
    "        t0 = F.pad(t0, (0, 1), 'constant', 1)        \n",
    "        t0 = F.pad(t0, (0, 1), 'constant', 1)                \n",
    "    return t0\n",
    "\n",
    "def train(model, iterator, optimizer, criterion):\n",
    "\n",
    "    epoch_loss = 0\n",
    "    epoch_acc = 0\n",
    "\n",
    "    model.train()\n",
    "\n",
    "    i = 0\n",
    "    for batch in iterator:\n",
    "        optimizer.zero_grad()\n",
    "        \n",
    "        text = bb5(batch.text[0])\n",
    "        #text = batch.text[0]\n",
    "        #print(text.size())\n",
    "        #target = batch.label    \n",
    "        \n",
    "        y_train = batch.label.float()  \n",
    "        \n",
    "        i += 1\n",
    "        #if i > 2: \n",
    "        #    break\n",
    "        \n",
    "        logging.info(str(epoch) + ' ' + str(i) + ' ' + str(text.size()))\n",
    "       \n",
    "        pred = model(text)        \n",
    "        y_pred = F.sigmoid(pred)        \n",
    "        y_pred = y_pred.squeeze()\n",
    "        loss = criterion(y_pred, y_train)\n",
    "        acc = accuracy(y_pred, y_train)\n",
    "        \n",
    "        loss.backward()\n",
    "        optimizer.step()\n",
    "        \n",
    "        epoch_loss += loss.item()\n",
    "        epoch_acc += acc.item()\n",
    "\n",
    "    return epoch_loss / len(iterator), epoch_acc / len(iterator)\n",
    "\n",
    "def evaluate(model, iterator, criterion):\n",
    "    \n",
    "    epoch_loss = 0\n",
    "    epoch_acc = 0\n",
    "    \n",
    "    out = 'index,y_pred,y_test\\n'\n",
    "    PRINT = 0\n",
    "    \n",
    "    model.eval()\n",
    "    \n",
    "    with torch.no_grad():\n",
    "        \n",
    "        i = 0\n",
    "        for batch in iterator:\n",
    "            \n",
    "            i += 1\n",
    "            text = bb5(batch.text[0])\n",
    "            #text = batch.text[0]\n",
    "            target = batch.label        \n",
    "            \n",
    "            y_test = batch.label.float()  \n",
    "            \n",
    "            ind = batch.index\n",
    "            \n",
    "            predictions = model(text)\n",
    "            prob = F.sigmoid(predictions)\n",
    "            \n",
    "            pred = model(text)        \n",
    "            y_pred = F.sigmoid(pred)            \n",
    "            y_pred = y_pred.squeeze()\n",
    "            loss = criterion(y_pred, y_test)\n",
    "            acc = accuracy(y_pred, y_test)\n",
    "            \n",
    "            if i == -1:\n",
    "                print('text', text)\n",
    "                print('target', target)\n",
    "                print('ind', ind)\n",
    "                print('prob', prob)                \n",
    "            \n",
    "            if PRINT:\n",
    "                list1 = [str(x) for x in ind.tolist()]\n",
    "                list2 = [str(x) for x in y_pred.tolist()]\n",
    "                list3 = [str(x) for x in y_test.tolist()]\n",
    "                for k in range(len(batch)):\n",
    "                    out += list1[k] + ',' + list2[k] + ',' + list3[k] + '\\n'\n",
    "            \n",
    "            epoch_loss += loss.item()\n",
    "            epoch_acc += acc.item()\n",
    "            \n",
    "            #if i > 2:\n",
    "            #    break\n",
    "    \n",
    "    if PRINT:\n",
    "        with open('test_pt.csv', 'w') as f:\n",
    "            f.write(out)\n",
    "        \n",
    "    return epoch_loss / len(iterator), epoch_acc / len(iterator)"
   ]
  },
  {
   "cell_type": "code",
   "execution_count": null,
   "metadata": {},
   "outputs": [],
   "source": []
  },
  {
   "cell_type": "code",
   "execution_count": 86,
   "metadata": {},
   "outputs": [
    {
     "name": "stdout",
     "output_type": "stream",
     "text": [
      "len_train= 25000\n",
      "len_test= 6589\n",
      "Epoch: 01 | Train Loss: 0.581 | Train Acc: 69.02%\n",
      "elapsed=772.6 | Test Loss: 0.593 | Test Acc: 67.82%\n",
      "Epoch: 02 | Train Loss: 0.579 | Train Acc: 69.19%\n",
      "elapsed=761.5 | Test Loss: 0.592 | Test Acc: 67.93%\n",
      "Epoch: 03 | Train Loss: 0.578 | Train Acc: 69.30%\n",
      "elapsed=761.5 | Test Loss: 0.592 | Test Acc: 68.00%\n",
      "Epoch: 04 | Train Loss: 0.576 | Train Acc: 69.47%\n",
      "elapsed=766.9 | Test Loss: 0.593 | Test Acc: 67.90%\n",
      "Epoch: 05 | Train Loss: 0.575 | Train Acc: 69.46%\n",
      "elapsed=762.7 | Test Loss: 0.591 | Test Acc: 68.07%\n",
      "Epoch: 06 | Train Loss: 0.573 | Train Acc: 69.63%\n",
      "elapsed=767.8 | Test Loss: 0.592 | Test Acc: 67.96%\n",
      "Epoch: 07 | Train Loss: 0.572 | Train Acc: 69.77%\n",
      "elapsed=766.2 | Test Loss: 0.593 | Test Acc: 68.09%\n",
      "Epoch: 08 | Train Loss: 0.571 | Train Acc: 69.86%\n",
      "elapsed=767.9 | Test Loss: 0.593 | Test Acc: 68.08%\n",
      "Epoch: 09 | Train Loss: 0.570 | Train Acc: 69.89%\n",
      "elapsed=764.5 | Test Loss: 0.593 | Test Acc: 68.03%\n",
      "Epoch: 10 | Train Loss: 0.569 | Train Acc: 69.99%\n",
      "elapsed=764.3 | Test Loss: 0.591 | Test Acc: 68.18%\n",
      "Epoch: 11 | Train Loss: 0.568 | Train Acc: 70.17%\n",
      "elapsed=766.2 | Test Loss: 0.592 | Test Acc: 68.09%\n",
      "Epoch: 12 | Train Loss: 0.567 | Train Acc: 70.10%\n",
      "elapsed=765.3 | Test Loss: 0.592 | Test Acc: 68.02%\n",
      "Epoch: 13 | Train Loss: 0.566 | Train Acc: 70.24%\n",
      "elapsed=764.7 | Test Loss: 0.592 | Test Acc: 68.01%\n",
      "Epoch: 14 | Train Loss: 0.565 | Train Acc: 70.34%\n",
      "elapsed=766.2 | Test Loss: 0.593 | Test Acc: 68.00%\n",
      "Epoch: 15 | Train Loss: 0.564 | Train Acc: 70.38%\n",
      "elapsed=769.0 | Test Loss: 0.592 | Test Acc: 68.02%\n",
      "Epoch: 16 | Train Loss: 0.564 | Train Acc: 70.37%\n",
      "elapsed=764.9 | Test Loss: 0.592 | Test Acc: 68.00%\n",
      "Epoch: 17 | Train Loss: 0.563 | Train Acc: 70.47%\n",
      "elapsed=767.2 | Test Loss: 0.592 | Test Acc: 68.14%\n",
      "Epoch: 18 | Train Loss: 0.562 | Train Acc: 70.54%\n",
      "elapsed=765.5 | Test Loss: 0.592 | Test Acc: 68.08%\n",
      "Epoch: 19 | Train Loss: 0.561 | Train Acc: 70.62%\n",
      "elapsed=767.0 | Test Loss: 0.592 | Test Acc: 68.04%\n",
      "Epoch: 20 | Train Loss: 0.560 | Train Acc: 70.67%\n",
      "elapsed=766.7 | Test Loss: 0.596 | Test Acc: 68.06%\n",
      "Epoch: 21 | Train Loss: 0.560 | Train Acc: 70.68%\n",
      "elapsed=766.4 | Test Loss: 0.595 | Test Acc: 68.04%\n",
      "Epoch: 22 | Train Loss: 0.560 | Train Acc: 70.74%\n",
      "elapsed=764.8 | Test Loss: 0.594 | Test Acc: 68.09%\n",
      "Epoch: 23 | Train Loss: 0.559 | Train Acc: 70.77%\n",
      "elapsed=766.2 | Test Loss: 0.596 | Test Acc: 67.93%\n",
      "Epoch: 24 | Train Loss: 0.558 | Train Acc: 70.84%\n",
      "elapsed=766.5 | Test Loss: 0.595 | Test Acc: 68.06%\n",
      "Epoch: 25 | Train Loss: 0.558 | Train Acc: 70.92%\n",
      "elapsed=763.4 | Test Loss: 0.598 | Test Acc: 67.92%\n",
      "Epoch: 26 | Train Loss: 0.557 | Train Acc: 70.97%\n",
      "elapsed=764.1 | Test Loss: 0.593 | Test Acc: 68.05%\n",
      "Epoch: 27 | Train Loss: 0.557 | Train Acc: 71.00%\n",
      "elapsed=764.5 | Test Loss: 0.594 | Test Acc: 68.12%\n",
      "Epoch: 28 | Train Loss: 0.556 | Train Acc: 71.03%\n",
      "elapsed=768.0 | Test Loss: 0.602 | Test Acc: 68.08%\n",
      "Epoch: 29 | Train Loss: 0.555 | Train Acc: 71.10%\n",
      "elapsed=763.8 | Test Loss: 0.593 | Test Acc: 68.11%\n",
      "Epoch: 30 | Train Loss: 0.555 | Train Acc: 71.06%\n",
      "elapsed=764.9 | Test Loss: 0.594 | Test Acc: 68.07%\n",
      "Epoch: 31 | Train Loss: 0.553 | Train Acc: 71.20%\n",
      "elapsed=767.0 | Test Loss: 0.593 | Test Acc: 67.98%\n",
      "Epoch: 32 | Train Loss: 0.554 | Train Acc: 71.20%\n",
      "elapsed=765.4 | Test Loss: 0.594 | Test Acc: 67.95%\n",
      "Epoch: 33 | Train Loss: 0.554 | Train Acc: 71.20%\n",
      "elapsed=767.9 | Test Loss: 0.595 | Test Acc: 68.02%\n",
      "Epoch: 34 | Train Loss: 0.553 | Train Acc: 71.21%\n",
      "elapsed=768.7 | Test Loss: 0.595 | Test Acc: 68.03%\n",
      "Epoch: 35 | Train Loss: 0.552 | Train Acc: 71.31%\n",
      "elapsed=762.0 | Test Loss: 0.595 | Test Acc: 67.94%\n",
      "Epoch: 36 | Train Loss: 0.552 | Train Acc: 71.29%\n",
      "elapsed=762.1 | Test Loss: 0.596 | Test Acc: 68.06%\n",
      "Epoch: 37 | Train Loss: 0.552 | Train Acc: 71.31%\n",
      "elapsed=768.4 | Test Loss: 0.599 | Test Acc: 68.14%\n",
      "Epoch: 38 | Train Loss: 0.552 | Train Acc: 71.35%\n",
      "elapsed=768.7 | Test Loss: 0.601 | Test Acc: 68.03%\n",
      "Epoch: 39 | Train Loss: 0.551 | Train Acc: 71.44%\n",
      "elapsed=765.4 | Test Loss: 0.595 | Test Acc: 68.09%\n",
      "Epoch: 40 | Train Loss: 0.550 | Train Acc: 71.47%\n",
      "elapsed=767.7 | Test Loss: 0.596 | Test Acc: 68.07%\n",
      "best_acc= 0.6818124905153985 epoch_best= 10\n"
     ]
    }
   ],
   "source": [
    "optimizer = optim.Adam(model.parameters())\n",
    "criterion = nn.BCELoss()\n",
    "N_EPOCHS = 40\n",
    "BEST = 0\n",
    "EPOCH = 0\n",
    "\n",
    "print('len_train=', len(train_iterator))\n",
    "print('len_test=', len(test_iterator))\n",
    "\n",
    "for epoch in range(N_EPOCHS):\n",
    "\n",
    "    start = time.time()        \n",
    "\n",
    "    train_loss, train_acc = train(model, train_iterator, optimizer, criterion)\n",
    "    #valid_loss, valid_acc = evaluate(model, valid_iterator)\n",
    "    \n",
    "    print(f'Epoch: {epoch+1:02} | Train Loss: {train_loss:.3f} | Train Acc: {train_acc*100:.2f}%')\n",
    "    \n",
    "    test_loss, test_acc = evaluate(model, test_iterator, criterion)\n",
    "    elapsed = time.time() - start\n",
    "    print(f'elapsed={elapsed:.1f} | Test Loss: {test_loss:.3f} | Test Acc: {test_acc*100:.2f}%')  \n",
    "    \n",
    "    if test_acc > BEST:\n",
    "        BEST = test_acc\n",
    "        EPOCH = epoch + 1\n",
    "        torch.save(model, \"t6.pt\")\n",
    "\n",
    "print('best_acc=', BEST, 'epoch_best=', EPOCH)        "
   ]
  },
  {
   "cell_type": "code",
   "execution_count": null,
   "metadata": {},
   "outputs": [],
   "source": [
    "#############################################"
   ]
  },
  {
   "cell_type": "code",
   "execution_count": 76,
   "metadata": {},
   "outputs": [
    {
     "name": "stdout",
     "output_type": "stream",
     "text": [
      "| elapsed=584.3 | Test Loss: 0.571 | Test Acc: 69.98% |\n"
     ]
    }
   ],
   "source": [
    "# t6\n",
    "#model = torch.load(\"t6.pt\")\n",
    "start = time.time()  \n",
    "test_loss, test_acc = evaluate(model, test_iterator, criterion)\n",
    "elapsed = time.time() - start\n",
    "print(f'| elapsed={elapsed:.1f} | Test Loss: {test_loss:.3f} | Test Acc: {test_acc*100:.2f}% |')  "
   ]
  },
  {
   "cell_type": "code",
   "execution_count": 227,
   "metadata": {},
   "outputs": [],
   "source": []
  },
  {
   "cell_type": "code",
   "execution_count": null,
   "metadata": {},
   "outputs": [],
   "source": []
  },
  {
   "cell_type": "code",
   "execution_count": null,
   "metadata": {},
   "outputs": [],
   "source": []
  },
  {
   "cell_type": "code",
   "execution_count": null,
   "metadata": {},
   "outputs": [],
   "source": [
    "model = torch.load(\"t5.pt\")\n",
    "start = time.time()  \n",
    "test_loss, test_acc = evaluate(model, test5_iterator)\n",
    "elapsed = time.time() - start\n",
    "print(f'| elapsed={elapsed:.1f} | Test Loss: {test_loss:.3f} | Test Acc: {test_acc*100:.2f}% |')  "
   ]
  },
  {
   "cell_type": "code",
   "execution_count": 84,
   "metadata": {},
   "outputs": [
    {
     "name": "stdout",
     "output_type": "stream",
     "text": [
      "| elapsed=40.4 | Test Loss: 0.585 | Test Acc: 68.57% |\n"
     ]
    }
   ],
   "source": [
    "model = torch.load(\"t6.pt\")\n",
    "start = time.time()  \n",
    "test_loss, test_acc = evaluate(model, test_iterator)\n",
    "elapsed = time.time() - start\n",
    "print(f'| elapsed={elapsed:.1f} | Test Loss: {test_loss:.3f} | Test Acc: {test_acc*100:.2f}% |')  "
   ]
  },
  {
   "cell_type": "code",
   "execution_count": null,
   "metadata": {},
   "outputs": [],
   "source": []
  },
  {
   "cell_type": "code",
   "execution_count": 81,
   "metadata": {},
   "outputs": [
    {
     "name": "stdout",
     "output_type": "stream",
     "text": [
      "| elapsed=352.1 | Test Loss: 0.552 | Test Acc: 50.34% |\n"
     ]
    }
   ],
   "source": [
    "# ?\n",
    "model = torch.load(\"t6.pt\")\n",
    "start = time.time()  \n",
    "test_loss, test_acc = evaluate(model, train_iterator)\n",
    "elapsed = time.time() - start\n",
    "print(f'| elapsed={elapsed:.1f} | Test Loss: {test_loss:.3f} | Test Acc: {test_acc*100:.2f}% |')  "
   ]
  },
  {
   "cell_type": "code",
   "execution_count": 54,
   "metadata": {},
   "outputs": [
    {
     "name": "stdout",
     "output_type": "stream",
     "text": [
      "| elapsed=148.2 | Test Loss: 0.603 | Test Acc: 67.05% |\n"
     ]
    }
   ],
   "source": [
    "# t6\n",
    "model = torch.load(\"t6.pt\")\n",
    "start = time.time()  \n",
    "test_loss, test_acc = evaluate(model, test_iterator, criterion)\n",
    "elapsed = time.time() - start\n",
    "print(f'| elapsed={elapsed:.1f} | Test Loss: {test_loss:.3f} | Test Acc: {test_acc*100:.2f}% |')  "
   ]
  },
  {
   "cell_type": "code",
   "execution_count": null,
   "metadata": {},
   "outputs": [],
   "source": []
  },
  {
   "cell_type": "code",
   "execution_count": null,
   "metadata": {},
   "outputs": [],
   "source": []
  },
  {
   "cell_type": "code",
   "execution_count": 83,
   "metadata": {},
   "outputs": [
    {
     "name": "stdout",
     "output_type": "stream",
     "text": [
      "0.6772883799910827\n",
      "0.69976375\n"
     ]
    }
   ],
   "source": [
    "# Проверка точности test_pc.csv\n",
    "\n",
    "d1 = pd.read_csv('test_pt.csv')\n",
    "y1_prob = d1['y_pred']\n",
    "y1_pred = y1_prob > 0.5\n",
    "y1_test = d1['y_test']\n",
    "print(accuracy_score(y1_test, y1_pred))\n",
    "\n",
    "d2 = pd.read_csv('train_pt.csv')\n",
    "y2_prob = d2['y_pred']\n",
    "y2_pred = y2_prob > 0.5\n",
    "y2_test = d2['y_test']\n",
    "print(accuracy_score(y2_test, y2_pred))\n"
   ]
  },
  {
   "cell_type": "code",
   "execution_count": null,
   "metadata": {},
   "outputs": [],
   "source": []
  },
  {
   "cell_type": "code",
   "execution_count": null,
   "metadata": {},
   "outputs": [],
   "source": []
  },
  {
   "cell_type": "code",
   "execution_count": null,
   "metadata": {},
   "outputs": [],
   "source": []
  },
  {
   "cell_type": "code",
   "execution_count": null,
   "metadata": {},
   "outputs": [],
   "source": []
  },
  {
   "cell_type": "code",
   "execution_count": null,
   "metadata": {},
   "outputs": [],
   "source": []
  },
  {
   "cell_type": "code",
   "execution_count": null,
   "metadata": {},
   "outputs": [],
   "source": []
  },
  {
   "cell_type": "code",
   "execution_count": null,
   "metadata": {},
   "outputs": [],
   "source": []
  },
  {
   "cell_type": "code",
   "execution_count": 4,
   "metadata": {},
   "outputs": [],
   "source": [
    "import pdb\n",
    "from IPython.core.debugger import set_trace"
   ]
  },
  {
   "cell_type": "code",
   "execution_count": null,
   "metadata": {},
   "outputs": [],
   "source": [
    " optimizer.zero_grad()"
   ]
  },
  {
   "cell_type": "code",
   "execution_count": null,
   "metadata": {},
   "outputs": [],
   "source": []
  },
  {
   "cell_type": "code",
   "execution_count": 5,
   "metadata": {},
   "outputs": [
    {
     "name": "stdout",
     "output_type": "stream",
     "text": [
      "> \u001b[1;32m<ipython-input-5-7a74ba877499>\u001b[0m(3)\u001b[0;36m<module>\u001b[1;34m()\u001b[0m\n",
      "\u001b[1;32m      1 \u001b[1;33m\u001b[1;32mfor\u001b[0m \u001b[0mi\u001b[0m \u001b[1;32min\u001b[0m \u001b[0mrange\u001b[0m\u001b[1;33m(\u001b[0m\u001b[1;36m10\u001b[0m\u001b[1;33m)\u001b[0m\u001b[1;33m:\u001b[0m\u001b[1;33m\u001b[0m\u001b[0m\n",
      "\u001b[0m\u001b[1;32m      2 \u001b[1;33m    \u001b[0mset_trace\u001b[0m\u001b[1;33m(\u001b[0m\u001b[1;33m)\u001b[0m\u001b[1;33m\u001b[0m\u001b[0m\n",
      "\u001b[0m\u001b[1;32m----> 3 \u001b[1;33m    \u001b[0mprint\u001b[0m\u001b[1;33m(\u001b[0m\u001b[0mi\u001b[0m\u001b[1;33m)\u001b[0m\u001b[1;33m\u001b[0m\u001b[0m\n",
      "\u001b[0m\n"
     ]
    },
    {
     "name": "stdin",
     "output_type": "stream",
     "text": [
      "ipdb>  c\n"
     ]
    },
    {
     "name": "stdout",
     "output_type": "stream",
     "text": [
      "0\n",
      "> \u001b[1;32m<ipython-input-5-7a74ba877499>\u001b[0m(2)\u001b[0;36m<module>\u001b[1;34m()\u001b[0m\n",
      "\u001b[1;32m      1 \u001b[1;33m\u001b[1;32mfor\u001b[0m \u001b[0mi\u001b[0m \u001b[1;32min\u001b[0m \u001b[0mrange\u001b[0m\u001b[1;33m(\u001b[0m\u001b[1;36m10\u001b[0m\u001b[1;33m)\u001b[0m\u001b[1;33m:\u001b[0m\u001b[1;33m\u001b[0m\u001b[0m\n",
      "\u001b[0m\u001b[1;32m----> 2 \u001b[1;33m    \u001b[0mset_trace\u001b[0m\u001b[1;33m(\u001b[0m\u001b[1;33m)\u001b[0m\u001b[1;33m\u001b[0m\u001b[0m\n",
      "\u001b[0m\u001b[1;32m      3 \u001b[1;33m    \u001b[0mprint\u001b[0m\u001b[1;33m(\u001b[0m\u001b[0mi\u001b[0m\u001b[1;33m)\u001b[0m\u001b[1;33m\u001b[0m\u001b[0m\n",
      "\u001b[0m\n"
     ]
    },
    {
     "name": "stdin",
     "output_type": "stream",
     "text": [
      "ipdb>  c\n"
     ]
    },
    {
     "name": "stdout",
     "output_type": "stream",
     "text": [
      "1\n",
      "> \u001b[1;32m<ipython-input-5-7a74ba877499>\u001b[0m(3)\u001b[0;36m<module>\u001b[1;34m()\u001b[0m\n",
      "\u001b[1;32m      1 \u001b[1;33m\u001b[1;32mfor\u001b[0m \u001b[0mi\u001b[0m \u001b[1;32min\u001b[0m \u001b[0mrange\u001b[0m\u001b[1;33m(\u001b[0m\u001b[1;36m10\u001b[0m\u001b[1;33m)\u001b[0m\u001b[1;33m:\u001b[0m\u001b[1;33m\u001b[0m\u001b[0m\n",
      "\u001b[0m\u001b[1;32m      2 \u001b[1;33m    \u001b[0mset_trace\u001b[0m\u001b[1;33m(\u001b[0m\u001b[1;33m)\u001b[0m\u001b[1;33m\u001b[0m\u001b[0m\n",
      "\u001b[0m\u001b[1;32m----> 3 \u001b[1;33m    \u001b[0mprint\u001b[0m\u001b[1;33m(\u001b[0m\u001b[0mi\u001b[0m\u001b[1;33m)\u001b[0m\u001b[1;33m\u001b[0m\u001b[0m\n",
      "\u001b[0m\n"
     ]
    },
    {
     "name": "stdin",
     "output_type": "stream",
     "text": [
      "ipdb>  l\n"
     ]
    },
    {
     "name": "stdout",
     "output_type": "stream",
     "text": [
      "\u001b[0;32m      1 \u001b[0m\u001b[1;32mfor\u001b[0m \u001b[0mi\u001b[0m \u001b[1;32min\u001b[0m \u001b[0mrange\u001b[0m\u001b[1;33m(\u001b[0m\u001b[1;36m10\u001b[0m\u001b[1;33m)\u001b[0m\u001b[1;33m:\u001b[0m\u001b[1;33m\u001b[0m\u001b[0m\n",
      "\u001b[0;32m      2 \u001b[0m    \u001b[0mset_trace\u001b[0m\u001b[1;33m(\u001b[0m\u001b[1;33m)\u001b[0m\u001b[1;33m\u001b[0m\u001b[0m\n",
      "\u001b[1;32m----> 3 \u001b[1;33m    \u001b[0mprint\u001b[0m\u001b[1;33m(\u001b[0m\u001b[0mi\u001b[0m\u001b[1;33m)\u001b[0m\u001b[1;33m\u001b[0m\u001b[0m\n",
      "\u001b[0m\n"
     ]
    },
    {
     "name": "stdin",
     "output_type": "stream",
     "text": [
      "ipdb>  h\n"
     ]
    },
    {
     "name": "stdout",
     "output_type": "stream",
     "text": [
      "\n",
      "Documented commands (type help <topic>):\n",
      "========================================\n",
      "EOF    cl         disable  interact  next    psource  rv         unt   \n",
      "a      clear      display  j         p       q        s          until \n",
      "alias  commands   down     jump      pdef    quit     source     up    \n",
      "args   condition  enable   l         pdoc    r        step       w     \n",
      "b      cont       exit     list      pfile   restart  tbreak     whatis\n",
      "break  continue   h        ll        pinfo   return   u          where \n",
      "bt     d          help     longlist  pinfo2  retval   unalias  \n",
      "c      debug      ignore   n         pp      run      undisplay\n",
      "\n",
      "Miscellaneous help topics:\n",
      "==========================\n",
      "exec  pdb\n",
      "\n"
     ]
    },
    {
     "name": "stdin",
     "output_type": "stream",
     "text": [
      "ipdb>  l 10\n"
     ]
    },
    {
     "name": "stdout",
     "output_type": "stream",
     "text": [
      "\n"
     ]
    },
    {
     "name": "stdin",
     "output_type": "stream",
     "text": [
      "ipdb>  \n"
     ]
    },
    {
     "name": "stdout",
     "output_type": "stream",
     "text": [
      "\n"
     ]
    },
    {
     "name": "stdin",
     "output_type": "stream",
     "text": [
      "ipdb>  l 10,11\n"
     ]
    },
    {
     "name": "stdout",
     "output_type": "stream",
     "text": [
      "\n"
     ]
    },
    {
     "name": "stdin",
     "output_type": "stream",
     "text": [
      "ipdb>  l 1, 10\n"
     ]
    },
    {
     "name": "stdout",
     "output_type": "stream",
     "text": [
      "\u001b[0;32m      1 \u001b[0m\u001b[1;32mfor\u001b[0m \u001b[0mi\u001b[0m \u001b[1;32min\u001b[0m \u001b[0mrange\u001b[0m\u001b[1;33m(\u001b[0m\u001b[1;36m10\u001b[0m\u001b[1;33m)\u001b[0m\u001b[1;33m:\u001b[0m\u001b[1;33m\u001b[0m\u001b[0m\n",
      "\u001b[0;32m      2 \u001b[0m    \u001b[0mset_trace\u001b[0m\u001b[1;33m(\u001b[0m\u001b[1;33m)\u001b[0m\u001b[1;33m\u001b[0m\u001b[0m\n",
      "\u001b[1;32m----> 3 \u001b[1;33m    \u001b[0mprint\u001b[0m\u001b[1;33m(\u001b[0m\u001b[0mi\u001b[0m\u001b[1;33m)\u001b[0m\u001b[1;33m\u001b[0m\u001b[0m\n",
      "\u001b[0m\n"
     ]
    },
    {
     "name": "stdin",
     "output_type": "stream",
     "text": [
      "ipdb>  pp 1\n"
     ]
    },
    {
     "name": "stdout",
     "output_type": "stream",
     "text": [
      "1\n"
     ]
    },
    {
     "name": "stdin",
     "output_type": "stream",
     "text": [
      "ipdb>  x\n"
     ]
    },
    {
     "name": "stdout",
     "output_type": "stream",
     "text": [
      "*** NameError: name 'x' is not defined\n"
     ]
    },
    {
     "name": "stdin",
     "output_type": "stream",
     "text": [
      "ipdb>  q\n"
     ]
    },
    {
     "ename": "BdbQuit",
     "evalue": "",
     "output_type": "error",
     "traceback": [
      "\u001b[1;31m---------------------------------------------------------------------------\u001b[0m",
      "\u001b[1;31mBdbQuit\u001b[0m                                   Traceback (most recent call last)",
      "\u001b[1;32m<ipython-input-5-7a74ba877499>\u001b[0m in \u001b[0;36m<module>\u001b[1;34m()\u001b[0m\n\u001b[0;32m      1\u001b[0m \u001b[1;32mfor\u001b[0m \u001b[0mi\u001b[0m \u001b[1;32min\u001b[0m \u001b[0mrange\u001b[0m\u001b[1;33m(\u001b[0m\u001b[1;36m10\u001b[0m\u001b[1;33m)\u001b[0m\u001b[1;33m:\u001b[0m\u001b[1;33m\u001b[0m\u001b[0m\n\u001b[0;32m      2\u001b[0m     \u001b[0mset_trace\u001b[0m\u001b[1;33m(\u001b[0m\u001b[1;33m)\u001b[0m\u001b[1;33m\u001b[0m\u001b[0m\n\u001b[1;32m----> 3\u001b[1;33m     \u001b[0mprint\u001b[0m\u001b[1;33m(\u001b[0m\u001b[0mi\u001b[0m\u001b[1;33m)\u001b[0m\u001b[1;33m\u001b[0m\u001b[0m\n\u001b[0m",
      "\u001b[1;32m<ipython-input-5-7a74ba877499>\u001b[0m in \u001b[0;36m<module>\u001b[1;34m()\u001b[0m\n\u001b[0;32m      1\u001b[0m \u001b[1;32mfor\u001b[0m \u001b[0mi\u001b[0m \u001b[1;32min\u001b[0m \u001b[0mrange\u001b[0m\u001b[1;33m(\u001b[0m\u001b[1;36m10\u001b[0m\u001b[1;33m)\u001b[0m\u001b[1;33m:\u001b[0m\u001b[1;33m\u001b[0m\u001b[0m\n\u001b[0;32m      2\u001b[0m     \u001b[0mset_trace\u001b[0m\u001b[1;33m(\u001b[0m\u001b[1;33m)\u001b[0m\u001b[1;33m\u001b[0m\u001b[0m\n\u001b[1;32m----> 3\u001b[1;33m     \u001b[0mprint\u001b[0m\u001b[1;33m(\u001b[0m\u001b[0mi\u001b[0m\u001b[1;33m)\u001b[0m\u001b[1;33m\u001b[0m\u001b[0m\n\u001b[0m",
      "\u001b[1;32mD:\\Bin\\Anaconda5\\lib\\bdb.py\u001b[0m in \u001b[0;36mtrace_dispatch\u001b[1;34m(self, frame, event, arg)\u001b[0m\n\u001b[0;32m     86\u001b[0m             \u001b[1;32mreturn\u001b[0m \u001b[1;31m# None\u001b[0m\u001b[1;33m\u001b[0m\u001b[0m\n\u001b[0;32m     87\u001b[0m         \u001b[1;32mif\u001b[0m \u001b[0mevent\u001b[0m \u001b[1;33m==\u001b[0m \u001b[1;34m'line'\u001b[0m\u001b[1;33m:\u001b[0m\u001b[1;33m\u001b[0m\u001b[0m\n\u001b[1;32m---> 88\u001b[1;33m             \u001b[1;32mreturn\u001b[0m \u001b[0mself\u001b[0m\u001b[1;33m.\u001b[0m\u001b[0mdispatch_line\u001b[0m\u001b[1;33m(\u001b[0m\u001b[0mframe\u001b[0m\u001b[1;33m)\u001b[0m\u001b[1;33m\u001b[0m\u001b[0m\n\u001b[0m\u001b[0;32m     89\u001b[0m         \u001b[1;32mif\u001b[0m \u001b[0mevent\u001b[0m \u001b[1;33m==\u001b[0m \u001b[1;34m'call'\u001b[0m\u001b[1;33m:\u001b[0m\u001b[1;33m\u001b[0m\u001b[0m\n\u001b[0;32m     90\u001b[0m             \u001b[1;32mreturn\u001b[0m \u001b[0mself\u001b[0m\u001b[1;33m.\u001b[0m\u001b[0mdispatch_call\u001b[0m\u001b[1;33m(\u001b[0m\u001b[0mframe\u001b[0m\u001b[1;33m,\u001b[0m \u001b[0marg\u001b[0m\u001b[1;33m)\u001b[0m\u001b[1;33m\u001b[0m\u001b[0m\n",
      "\u001b[1;32mD:\\Bin\\Anaconda5\\lib\\bdb.py\u001b[0m in \u001b[0;36mdispatch_line\u001b[1;34m(self, frame)\u001b[0m\n\u001b[0;32m    111\u001b[0m         \u001b[1;32mif\u001b[0m \u001b[0mself\u001b[0m\u001b[1;33m.\u001b[0m\u001b[0mstop_here\u001b[0m\u001b[1;33m(\u001b[0m\u001b[0mframe\u001b[0m\u001b[1;33m)\u001b[0m \u001b[1;32mor\u001b[0m \u001b[0mself\u001b[0m\u001b[1;33m.\u001b[0m\u001b[0mbreak_here\u001b[0m\u001b[1;33m(\u001b[0m\u001b[0mframe\u001b[0m\u001b[1;33m)\u001b[0m\u001b[1;33m:\u001b[0m\u001b[1;33m\u001b[0m\u001b[0m\n\u001b[0;32m    112\u001b[0m             \u001b[0mself\u001b[0m\u001b[1;33m.\u001b[0m\u001b[0muser_line\u001b[0m\u001b[1;33m(\u001b[0m\u001b[0mframe\u001b[0m\u001b[1;33m)\u001b[0m\u001b[1;33m\u001b[0m\u001b[0m\n\u001b[1;32m--> 113\u001b[1;33m             \u001b[1;32mif\u001b[0m \u001b[0mself\u001b[0m\u001b[1;33m.\u001b[0m\u001b[0mquitting\u001b[0m\u001b[1;33m:\u001b[0m \u001b[1;32mraise\u001b[0m \u001b[0mBdbQuit\u001b[0m\u001b[1;33m\u001b[0m\u001b[0m\n\u001b[0m\u001b[0;32m    114\u001b[0m         \u001b[1;32mreturn\u001b[0m \u001b[0mself\u001b[0m\u001b[1;33m.\u001b[0m\u001b[0mtrace_dispatch\u001b[0m\u001b[1;33m\u001b[0m\u001b[0m\n\u001b[0;32m    115\u001b[0m \u001b[1;33m\u001b[0m\u001b[0m\n",
      "\u001b[1;31mBdbQuit\u001b[0m: "
     ]
    }
   ],
   "source": [
    "for i in range(10):\n",
    "    set_trace()\n",
    "    print(i)"
   ]
  },
  {
   "cell_type": "code",
   "execution_count": null,
   "metadata": {},
   "outputs": [],
   "source": []
  },
  {
   "cell_type": "code",
   "execution_count": null,
   "metadata": {},
   "outputs": [],
   "source": []
  },
  {
   "cell_type": "code",
   "execution_count": null,
   "metadata": {},
   "outputs": [],
   "source": [
    "# Torch "
   ]
  },
  {
   "cell_type": "code",
   "execution_count": null,
   "metadata": {},
   "outputs": [],
   "source": [
    "a = torch.ones(1)\n",
    "w1 = torch.ones(1, requires_grad=True)\n",
    "w2 = torch.ones(1, requires_grad=True)\n",
    "w3 = torch.ones(1, requires_grad=True)\n",
    "w4 = torch.ones(1, requires_grad=True)\n",
    "\n",
    "def dd(w1,w2,w3,w4):\n",
    "    b = w1 * a\n",
    "    c = w2 * a\n",
    "    d = (w3 * b) + (w4 * c)\n",
    "    L = d * d\n",
    "    return L\n",
    "\n",
    "#L = dd()\n",
    "#L.backward()\n",
    "\n",
    "#print(L, w3, w1.grad.data)\n",
    "\n",
    "parameters = iter([w1, w2, w3, w4])\n",
    "optimizer = optim.SGD(parameters, lr = 0.01, momentum=0.9)\n",
    "\n",
    "lr = torch.tensor(0.01)\n",
    "\n",
    "for i in range(50):\n",
    "    \n",
    "    optimizer.zero_grad()\n",
    "    L = dd(w1,w2,w3,w4)\n",
    "    L.backward()\n",
    "    optimizer.step()\n",
    "    \n",
    "    print(i, L, w1)\n",
    "    \n",
    "    #r1 = w1\n",
    "    #r2 = w2\n",
    "    #r3 = w3\n",
    "    #r4 = w4\n",
    "    #r1 = r1 - lr * w1.grad\n",
    "    #r2 = r2 - lr * w2.grad\n",
    "    #r3 = r3 - lr * w3.grad\n",
    "    #r4 = r4 - lr * w4.grad\n",
    "    \n",
    "    #w1.data = r1.data\n",
    "    #w2.data = r2.data\n",
    "    #w4.data = r3.data\n",
    "    #w4.data = r4.data\n",
    "    \n",
    "    #L = dd(w1,w2,w3,w4)\n",
    "    \n",
    "    \n",
    "    \n",
    "\n"
   ]
  },
  {
   "cell_type": "code",
   "execution_count": 360,
   "metadata": {},
   "outputs": [
    {
     "name": "stdout",
     "output_type": "stream",
     "text": [
      "None True\n"
     ]
    }
   ],
   "source": [
    "print(r1.grad, r1.requires_grad)"
   ]
  },
  {
   "cell_type": "code",
   "execution_count": 369,
   "metadata": {},
   "outputs": [
    {
     "name": "stdout",
     "output_type": "stream",
     "text": [
      "tensor([-8.0846], requires_grad=True)\n",
      "tensor([-2.8123], requires_grad=True)\n",
      "tensor([1.], requires_grad=True)\n",
      "tensor([-2.8123], requires_grad=True)\n"
     ]
    }
   ],
   "source": [
    "parameters = iter([w1, w2, w3, w4])\n",
    "for w in parameters:\n",
    "    print(w)"
   ]
  },
  {
   "cell_type": "code",
   "execution_count": null,
   "metadata": {},
   "outputs": [],
   "source": []
  },
  {
   "cell_type": "code",
   "execution_count": null,
   "metadata": {},
   "outputs": [],
   "source": []
  },
  {
   "cell_type": "code",
   "execution_count": null,
   "metadata": {},
   "outputs": [],
   "source": []
  },
  {
   "cell_type": "code",
   "execution_count": null,
   "metadata": {},
   "outputs": [],
   "source": []
  },
  {
   "cell_type": "code",
   "execution_count": null,
   "metadata": {},
   "outputs": [],
   "source": []
  },
  {
   "cell_type": "code",
   "execution_count": 129,
   "metadata": {},
   "outputs": [
    {
     "name": "stdout",
     "output_type": "stream",
     "text": [
      "0 Or Maybe Scott as the narrator?\n",
      "I had an Idea That if There are Tutorials in FNAF World, Phone Guy Should Narrate Them I think it would be pretty cool and a nice touch to the game if for how to use the battle system or if there is any extra side things to do (like crafting potions or something) that phone guy could call and explain to you how to do it. There could also be a little phone or something and it rings when phone guy has a tutorial for you. For example the beginning the game you get into it and then you hear a phone ringing and then the classic hello, hello! and the message goes into something like: I wanted to relay a message for you, to help you with playing the game. Uh, you'll do fine. First there is a message from the developer I'm supposed to read... Uh, Welcome to FNAF World, a magical game for kids and grownups alike, where fantasy and fun come to life. Then of course he would go into the actual mechanics of the game and how to play and he ends up calling you back a few time at different places in the game to continue the tutorial. This is just a little thought I had while talking to a friend and I thought why not share it with the reddit. Thank you for reading!\n",
      "\n",
      "\n",
      "1 Thanks for your contribution\n",
      "No\n",
      "\n",
      "\n",
      "2 Yes, because women are fragile and delicate butterflies that can easily be brought to their knees by the evil patriarchy.\n",
      "So if a woman is killing someone or hurting a child, a man can't punch her?\n",
      "\n",
      "\n",
      "5 Having no tenant is better than having the Coyotes, obviously!\n",
      "I'm sure you care about the tax payers so much, fellow Arizonan. Isn't it just terrible to see that 2 cent raise in taxes to keep Westgate from becoming Metro Mall 2.0? And God knows our politicians are so very trustworthy with our money and certainly don't abuse it to pay for dinner for their constituents or to work on re-election when they should be serving our fine city &amp; not abusing Arizona clean election laws!\n",
      "\n",
      "\n",
      "7 Blizzard, next time you make these events please make crates dupe only.\n",
      "The Overwatch Summer Games are ending tomorrow at 4PM PT.\n",
      "\n",
      "\n"
     ]
    }
   ],
   "source": [
    "for i in range(10):\n",
    "    label = df5.ix[i, 'label']\n",
    "    if label == 1:\n",
    "        comment = df5.ix[i, 'comment']\n",
    "        parent = df5.ix[i, 'parent_comment']\n",
    "        print(i, comment + '\\n' + parent + '\\n\\n')\n",
    "    "
   ]
  },
  {
   "cell_type": "code",
   "execution_count": null,
   "metadata": {},
   "outputs": [],
   "source": []
  },
  {
   "cell_type": "code",
   "execution_count": null,
   "metadata": {},
   "outputs": [],
   "source": []
  },
  {
   "cell_type": "code",
   "execution_count": 52,
   "metadata": {},
   "outputs": [
    {
     "data": {
      "text/html": [
       "<div>\n",
       "<style scoped>\n",
       "    .dataframe tbody tr th:only-of-type {\n",
       "        vertical-align: middle;\n",
       "    }\n",
       "\n",
       "    .dataframe tbody tr th {\n",
       "        vertical-align: top;\n",
       "    }\n",
       "\n",
       "    .dataframe thead th {\n",
       "        text-align: right;\n",
       "    }\n",
       "</style>\n",
       "<table border=\"1\" class=\"dataframe\">\n",
       "  <thead>\n",
       "    <tr style=\"text-align: right;\">\n",
       "      <th></th>\n",
       "      <th>label</th>\n",
       "      <th>comment</th>\n",
       "      <th>author</th>\n",
       "      <th>subreddit</th>\n",
       "      <th>score</th>\n",
       "      <th>ups</th>\n",
       "      <th>downs</th>\n",
       "      <th>date</th>\n",
       "      <th>created_utc</th>\n",
       "      <th>parent_comment</th>\n",
       "      <th>...</th>\n",
       "      <th>dh</th>\n",
       "      <th>dy</th>\n",
       "      <th>dm</th>\n",
       "      <th>dy1</th>\n",
       "      <th>dm1</th>\n",
       "      <th>dw1</th>\n",
       "      <th>dh1</th>\n",
       "      <th>score1</th>\n",
       "      <th>ups1</th>\n",
       "      <th>subreddit1</th>\n",
       "    </tr>\n",
       "  </thead>\n",
       "  <tbody>\n",
       "    <tr>\n",
       "      <th>0</th>\n",
       "      <td>1</td>\n",
       "      <td>Or Maybe Scott as the narrator?</td>\n",
       "      <td>INHHHAAALLLE</td>\n",
       "      <td>fivenightsatfreddys</td>\n",
       "      <td>1</td>\n",
       "      <td>1</td>\n",
       "      <td>0</td>\n",
       "      <td>2015-09</td>\n",
       "      <td>2015-09-22 13:10:11</td>\n",
       "      <td>I had an Idea That if There are Tutorials in F...</td>\n",
       "      <td>...</td>\n",
       "      <td>13</td>\n",
       "      <td>2015</td>\n",
       "      <td>9</td>\n",
       "      <td>0.519412</td>\n",
       "      <td>0.501814</td>\n",
       "      <td>0.504421</td>\n",
       "      <td>0.515947</td>\n",
       "      <td>0.0</td>\n",
       "      <td>0.000000</td>\n",
       "      <td>0.524390</td>\n",
       "    </tr>\n",
       "    <tr>\n",
       "      <th>1</th>\n",
       "      <td>1</td>\n",
       "      <td>Thanks for your contribution</td>\n",
       "      <td>comical_imbalance</td>\n",
       "      <td>perth</td>\n",
       "      <td>4</td>\n",
       "      <td>-1</td>\n",
       "      <td>-1</td>\n",
       "      <td>2016-11</td>\n",
       "      <td>2016-11-16 07:02:40</td>\n",
       "      <td>No</td>\n",
       "      <td>...</td>\n",
       "      <td>7</td>\n",
       "      <td>2016</td>\n",
       "      <td>11</td>\n",
       "      <td>0.467539</td>\n",
       "      <td>0.483211</td>\n",
       "      <td>0.502016</td>\n",
       "      <td>0.491546</td>\n",
       "      <td>0.0</td>\n",
       "      <td>0.457775</td>\n",
       "      <td>0.529412</td>\n",
       "    </tr>\n",
       "    <tr>\n",
       "      <th>2</th>\n",
       "      <td>1</td>\n",
       "      <td>Yes, because women are fragile and delicate bu...</td>\n",
       "      <td>RotatorX</td>\n",
       "      <td>facepalm</td>\n",
       "      <td>4</td>\n",
       "      <td>4</td>\n",
       "      <td>0</td>\n",
       "      <td>2013-07</td>\n",
       "      <td>2013-07-27 16:13:39</td>\n",
       "      <td>So if a woman is killing someone or hurting a ...</td>\n",
       "      <td>...</td>\n",
       "      <td>16</td>\n",
       "      <td>2013</td>\n",
       "      <td>7</td>\n",
       "      <td>0.528960</td>\n",
       "      <td>0.506583</td>\n",
       "      <td>0.482693</td>\n",
       "      <td>0.511947</td>\n",
       "      <td>0.0</td>\n",
       "      <td>0.000000</td>\n",
       "      <td>0.718182</td>\n",
       "    </tr>\n",
       "    <tr>\n",
       "      <th>3</th>\n",
       "      <td>0</td>\n",
       "      <td>What's even more fucked is that \"hate speech\" ...</td>\n",
       "      <td>RyanGBaker</td>\n",
       "      <td>The_Donald</td>\n",
       "      <td>1</td>\n",
       "      <td>-1</td>\n",
       "      <td>-1</td>\n",
       "      <td>2016-10</td>\n",
       "      <td>2016-10-08 08:09:01</td>\n",
       "      <td>Canadian Imam Accuses Ezra Levant of Hate Spee...</td>\n",
       "      <td>...</td>\n",
       "      <td>8</td>\n",
       "      <td>2016</td>\n",
       "      <td>10</td>\n",
       "      <td>0.467539</td>\n",
       "      <td>0.484194</td>\n",
       "      <td>0.482693</td>\n",
       "      <td>0.492923</td>\n",
       "      <td>0.0</td>\n",
       "      <td>0.457775</td>\n",
       "      <td>0.463646</td>\n",
       "    </tr>\n",
       "    <tr>\n",
       "      <th>4</th>\n",
       "      <td>0</td>\n",
       "      <td>Yeah</td>\n",
       "      <td>le_benis</td>\n",
       "      <td>Gamingcirclejerk</td>\n",
       "      <td>1</td>\n",
       "      <td>1</td>\n",
       "      <td>0</td>\n",
       "      <td>2016-08</td>\n",
       "      <td>2016-08-29 19:11:52</td>\n",
       "      <td>Oh, so they deserve all those millions right?</td>\n",
       "      <td>...</td>\n",
       "      <td>19</td>\n",
       "      <td>2016</td>\n",
       "      <td>8</td>\n",
       "      <td>0.467539</td>\n",
       "      <td>0.502884</td>\n",
       "      <td>0.499246</td>\n",
       "      <td>0.512297</td>\n",
       "      <td>0.0</td>\n",
       "      <td>0.000000</td>\n",
       "      <td>0.083333</td>\n",
       "    </tr>\n",
       "  </tbody>\n",
       "</table>\n",
       "<p>5 rows × 22 columns</p>\n",
       "</div>"
      ],
      "text/plain": [
       "   label                                            comment  \\\n",
       "0      1                    Or Maybe Scott as the narrator?   \n",
       "1      1                       Thanks for your contribution   \n",
       "2      1  Yes, because women are fragile and delicate bu...   \n",
       "3      0  What's even more fucked is that \"hate speech\" ...   \n",
       "4      0                                               Yeah   \n",
       "\n",
       "              author            subreddit  score  ups  downs     date  \\\n",
       "0       INHHHAAALLLE  fivenightsatfreddys      1    1      0  2015-09   \n",
       "1  comical_imbalance                perth      4   -1     -1  2016-11   \n",
       "2           RotatorX             facepalm      4    4      0  2013-07   \n",
       "3         RyanGBaker           The_Donald      1   -1     -1  2016-10   \n",
       "4           le_benis     Gamingcirclejerk      1    1      0  2016-08   \n",
       "\n",
       "           created_utc                                     parent_comment  \\\n",
       "0  2015-09-22 13:10:11  I had an Idea That if There are Tutorials in F...   \n",
       "1  2016-11-16 07:02:40                                                 No   \n",
       "2  2013-07-27 16:13:39  So if a woman is killing someone or hurting a ...   \n",
       "3  2016-10-08 08:09:01  Canadian Imam Accuses Ezra Levant of Hate Spee...   \n",
       "4  2016-08-29 19:11:52      Oh, so they deserve all those millions right?   \n",
       "\n",
       "      ...      dh    dy  dm       dy1       dm1       dw1       dh1  score1  \\\n",
       "0     ...      13  2015   9  0.519412  0.501814  0.504421  0.515947     0.0   \n",
       "1     ...       7  2016  11  0.467539  0.483211  0.502016  0.491546     0.0   \n",
       "2     ...      16  2013   7  0.528960  0.506583  0.482693  0.511947     0.0   \n",
       "3     ...       8  2016  10  0.467539  0.484194  0.482693  0.492923     0.0   \n",
       "4     ...      19  2016   8  0.467539  0.502884  0.499246  0.512297     0.0   \n",
       "\n",
       "       ups1  subreddit1  \n",
       "0  0.000000    0.524390  \n",
       "1  0.457775    0.529412  \n",
       "2  0.000000    0.718182  \n",
       "3  0.457775    0.463646  \n",
       "4  0.000000    0.083333  \n",
       "\n",
       "[5 rows x 22 columns]"
      ]
     },
     "execution_count": 52,
     "metadata": {},
     "output_type": "execute_result"
    }
   ],
   "source": [
    "df5.head()"
   ]
  },
  {
   "cell_type": "code",
   "execution_count": 24,
   "metadata": {},
   "outputs": [
    {
     "name": "stdout",
     "output_type": "stream",
     "text": [
      "0 47226 7 47226 2016 0.46753906746283824\n",
      "1 28153 6 28153 2015 0.5194117856001137\n",
      "2 13614 5 13614 2014 0.5307036873806376\n",
      "3 6250 4 6250 2013 0.52896\n",
      "4 2739 3 2739 2012 0.5271997079225995\n",
      "5 1256 2 1256 2011 0.5414012738853503\n",
      "6 568 1 568 2010 0.5651408450704225\n",
      "7 193 0 193 2009 0.5595854922279793\n"
     ]
    },
    {
     "data": {
      "image/png": "[encoded data removed]",
      "text/plain": [
       "<Figure size 720x576 with 1 Axes>"
      ]
     },
     "metadata": {
      "needs_background": "light"
     },
     "output_type": "display_data"
    }
   ],
   "source": [
    "def psd(D, name):\n",
    "\n",
    "    global DICT\n",
    "    DICT = dict()\n",
    "    \n",
    "    D['dt'] = pd.to_datetime(D['created_utc'])\n",
    "    D['dw'] = D['dt'].dt.dayofweek\n",
    "    D['dh'] = D['dt'].dt.hour\n",
    "    D['dy'] = D['dt'].dt.year\n",
    "    D['dm'] = D['dt'].dt.month\n",
    "    \n",
    "    v6 = D.groupby(name)[name].count()\n",
    "    v61 = np.sort(v6.values)[::-1]\n",
    "    i61 = np.argsort(v6.values)[::-1]\n",
    "\n",
    "    xx = []\n",
    "    yy = []\n",
    "    for i in range(v6.shape[0]):\n",
    "        n1 = v61[i] # размер группы элемента\n",
    "        i1 = i61[i] # индекс элемента\n",
    "        sub = v6.index[i1] # имя элемента\n",
    "        n2 = v6[sub] # = n1 - серия как словарь\n",
    "        s1 = D[D[name] == sub]['label'].values.mean()\n",
    "        print(i, n1, i1, n2, sub, s1)\n",
    "        #xx.append(n1)\n",
    "        xx.append(sub)\n",
    "        yy.append(s1)\n",
    "        DICT[sub] = s1\n",
    "    \n",
    "    name1 = name + '1'\n",
    "    D[name1] = D[name].replace(DICT)\n",
    "        \n",
    "    sns.regplot(xx, yy, scatter_kws={'alpha':0.5}, line_kws={'color': 'red'});            \n",
    "    \n",
    "psd(df5, 'dy')"
   ]
  },
  {
   "cell_type": "code",
   "execution_count": 29,
   "metadata": {},
   "outputs": [
    {
     "name": "stdout",
     "output_type": "stream",
     "text": [
      "0 5823 18 5823 18 0.49613601236476046\n",
      "1 5776 17 5776 17 0.5036357340720221\n",
      "2 5774 19 5774 19 0.5122965015587114\n",
      "3 5759 20 5759 20 0.49887133182844245\n",
      "4 5608 16 5608 16 0.5119472182596291\n",
      "5 5536 21 5536 21 0.4902456647398844\n",
      "6 5197 15 5197 15 0.5331922262843949\n",
      "7 5152 22 5152 22 0.49417701863354035\n",
      "8 4938 23 4938 23 0.49210206561360875\n",
      "9 4820 0 4820 0 0.4811203319502075\n",
      "10 4692 1 4692 1 0.48444160272804776\n",
      "11 4551 2 4551 2 0.4798945286750165\n",
      "12 4543 14 4543 14 0.5159586176535329\n",
      "13 4398 3 4398 3 0.48794906775807184\n",
      "14 3991 4 3991 4 0.4645452267602105\n",
      "15 3731 13 3731 13 0.5159474671669794\n",
      "16 3437 5 3437 5 0.48327029386092524\n",
      "17 2822 6 2822 6 0.48547129695251595\n",
      "18 2811 12 2811 12 0.504091070793312\n",
      "19 2425 7 2425 7 0.4915463917525773\n",
      "20 2320 11 2320 11 0.4974137931034483\n",
      "21 2049 8 2049 8 0.49292337725719865\n",
      "22 1946 10 1946 10 0.5061664953751285\n",
      "23 1900 9 1900 9 0.5221052631578947\n"
     ]
    },
    {
     "data": {
      "image/png": "[encoded data removed]",
      "text/plain": [
       "<Figure size 720x576 with 1 Axes>"
      ]
     },
     "metadata": {
      "needs_background": "light"
     },
     "output_type": "display_data"
    }
   ],
   "source": [
    "psd(df5, 'dh')"
   ]
  },
  {
   "cell_type": "code",
   "execution_count": 27,
   "metadata": {},
   "outputs": [
    {
     "name": "stdout",
     "output_type": "stream",
     "text": [
      "0 10870 11 10870 12 0.46678932842686294\n",
      "1 10066 10 10066 11 0.48321080866282534\n",
      "2 9775 9 9775 10 0.48419437340153454\n",
      "3 9362 7 9362 8 0.5028839991454818\n",
      "4 9097 8 9097 9 0.501813784764208\n",
      "5 8887 6 8887 7 0.5065826488128727\n",
      "6 7841 5 7841 6 0.5012115801555924\n",
      "7 7599 4 7599 5 0.5149361758126069\n",
      "8 7126 3 7126 4 0.5011226494527083\n",
      "9 6882 2 6882 3 0.509880848590526\n",
      "10 6371 0 6371 1 0.5168733322869251\n",
      "11 6123 1 6123 2 0.5103707333006696\n"
     ]
    },
    {
     "data": {
      "image/png": "[encoded data removed]",
      "text/plain": [
       "<Figure size 720x576 with 1 Axes>"
      ]
     },
     "metadata": {
      "needs_background": "light"
     },
     "output_type": "display_data"
    }
   ],
   "source": [
    "psd(df5, 'dm')"
   ]
  },
  {
   "cell_type": "code",
   "execution_count": 28,
   "metadata": {},
   "outputs": [
    {
     "name": "stdout",
     "output_type": "stream",
     "text": [
      "0 15384 3 15384 3 0.5036401456058243\n",
      "1 15378 2 15378 2 0.5020158668227338\n",
      "2 15156 1 15156 1 0.5044206914753233\n",
      "3 14836 4 14836 4 0.4969668374224858\n",
      "4 14580 0 14580 0 0.4992455418381344\n",
      "5 12560 6 12560 6 0.49195859872611464\n",
      "6 12105 5 12105 5 0.48269310202395704\n"
     ]
    },
    {
     "data": {
      "image/png": "[encoded data removed]",
      "text/plain": [
       "<Figure size 720x576 with 1 Axes>"
      ]
     },
     "metadata": {
      "needs_background": "light"
     },
     "output_type": "display_data"
    }
   ],
   "source": [
    "psd(df5, 'dw')"
   ]
  },
  {
   "cell_type": "code",
   "execution_count": null,
   "metadata": {},
   "outputs": [],
   "source": []
  },
  {
   "cell_type": "code",
   "execution_count": null,
   "metadata": {},
   "outputs": [],
   "source": []
  },
  {
   "cell_type": "code",
   "execution_count": 13,
   "metadata": {},
   "outputs": [
    {
     "name": "stdout",
     "output_type": "stream",
     "text": [
      "(1010826, 10)\n"
     ]
    }
   ],
   "source": [
    "print(df.shape)"
   ]
  },
  {
   "cell_type": "code",
   "execution_count": 15,
   "metadata": {},
   "outputs": [
    {
     "data": {
      "text/plain": [
       "RangeIndex(start=0, stop=999, step=1)"
      ]
     },
     "execution_count": 15,
     "metadata": {},
     "output_type": "execute_result"
    }
   ],
   "source": [
    "df1.index"
   ]
  },
  {
   "cell_type": "code",
   "execution_count": 24,
   "metadata": {},
   "outputs": [],
   "source": [
    "df1 = shuffle(df1)\n",
    "df = shuffle(df)"
   ]
  },
  {
   "cell_type": "code",
   "execution_count": 19,
   "metadata": {},
   "outputs": [
    {
     "data": {
      "text/plain": [
       "label\n",
       "0    939\n",
       "1     60\n",
       "Name: label, dtype: int64"
      ]
     },
     "execution_count": 19,
     "metadata": {},
     "output_type": "execute_result"
    }
   ],
   "source": [
    "df1.groupby('label')['label'].count()"
   ]
  },
  {
   "cell_type": "code",
   "execution_count": 20,
   "metadata": {},
   "outputs": [
    {
     "data": {
      "text/plain": [
       "label\n",
       "0    505413\n",
       "1    505413\n",
       "Name: label, dtype: int64"
      ]
     },
     "execution_count": 20,
     "metadata": {},
     "output_type": "execute_result"
    }
   ],
   "source": [
    "df.groupby('label')['label'].count()"
   ]
  },
  {
   "cell_type": "code",
   "execution_count": null,
   "metadata": {},
   "outputs": [],
   "source": []
  },
  {
   "cell_type": "code",
   "execution_count": 176,
   "metadata": {},
   "outputs": [
    {
     "name": "stdout",
     "output_type": "stream",
     "text": [
      "(1291,)\n"
     ]
    },
    {
     "data": {
      "text/plain": [
       "array([340017, 162678,  90290,  58145,  41979,  38802,  29600,  22810,\n",
       "        22769,  18064,  14521,  11925,  11815,   9998,   8397,   7277,\n",
       "         6738,   6391,   5461,   5436,   5037,   4404,   4134,   3951,\n",
       "         3505,   3096,   3089,   2861,   2600,   2425,   2384,   2146,\n",
       "         2065,   1874,   1852,   1753,   1644,   1513,   1503,   1450,\n",
       "         1331,   1183,   1135,   1093,   1071,   1033,    996,    926,\n",
       "          910,    847,    818,    776,    733,    722,    717,    693,\n",
       "          681,    621,    587,    570,    546,    537,    537,    511,\n",
       "          505,    489,    486,    439,    409,    400,    396,    394,\n",
       "          379,    377,    367,    362,    315,    314,    308,    308,\n",
       "          299,    295,    292,    291,    276,    268,    259,    252,\n",
       "          251,    233,    230,    228,    222,    210,    209,    206,\n",
       "          197,    193,    191,    187], dtype=int64)"
      ]
     },
     "execution_count": 176,
     "metadata": {},
     "output_type": "execute_result"
    }
   ],
   "source": [
    "r6 = df.groupby('score')['score'].count()\n",
    "print(r6.shape)\n",
    "#print(r6[:100])\n",
    "r61 = np.sort(r6.values)[::-1]\n",
    "r61[:100]\n"
   ]
  },
  {
   "cell_type": "code",
   "execution_count": 179,
   "metadata": {},
   "outputs": [
    {
     "name": "stdout",
     "output_type": "stream",
     "text": [
      "(1171,)\n"
     ]
    },
    {
     "data": {
      "text/plain": [
       "array([289595, 168045, 138993,  76596,  51852,  35704,  32877,  25124,\n",
       "        19211,  15231,  12310,  10757,   9896,   8391,   7019,   6064,\n",
       "         6044,   5341,   4874,   4536,   4239,   3726,   3648,   3289,\n",
       "         2904,   2802,   2597,   2370,   2192,   2159,   1992,   1799,\n",
       "         1693,   1685,   1561,   1464,   1376,   1368,   1252,   1181,\n",
       "         1098,   1043,    928,    901,    895,    891,    836,    772,\n",
       "          746,    689,    683,    674,    644,    590,    586,    580,\n",
       "          567,    507,    488,    472,    467,    437,    436,    434,\n",
       "          431,    430,    402,    376,    356,    341,    334,    329,\n",
       "          321,    319,    312,    300,    274,    262,    259,    255,\n",
       "          253,    252,    252,    247,    246,    218,    215,    213,\n",
       "          207,    207,    187,    186,    184,    180,    177,    177,\n",
       "          167,    153,    153,    152], dtype=int64)"
      ]
     },
     "execution_count": 179,
     "metadata": {},
     "output_type": "execute_result"
    }
   ],
   "source": [
    "u6 = df.groupby('ups')['ups'].count()\n",
    "print(u6.shape)\n",
    "#print(u6[:100])\n",
    "u61 = np.sort(u6.values)[::-1]\n",
    "u61[:100]"
   ]
  },
  {
   "cell_type": "code",
   "execution_count": 184,
   "metadata": {},
   "outputs": [
    {
     "data": {
      "text/plain": [
       "ups\n",
       "76     149\n",
       "77     149\n",
       "78     152\n",
       "79     177\n",
       "80     141\n",
       "81     130\n",
       "82     143\n",
       "83     122\n",
       "84     119\n",
       "85     127\n",
       "86     138\n",
       "87     124\n",
       "88     126\n",
       "89     116\n",
       "90     117\n",
       "91     111\n",
       "92     120\n",
       "93      95\n",
       "94      94\n",
       "95     103\n",
       "96      96\n",
       "97     103\n",
       "98      86\n",
       "99     100\n",
       "100    104\n",
       "101     89\n",
       "102     79\n",
       "103     88\n",
       "104     66\n",
       "105     88\n",
       "      ... \n",
       "246     10\n",
       "247      5\n",
       "248      9\n",
       "249     15\n",
       "250     15\n",
       "251     17\n",
       "252      6\n",
       "253      7\n",
       "254     10\n",
       "255      9\n",
       "256     11\n",
       "257     16\n",
       "258     15\n",
       "259     10\n",
       "260      9\n",
       "261      8\n",
       "262      8\n",
       "263     11\n",
       "264      7\n",
       "265     17\n",
       "266      8\n",
       "267      6\n",
       "268     15\n",
       "269     14\n",
       "270      7\n",
       "271      4\n",
       "272     11\n",
       "273     15\n",
       "274     13\n",
       "275      8\n",
       "Name: ups, Length: 200, dtype: int64"
      ]
     },
     "execution_count": 184,
     "metadata": {},
     "output_type": "execute_result"
    }
   ],
   "source": [
    "u6[200:400]"
   ]
  },
  {
   "cell_type": "code",
   "execution_count": null,
   "metadata": {},
   "outputs": [],
   "source": []
  },
  {
   "cell_type": "code",
   "execution_count": 349,
   "metadata": {},
   "outputs": [],
   "source": [
    "df5.head()\n",
    "dfx = df5.copy()\n",
    "dfx['sub'] = df5['subreddit']"
   ]
  },
  {
   "cell_type": "code",
   "execution_count": 350,
   "metadata": {},
   "outputs": [
    {
     "data": {
      "text/html": [
       "<div>\n",
       "<style scoped>\n",
       "    .dataframe tbody tr th:only-of-type {\n",
       "        vertical-align: middle;\n",
       "    }\n",
       "\n",
       "    .dataframe tbody tr th {\n",
       "        vertical-align: top;\n",
       "    }\n",
       "\n",
       "    .dataframe thead th {\n",
       "        text-align: right;\n",
       "    }\n",
       "</style>\n",
       "<table border=\"1\" class=\"dataframe\">\n",
       "  <thead>\n",
       "    <tr style=\"text-align: right;\">\n",
       "      <th></th>\n",
       "      <th>label</th>\n",
       "      <th>comment</th>\n",
       "      <th>author</th>\n",
       "      <th>subreddit</th>\n",
       "      <th>score</th>\n",
       "      <th>ups</th>\n",
       "      <th>downs</th>\n",
       "      <th>date</th>\n",
       "      <th>created_utc</th>\n",
       "      <th>parent_comment</th>\n",
       "      <th>month</th>\n",
       "      <th>year</th>\n",
       "      <th>t1</th>\n",
       "      <th>dw</th>\n",
       "      <th>dh</th>\n",
       "      <th>dy</th>\n",
       "      <th>dm</th>\n",
       "      <th>dt</th>\n",
       "      <th>sub</th>\n",
       "    </tr>\n",
       "  </thead>\n",
       "  <tbody>\n",
       "    <tr>\n",
       "      <th>0</th>\n",
       "      <td>0</td>\n",
       "      <td>Lol</td>\n",
       "      <td>dayman-mokaffe</td>\n",
       "      <td>nyjets</td>\n",
       "      <td>5</td>\n",
       "      <td>-1</td>\n",
       "      <td>-1</td>\n",
       "      <td>2016-11</td>\n",
       "      <td>2016-11-06 20:56:18</td>\n",
       "      <td>I'll be shocked if he doesnt throw a pick</td>\n",
       "      <td>11</td>\n",
       "      <td>2016</td>\n",
       "      <td>2016-11-06 20:56:18</td>\n",
       "      <td>6</td>\n",
       "      <td>20</td>\n",
       "      <td>2016</td>\n",
       "      <td>11</td>\n",
       "      <td>2016-11-06 20:56:18</td>\n",
       "      <td>nyjets</td>\n",
       "    </tr>\n",
       "    <tr>\n",
       "      <th>1</th>\n",
       "      <td>1</td>\n",
       "      <td>Because Blizzard is a charity organization ded...</td>\n",
       "      <td>thatrotteneggsmell</td>\n",
       "      <td>hearthstone</td>\n",
       "      <td>8</td>\n",
       "      <td>8</td>\n",
       "      <td>0</td>\n",
       "      <td>2015-08</td>\n",
       "      <td>2015-08-22 12:32:08</td>\n",
       "      <td>Can anyone explain to me why Blizzard has to g...</td>\n",
       "      <td>08</td>\n",
       "      <td>2015</td>\n",
       "      <td>2015-08-22 12:32:08</td>\n",
       "      <td>5</td>\n",
       "      <td>12</td>\n",
       "      <td>2015</td>\n",
       "      <td>8</td>\n",
       "      <td>2015-08-22 12:32:08</td>\n",
       "      <td>hearthstone</td>\n",
       "    </tr>\n",
       "    <tr>\n",
       "      <th>2</th>\n",
       "      <td>0</td>\n",
       "      <td>If you can have no influence in the EU how wil...</td>\n",
       "      <td>lebron181</td>\n",
       "      <td>ukpolitics</td>\n",
       "      <td>3</td>\n",
       "      <td>3</td>\n",
       "      <td>0</td>\n",
       "      <td>2016-06</td>\n",
       "      <td>2016-06-22 19:33:50</td>\n",
       "      <td>And look at the difference it made, all that h...</td>\n",
       "      <td>06</td>\n",
       "      <td>2016</td>\n",
       "      <td>2016-06-22 19:33:50</td>\n",
       "      <td>2</td>\n",
       "      <td>19</td>\n",
       "      <td>2016</td>\n",
       "      <td>6</td>\n",
       "      <td>2016-06-22 19:33:50</td>\n",
       "      <td>ukpolitics</td>\n",
       "    </tr>\n",
       "    <tr>\n",
       "      <th>3</th>\n",
       "      <td>1</td>\n",
       "      <td>Obviously that means she's a casual</td>\n",
       "      <td>Lolola2</td>\n",
       "      <td>survivor</td>\n",
       "      <td>12</td>\n",
       "      <td>12</td>\n",
       "      <td>0</td>\n",
       "      <td>2016-05</td>\n",
       "      <td>2016-05-06 10:45:36</td>\n",
       "      <td>Didn't even cross her mind about Michele winning.</td>\n",
       "      <td>05</td>\n",
       "      <td>2016</td>\n",
       "      <td>2016-05-06 10:45:36</td>\n",
       "      <td>4</td>\n",
       "      <td>10</td>\n",
       "      <td>2016</td>\n",
       "      <td>5</td>\n",
       "      <td>2016-05-06 10:45:36</td>\n",
       "      <td>survivor</td>\n",
       "    </tr>\n",
       "    <tr>\n",
       "      <th>4</th>\n",
       "      <td>1</td>\n",
       "      <td>Spoiler alert.</td>\n",
       "      <td>V2Blast</td>\n",
       "      <td>anime</td>\n",
       "      <td>1</td>\n",
       "      <td>1</td>\n",
       "      <td>0</td>\n",
       "      <td>2013-09</td>\n",
       "      <td>2013-09-09 08:27:19</td>\n",
       "      <td>Well, considering that I don't see Eren and Mi...</td>\n",
       "      <td>09</td>\n",
       "      <td>2013</td>\n",
       "      <td>2013-09-09 08:27:19</td>\n",
       "      <td>0</td>\n",
       "      <td>8</td>\n",
       "      <td>2013</td>\n",
       "      <td>9</td>\n",
       "      <td>2013-09-09 08:27:19</td>\n",
       "      <td>anime</td>\n",
       "    </tr>\n",
       "  </tbody>\n",
       "</table>\n",
       "</div>"
      ],
      "text/plain": [
       "   label                                            comment  \\\n",
       "0      0                                                Lol   \n",
       "1      1  Because Blizzard is a charity organization ded...   \n",
       "2      0  If you can have no influence in the EU how wil...   \n",
       "3      1                Obviously that means she's a casual   \n",
       "4      1                                     Spoiler alert.   \n",
       "\n",
       "               author    subreddit  score  ups  downs     date  \\\n",
       "0      dayman-mokaffe       nyjets      5   -1     -1  2016-11   \n",
       "1  thatrotteneggsmell  hearthstone      8    8      0  2015-08   \n",
       "2           lebron181   ukpolitics      3    3      0  2016-06   \n",
       "3             Lolola2     survivor     12   12      0  2016-05   \n",
       "4             V2Blast        anime      1    1      0  2013-09   \n",
       "\n",
       "           created_utc                                     parent_comment  \\\n",
       "0  2016-11-06 20:56:18          I'll be shocked if he doesnt throw a pick   \n",
       "1  2015-08-22 12:32:08  Can anyone explain to me why Blizzard has to g...   \n",
       "2  2016-06-22 19:33:50  And look at the difference it made, all that h...   \n",
       "3  2016-05-06 10:45:36  Didn't even cross her mind about Michele winning.   \n",
       "4  2013-09-09 08:27:19  Well, considering that I don't see Eren and Mi...   \n",
       "\n",
       "  month  year                  t1  dw  dh    dy  dm                  dt  \\\n",
       "0    11  2016 2016-11-06 20:56:18   6  20  2016  11 2016-11-06 20:56:18   \n",
       "1    08  2015 2015-08-22 12:32:08   5  12  2015   8 2015-08-22 12:32:08   \n",
       "2    06  2016 2016-06-22 19:33:50   2  19  2016   6 2016-06-22 19:33:50   \n",
       "3    05  2016 2016-05-06 10:45:36   4  10  2016   5 2016-05-06 10:45:36   \n",
       "4    09  2013 2013-09-09 08:27:19   0   8  2013   9 2013-09-09 08:27:19   \n",
       "\n",
       "           sub  \n",
       "0       nyjets  \n",
       "1  hearthstone  \n",
       "2   ukpolitics  \n",
       "3     survivor  \n",
       "4        anime  "
      ]
     },
     "execution_count": 350,
     "metadata": {},
     "output_type": "execute_result"
    }
   ],
   "source": [
    "dfx.head()"
   ]
  },
  {
   "cell_type": "code",
   "execution_count": null,
   "metadata": {},
   "outputs": [],
   "source": []
  },
  {
   "cell_type": "code",
   "execution_count": null,
   "metadata": {},
   "outputs": [],
   "source": []
  },
  {
   "cell_type": "code",
   "execution_count": null,
   "metadata": {},
   "outputs": [],
   "source": [
    "# Заполнение df по строкам"
   ]
  },
  {
   "cell_type": "code",
   "execution_count": null,
   "metadata": {},
   "outputs": [],
   "source": []
  },
  {
   "cell_type": "code",
   "execution_count": null,
   "metadata": {},
   "outputs": [],
   "source": []
  },
  {
   "cell_type": "code",
   "execution_count": null,
   "metadata": {},
   "outputs": [],
   "source": []
  },
  {
   "cell_type": "code",
   "execution_count": null,
   "metadata": {},
   "outputs": [],
   "source": []
  },
  {
   "cell_type": "code",
   "execution_count": null,
   "metadata": {},
   "outputs": [],
   "source": []
  }
 ],
 "metadata": {
  "kernelspec": {
   "display_name": "Python 3",
   "language": "python",
   "name": "python3"
  },
  "language_info": {
   "codemirror_mode": {
    "name": "ipython",
    "version": 3
   },
   "file_extension": ".py",
   "mimetype": "text/x-python",
   "name": "python",
   "nbconvert_exporter": "python",
   "pygments_lexer": "ipython3",
   "version": "3.7.1"
  },
  "widgets": {
   "state": {},
   "version": "1.1.2"
  }
 },
 "nbformat": 4,
 "nbformat_minor": 2
}

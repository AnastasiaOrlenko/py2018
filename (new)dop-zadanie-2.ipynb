{
 "cells": [
  {
   "cell_type": "markdown",
   "metadata": {},
   "source": [
    "# Отчет о проделанной работе\n",
    "1. Функция RR - готовит белый шум - ячейка 66.\n",
    "2. Контрольные замеры правильности на исходной выборке и на белом шуме - ячейки 53, 79. Классификация по белому шуму является значительно более трудной задачей для этой модели.\n",
    "3. Основной цикл по C  - ячейка 72. Число повторов для генерации ковариации с белым шумом - 100.\n",
    "4. Итоговый график - ячейка 77.\n",
    "\n",
    "# Выводы\n",
    "\n",
    "С увеличением гиперпараметра C уменьшается влияние регуляризации и возрастает влияние параметров логистической регрессии. Сложность по Радемахеру монотонно увеличивается и выходит на кривую насыщения. Сложность по Радемахеру в целом невысокая на данной выборке, что соответствует высокой правильности на тестовых выборках при всех значениях С. Это означает, что задача в целом несложная и ошибка обобщения небольшая.\n"
   ]
  },
  {
   "cell_type": "markdown",
   "metadata": {},
   "source": [
    "# Задание\n",
    "\n",
    "Используя определение, оценить сложность по радемахеру \n",
    "для логистической регресии на breast cancer dataset из \n",
    "scikit-learn (бинарная классификация). Подробнее в материалах лекции и на вики.\n",
    "\n",
    "Построить график зависимости сложности по радемахеру от коэф L2 \n",
    "регуляризации для alpha=np.logspace(-2,2,5).\n",
    "\n",
    "Для каждой точки выполнить 100 экспериментов, \n",
    "на графике отобразить стандартное отклонение оценки в каждой точке.\n",
    "Не забудьте предварительно применить к признакам standard scaling.\n",
    "\n"
   ]
  },
  {
   "cell_type": "markdown",
   "metadata": {},
   "source": [
    "# Формулы\n",
    "$ Loss = \\min_{ \\, \\omega, c} \\frac{1}{2} \\omega^T \\omega \\, + \\, C \\sum_{i=1}^n \\log(\\exp(-y_i (X_i^T \\omega + c)) + 1) $\n",
    "\n",
    "$ z_i = \\omega x_i + c $\n",
    "\n",
    "$ h(x_i) = \\frac{1}{1 + \\exp(-z_i)} $\n",
    "\n",
    "\n"
   ]
  },
  {
   "cell_type": "markdown",
   "metadata": {},
   "source": [
    "# Определение\n",
    "\n",
    "# Rademacher complexity\n",
    "\n",
    "Suppose now that the labels $y_i$ are chosen at random without regard to the $x_i$. In other words, suppose we replace each $y_i$ by a random variable $\\sigma_i$ that is -1 or +1 with equal probability, independent of everything else. Thus, the $\\sigma_i$ represent labels that are pure noise. We can measure how well the space $H$ can fit this noise in expectation $E_{\\sigma} [\\max_{h \\in H} \\frac 1 m \\sum _{i=1}^m \\sigma_i h(x_i)]$, which is called Rademacher complexity."
   ]
  },
  {
   "cell_type": "code",
   "execution_count": 3,
   "metadata": {},
   "outputs": [],
   "source": [
    "import pandas as pd\n",
    "import numpy as np\n",
    "\n",
    "from sklearn.linear_model import LogisticRegression\n",
    "from sklearn.preprocessing import StandardScaler\n",
    "from sklearn.model_selection import train_test_split\n",
    "from sklearn.metrics import accuracy_score\n",
    "\n",
    "import warnings\n",
    "warnings.filterwarnings('ignore')\n",
    "\n",
    "import matplotlib.pyplot as plt\n",
    "import seaborn as sns\n",
    "%matplotlib inline\n",
    "\n",
    "SEED=42"
   ]
  },
  {
   "cell_type": "code",
   "execution_count": 24,
   "metadata": {},
   "outputs": [
    {
     "name": "stdout",
     "output_type": "stream",
     "text": [
      "['malignant' 'benign']\n",
      "(569,)\n",
      "(569, 30)\n",
      "[0 0 0 0 0 0 0 0 0 0 0 0 0 0 0 0 0 0 0 1]\n",
      "[1.e-02 1.e-01 1.e+00 1.e+01 1.e+02]\n",
      "[-1 -1 -1 -1 -1 -1 -1 -1 -1 -1 -1 -1 -1 -1 -1 -1 -1 -1 -1  1]\n"
     ]
    }
   ],
   "source": [
    "from sklearn.datasets import load_breast_cancer\n",
    "data = load_breast_cancer()\n",
    "y = data.target\n",
    "\n",
    "print(data.target_names)\n",
    "print(data.target.shape)\n",
    "print(data.data.shape)\n",
    "print(y[:20])\n",
    "alpha=np.logspace(-2,2,5)\n",
    "print(alpha)\n",
    "\n",
    "y[y==0] = -1\n",
    "print(y[:20])\n",
    "\n",
    "scaler = StandardScaler()\n",
    "X = scaler.fit_transform(data.data)\n"
   ]
  },
  {
   "cell_type": "code",
   "execution_count": null,
   "metadata": {},
   "outputs": [],
   "source": []
  },
  {
   "cell_type": "code",
   "execution_count": null,
   "metadata": {},
   "outputs": [],
   "source": []
  },
  {
   "cell_type": "code",
   "execution_count": null,
   "metadata": {},
   "outputs": [],
   "source": []
  },
  {
   "cell_type": "code",
   "execution_count": 23,
   "metadata": {},
   "outputs": [
    {
     "name": "stdout",
     "output_type": "stream",
     "text": [
      "[10.38 17.77 21.25 20.38 14.34 15.7  19.98 20.83 21.82 24.04 23.24 17.89\n",
      " 24.8  23.95 22.61 27.54 20.13 20.68 22.15 14.36]\n",
      "19.289648506151142\n",
      "4.297254637090421\n"
     ]
    }
   ],
   "source": [
    "a = data.data[:, 1]\n",
    "print(a[:20])\n",
    "print(np.mean(a))\n",
    "print(np.std(a))\n"
   ]
  },
  {
   "cell_type": "code",
   "execution_count": 57,
   "metadata": {},
   "outputs": [],
   "source": []
  },
  {
   "cell_type": "code",
   "execution_count": 25,
   "metadata": {},
   "outputs": [
    {
     "name": "stdout",
     "output_type": "stream",
     "text": [
      "[-2.07333501 -0.35363241  0.45618695  0.25373211 -1.15181643 -0.8353353\n",
      "  0.16064943  0.35845013  0.58882978  1.10543868  0.91927331 -0.3257076\n",
      "  1.28229578  1.08449508  0.77266808  1.91991217  0.19555543  0.32354413\n",
      "  0.66562299 -1.1471623 ]\n",
      "-6.5684618455151616e-15\n",
      "1.0000000000000002\n"
     ]
    }
   ],
   "source": [
    "a = X[:, 1]\n",
    "print(a[:20])\n",
    "print(np.mean(a))\n",
    "print(np.std(a))"
   ]
  },
  {
   "cell_type": "code",
   "execution_count": 26,
   "metadata": {},
   "outputs": [],
   "source": [
    "X_train, X_test, y_train, y_test = train_test_split(X, y, random_state=SEED)"
   ]
  },
  {
   "cell_type": "code",
   "execution_count": 35,
   "metadata": {},
   "outputs": [
    {
     "name": "stdout",
     "output_type": "stream",
     "text": [
      "Правильность на обучающем наборе: 0.986\n",
      "Правильность на тестовом наборе: 0.979\n"
     ]
    }
   ],
   "source": [
    "C = 1\n",
    "logreg = LogisticRegression(C=C).fit(X_train, y_train)\n",
    "print(\"Правильность на обучающем наборе: {:.3f}\".format(logreg.score(X_train, y_train)))\n",
    "print(\"Правильность на тестовом наборе: {:.3f}\".format(logreg.score(X_test, y_test)))"
   ]
  },
  {
   "cell_type": "code",
   "execution_count": 28,
   "metadata": {},
   "outputs": [
    {
     "name": "stdout",
     "output_type": "stream",
     "text": [
      "Правильность на обучающем наборе: 0.995\n",
      "Правильность на тестовом наборе: 0.958\n"
     ]
    }
   ],
   "source": [
    "C = 100\n",
    "logreg = LogisticRegression(C=C).fit(X_train, y_train)\n",
    "print(\"Правильность на обучающем наборе: {:.3f}\".format(logreg.score(X_train, y_train)))\n",
    "print(\"Правильность на тестовом наборе: {:.3f}\".format(logreg.score(X_test, y_test)))"
   ]
  },
  {
   "cell_type": "code",
   "execution_count": 48,
   "metadata": {},
   "outputs": [
    {
     "name": "stdout",
     "output_type": "stream",
     "text": [
      "0.9790209790209791\n",
      "Правильность на обучающем наборе: 0.965\n",
      "Правильность на тестовом наборе: 0.979\n"
     ]
    }
   ],
   "source": [
    "C = 0.01\n",
    "logreg = LogisticRegression(C=C).fit(X_train, y_train)\n",
    "y_pred = logreg.predict(X_test)\n",
    "acc = accuracy_score(y_test, y_pred)\n",
    "print(acc)\n",
    "print(\"Правильность на обучающем наборе: {:.3f}\".format(logreg.score(X_train, y_train)))\n",
    "print(\"Правильность на тестовом наборе: {:.3f}\".format(logreg.score(X_test, y_test)))"
   ]
  },
  {
   "cell_type": "code",
   "execution_count": 30,
   "metadata": {},
   "outputs": [
    {
     "name": "stdout",
     "output_type": "stream",
     "text": [
      "[[-0.20281331 -0.17412899 -0.20146812 -0.19904442 -0.09227407 -0.08884559\n",
      "  -0.16690077 -0.21853512 -0.0653056   0.06925087 -0.17509749  0.00087748\n",
      "  -0.14561898 -0.15708155  0.00465857  0.02817297  0.02071811 -0.04587342\n",
      "   0.02172166  0.0781341  -0.23314274 -0.21035592 -0.22278638 -0.21696288\n",
      "  -0.16056587 -0.12513169 -0.17113471 -0.2241984  -0.17052226 -0.060754  ]]\n",
      "[0.17446343]\n"
     ]
    }
   ],
   "source": [
    "print(logreg.coef_)\n",
    "print(logreg.intercept_)"
   ]
  },
  {
   "cell_type": "code",
   "execution_count": 33,
   "metadata": {},
   "outputs": [
    {
     "data": {
      "text/plain": [
       "0.9790209790209791"
      ]
     },
     "execution_count": 33,
     "metadata": {},
     "output_type": "execute_result"
    }
   ],
   "source": [
    "def model(x):\n",
    "    return 1 / (1 + np.exp(-x))\n",
    "\n",
    "w = logreg.coef_\n",
    "c = logreg.intercept_\n",
    "\n",
    "z = np.dot(X_test, w.T) + c\n",
    "y_prob = model(z).ravel()\n",
    "\n",
    "pred = np.ones(y_test.shape)\n",
    "pred[y_prob < 0.5] = -1\n",
    "#print(pred)\n",
    "#print(y_test)\n",
    "accuracy_score(y_test, pred)"
   ]
  },
  {
   "cell_type": "code",
   "execution_count": 32,
   "metadata": {},
   "outputs": [],
   "source": [
    "def Loss(C, X1, y1):\n",
    "    w = logreg.coef_\n",
    "    c = logreg.intercept_\n",
    "    z = np.dot(X1, w.T) + c\n",
    "\n",
    "    reg = np.dot(w, w.T).ravel()\n",
    "    loss = np.log( 1 + np.exp( - z.ravel() * y1 ) )\n",
    "    return reg + C * np.sum(loss)"
   ]
  },
  {
   "cell_type": "code",
   "execution_count": 36,
   "metadata": {},
   "outputs": [
    {
     "name": "stdout",
     "output_type": "stream",
     "text": [
      "C= 1\n",
      "L_S2= [37.68034841]\n",
      "L_S1= [23.17392546]\n"
     ]
    }
   ],
   "source": [
    "print('C=', C)\n",
    "print('L_S2=', Loss(C, X_train, y_train))\n",
    "print('L_S1=', Loss(C, X_test, y_test))"
   ]
  },
  {
   "cell_type": "code",
   "execution_count": null,
   "metadata": {},
   "outputs": [],
   "source": []
  },
  {
   "cell_type": "code",
   "execution_count": null,
   "metadata": {},
   "outputs": [],
   "source": []
  },
  {
   "cell_type": "code",
   "execution_count": 66,
   "metadata": {},
   "outputs": [
    {
     "name": "stdout",
     "output_type": "stream",
     "text": [
      "-0.050966608084358524 0.9987003578953877 [-1.  1. -1.  1. -1. -1.  1. -1. -1.  1.  1.  1. -1. -1.  1. -1. -1. -1.\n",
      "  1. -1.]\n"
     ]
    }
   ],
   "source": [
    "# Белый шум\n",
    "def RR(n):\n",
    "    rr = np.ones(n)\n",
    "    a = np.random.rand(n)\n",
    "    rr[a < 0.5] = -1\n",
    "    return rr\n",
    "\n",
    "M = y.shape[0]\n",
    "y_rr = RR(M)\n",
    "m = np.mean(y_rr)\n",
    "std = np.std(y_rr)\n",
    "print(m, std, y_rr[:20])"
   ]
  },
  {
   "cell_type": "code",
   "execution_count": 42,
   "metadata": {},
   "outputs": [
    {
     "data": {
      "text/plain": [
       "569"
      ]
     },
     "execution_count": 42,
     "metadata": {},
     "output_type": "execute_result"
    }
   ],
   "source": [
    "y.shape[0]"
   ]
  },
  {
   "cell_type": "code",
   "execution_count": 53,
   "metadata": {},
   "outputs": [
    {
     "name": "stdout",
     "output_type": "stream",
     "text": [
      "100 0.9912126537785588\n"
     ]
    }
   ],
   "source": [
    "# Правильность на всей выборке как учебной\n",
    "C = 100\n",
    "logreg = LogisticRegression(C=C).fit(X, y)\n",
    "y_pred = logreg.predict(X)\n",
    "acc = accuracy_score(y, y_pred)\n",
    "print(C, acc)"
   ]
  },
  {
   "cell_type": "code",
   "execution_count": 79,
   "metadata": {},
   "outputs": [
    {
     "name": "stdout",
     "output_type": "stream",
     "text": [
      "100.0 0.5729349736379613\n"
     ]
    }
   ],
   "source": [
    "y_rr = RR(M)\n",
    "logreg = LogisticRegression(C=C).fit(X, y_rr)\n",
    "y_pred = logreg.predict(X)\n",
    "acc = accuracy_score(y_rr, y_pred)\n",
    "print(C, acc)\n"
   ]
  },
  {
   "cell_type": "code",
   "execution_count": null,
   "metadata": {},
   "outputs": [],
   "source": []
  },
  {
   "cell_type": "code",
   "execution_count": 72,
   "metadata": {},
   "outputs": [
    {
     "name": "stdout",
     "output_type": "stream",
     "text": [
      "C= 0.01 acc= 0.9701230228471002\n",
      "C= 0.1 acc= 0.9859402460456942\n",
      "C= 1.0 acc= 0.9876977152899824\n",
      "C= 10.0 acc= 0.9912126537785588\n",
      "C= 100.0 acc= 0.9912126537785588\n"
     ]
    }
   ],
   "source": [
    "N = 100\n",
    "xx = []\n",
    "yy = []\n",
    "yy_std = []\n",
    "\n",
    "M = y.shape[0]\n",
    "\n",
    "for C in alpha:\n",
    "    xx.append(C)\n",
    "    logreg = LogisticRegression(C=C).fit(X, y)\n",
    "    acc = accuracy_score(y, logreg.predict(X))\n",
    "    print('C=', C, 'acc=', acc)\n",
    "    \n",
    "    zz = []\n",
    "    for i in range(N):\n",
    "        y_rr = RR(M)\n",
    "        logreg = LogisticRegression(C=C).fit(X, y_rr)\n",
    "        y_pred = logreg.predict(X)\n",
    "        s = np.dot(y_rr, y_pred) / M\n",
    "        zz.append(s)\n",
    "    m = np.mean(zz)        \n",
    "    std = np.std(zz)        \n",
    "    yy.append(m)\n",
    "    yy_std.append(std)\n"
   ]
  },
  {
   "cell_type": "code",
   "execution_count": 73,
   "metadata": {},
   "outputs": [
    {
     "name": "stdout",
     "output_type": "stream",
     "text": [
      "[0.01, 0.1, 1.0, 10.0, 100.0]\n",
      "[0.11434094903339193, 0.15075571177504393, 0.16442882249560636, 0.16815465729349735, 0.17943760984182774]\n",
      "[0.03201665224415009, 0.03309233852558181, 0.033197398477413764, 0.035461601059803304, 0.03957507003394901]\n"
     ]
    }
   ],
   "source": [
    "print(xx)\n",
    "print(yy)\n",
    "print(yy_std)"
   ]
  },
  {
   "cell_type": "code",
   "execution_count": 76,
   "metadata": {},
   "outputs": [
    {
     "name": "stdout",
     "output_type": "stream",
     "text": [
      "[0.21968365553602812, 0.18804920913884007, 0.19507908611599298, 0.1634446397188049, 0.17750439367311072]\n"
     ]
    }
   ],
   "source": [
    "print(zz[:5])"
   ]
  },
  {
   "cell_type": "code",
   "execution_count": 77,
   "metadata": {},
   "outputs": [
    {
     "data": {
      "image/png": "[encoded data removed]",
      "text/plain": [
       "<Figure size 432x288 with 1 Axes>"
      ]
     },
     "metadata": {
      "needs_background": "light"
     },
     "output_type": "display_data"
    }
   ],
   "source": [
    "plt.xlabel('C')\n",
    "plt.ylabel('RC')\n",
    "plt.title('Rademacher complexity')\n",
    "#plt.yscale('log')\n",
    "plt.xscale('log')\n",
    "plt.grid()\n",
    "plt.errorbar(xx, yy, yerr=yy_std, fmt='.r');"
   ]
  },
  {
   "cell_type": "code",
   "execution_count": null,
   "metadata": {},
   "outputs": [],
   "source": []
  },
  {
   "cell_type": "code",
   "execution_count": null,
   "metadata": {},
   "outputs": [],
   "source": []
  },
  {
   "cell_type": "code",
   "execution_count": null,
   "metadata": {},
   "outputs": [],
   "source": []
  },
  {
   "cell_type": "code",
   "execution_count": null,
   "metadata": {},
   "outputs": [],
   "source": []
  },
  {
   "cell_type": "code",
   "execution_count": null,
   "metadata": {},
   "outputs": [],
   "source": []
  },
  {
   "cell_type": "code",
   "execution_count": null,
   "metadata": {},
   "outputs": [],
   "source": []
  }
 ],
 "metadata": {
  "kernelspec": {
   "display_name": "Python 3",
   "language": "python",
   "name": "python3"
  },
  "language_info": {
   "codemirror_mode": {
    "name": "ipython",
    "version": 3
   },
   "file_extension": ".py",
   "mimetype": "text/x-python",
   "name": "python",
   "nbconvert_exporter": "python",
   "pygments_lexer": "ipython3",
   "version": "3.7.1"
  }
 },
 "nbformat": 4,
 "nbformat_minor": 2
}
